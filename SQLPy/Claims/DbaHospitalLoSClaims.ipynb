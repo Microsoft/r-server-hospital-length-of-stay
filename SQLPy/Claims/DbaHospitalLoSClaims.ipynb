{
    "metadata": {
        "kernelspec": {
            "name": "SQL",
            "display_name": "SQL",
            "language": "sql"
        },
        "language_info": {
            "name": "sql",
            "version": ""
        }
    },
    "nbformat_minor": 2,
    "nbformat": 4,
    "cells": [
        {
            "cell_type": "code",
            "source": [
                "if db_id('Hospital_Py') is null create database Hospital_Py;"
            ],
            "metadata": {
                "azdata_cell_guid": "6b12bebc-aeaf-476e-a4a5-bb2dcaec6ee0"
            },
            "outputs": [
                {
                    "output_type": "display_data",
                    "data": {
                        "text/html": "Commands completed successfully."
                    },
                    "metadata": {}
                },
                {
                    "output_type": "display_data",
                    "data": {
                        "text/html": "Total execution time: 00:00:00.674"
                    },
                    "metadata": {}
                }
            ],
            "execution_count": 2
        },
        {
            "cell_type": "code",
            "source": [
                "USE [Hospital_Py]"
            ],
            "metadata": {
                "azdata_cell_guid": "1a21e7f3-a372-4541-84d8-96b95cfbb4e7"
            },
            "outputs": [
                {
                    "output_type": "display_data",
                    "data": {
                        "text/html": "Commands completed successfully."
                    },
                    "metadata": {}
                },
                {
                    "output_type": "display_data",
                    "data": {
                        "text/html": "Total execution time: 00:00:00.872"
                    },
                    "metadata": {}
                }
            ],
            "execution_count": 1
        },
        {
            "cell_type": "markdown",
            "source": [
                "#### Note: Steps to configure instance (enable spees + clr) and grant SQLRGroup access completed prior. (Ref: [ActionScripts](https://github.com/microsoft/r-server-hospital-length-of-stay/tree/master/Resources/ActionScripts))\n",
                "\n",
                "## [Step 0](https://microsoft.github.io/r-server-hospital-length-of-stay/dba.html)\n",
                "\n",
                "##### Create objects, load data, compute stats."
            ],
            "metadata": {
                "azdata_cell_guid": "b0cb0b87-ad6e-4169-9b44-8fdfcaf64312"
            }
        },
        {
            "cell_type": "code",
            "source": [
                "set nocount on;\r\n",
                "exec dbo.compute_stats\r\n",
                "select * from stats\r\n",
                "select * from statsbak"
            ],
            "metadata": {
                "azdata_cell_guid": "351f5452-95a0-42d2-a9b2-fd54e4470745"
            },
            "outputs": [
                {
                    "output_type": "display_data",
                    "data": {
                        "text/html": "Commands completed successfully."
                    },
                    "metadata": {}
                },
                {
                    "output_type": "display_data",
                    "data": {
                        "text/html": "Total execution time: 00:00:00.411"
                    },
                    "metadata": {}
                },
                {
                    "output_type": "execute_result",
                    "execution_count": 34,
                    "data": {
                        "application/vnd.dataresource+json": {
                            "schema": {
                                "fields": [
                                    {
                                        "name": "variable_name"
                                    },
                                    {
                                        "name": "type"
                                    },
                                    {
                                        "name": "mode"
                                    },
                                    {
                                        "name": "mean"
                                    },
                                    {
                                        "name": "std"
                                    }
                                ]
                            },
                            "data": [
                                {
                                    "0": "ClaimClaimStatusID",
                                    "1": "int",
                                    "2": "2",
                                    "3": "NULL",
                                    "4": "NULL"
                                },
                                {
                                    "0": "ClaimStatusDescription",
                                    "1": "varchar",
                                    "2": "Closed",
                                    "3": "NULL",
                                    "4": "NULL"
                                },
                                {
                                    "0": "StatesStateCode",
                                    "1": "varchar",
                                    "2": "FL",
                                    "3": "NULL",
                                    "4": "NULL"
                                },
                                {
                                    "0": "ClaimRoomsWithDamage",
                                    "1": "smallint",
                                    "2": "0",
                                    "3": "1",
                                    "4": "1.3240661742950535"
                                },
                                {
                                    "0": "LossTypeDescription",
                                    "1": "varchar",
                                    "2": "Wind",
                                    "3": "NULL",
                                    "4": "NULL"
                                },
                                {
                                    "0": "PolicyVersionAttributesFormType",
                                    "1": "varchar",
                                    "2": "HO3",
                                    "3": "NULL",
                                    "4": "NULL"
                                },
                                {
                                    "0": "PolicyVersionAttributesOccupancyType",
                                    "1": "varchar",
                                    "2": "Owner",
                                    "3": "NULL",
                                    "4": "NULL"
                                },
                                {
                                    "0": "PolicyVersionAttributesCoverageA",
                                    "1": "float",
                                    "2": "NULL",
                                    "3": "181559.15607599998",
                                    "4": "245711.62649245863"
                                },
                                {
                                    "0": "ClaimMoneyReserve",
                                    "1": "decimal",
                                    "2": "NULL",
                                    "3": "0",
                                    "4": "0"
                                },
                                {
                                    "0": "ClaimMoneyLosses",
                                    "1": "decimal",
                                    "2": "NULL",
                                    "3": "13939.741116",
                                    "4": "32793.82588103388"
                                },
                                {
                                    "0": "ClaimMoneyLAE",
                                    "1": "decimal",
                                    "2": "NULL",
                                    "3": "1545.828469",
                                    "4": "2333.6188373066548"
                                }
                            ]
                        },
                        "text/html": "<table><tr><th>variable_name</th><th>type</th><th>mode</th><th>mean</th><th>std</th></tr><tr><td>ClaimClaimStatusID</td><td>int</td><td>2</td><td>NULL</td><td>NULL</td></tr><tr><td>ClaimStatusDescription</td><td>varchar</td><td>Closed</td><td>NULL</td><td>NULL</td></tr><tr><td>StatesStateCode</td><td>varchar</td><td>FL</td><td>NULL</td><td>NULL</td></tr><tr><td>ClaimRoomsWithDamage</td><td>smallint</td><td>0</td><td>1</td><td>1.3240661742950535</td></tr><tr><td>LossTypeDescription</td><td>varchar</td><td>Wind</td><td>NULL</td><td>NULL</td></tr><tr><td>PolicyVersionAttributesFormType</td><td>varchar</td><td>HO3</td><td>NULL</td><td>NULL</td></tr><tr><td>PolicyVersionAttributesOccupancyType</td><td>varchar</td><td>Owner</td><td>NULL</td><td>NULL</td></tr><tr><td>PolicyVersionAttributesCoverageA</td><td>float</td><td>NULL</td><td>181559.15607599998</td><td>245711.62649245863</td></tr><tr><td>ClaimMoneyReserve</td><td>decimal</td><td>NULL</td><td>0</td><td>0</td></tr><tr><td>ClaimMoneyLosses</td><td>decimal</td><td>NULL</td><td>13939.741116</td><td>32793.82588103388</td></tr><tr><td>ClaimMoneyLAE</td><td>decimal</td><td>NULL</td><td>1545.828469</td><td>2333.6188373066548</td></tr></table>"
                    },
                    "metadata": {}
                },
                {
                    "output_type": "execute_result",
                    "execution_count": 34,
                    "data": {
                        "application/vnd.dataresource+json": {
                            "schema": {
                                "fields": [
                                    {
                                        "name": "variable_name"
                                    },
                                    {
                                        "name": "type"
                                    },
                                    {
                                        "name": "mode"
                                    },
                                    {
                                        "name": "mean"
                                    },
                                    {
                                        "name": "std"
                                    }
                                ]
                            },
                            "data": [
                                {
                                    "0": "rcount",
                                    "1": "varchar",
                                    "2": "0",
                                    "3": "NULL",
                                    "4": "NULL"
                                },
                                {
                                    "0": "gender",
                                    "1": "varchar",
                                    "2": "F",
                                    "3": "NULL",
                                    "4": "NULL"
                                },
                                {
                                    "0": "dialysisrenalendstage",
                                    "1": "varchar",
                                    "2": "0",
                                    "3": "NULL",
                                    "4": "NULL"
                                },
                                {
                                    "0": "asthma",
                                    "1": "varchar",
                                    "2": "0",
                                    "3": "NULL",
                                    "4": "NULL"
                                },
                                {
                                    "0": "irondef",
                                    "1": "varchar",
                                    "2": "0",
                                    "3": "NULL",
                                    "4": "NULL"
                                },
                                {
                                    "0": "pneum",
                                    "1": "varchar",
                                    "2": "0",
                                    "3": "NULL",
                                    "4": "NULL"
                                },
                                {
                                    "0": "substancedependence",
                                    "1": "varchar",
                                    "2": "0",
                                    "3": "NULL",
                                    "4": "NULL"
                                },
                                {
                                    "0": "psychologicaldisordermajor",
                                    "1": "varchar",
                                    "2": "0",
                                    "3": "NULL",
                                    "4": "NULL"
                                },
                                {
                                    "0": "depress",
                                    "1": "varchar",
                                    "2": "0",
                                    "3": "NULL",
                                    "4": "NULL"
                                },
                                {
                                    "0": "psychother",
                                    "1": "varchar",
                                    "2": "0",
                                    "3": "NULL",
                                    "4": "NULL"
                                },
                                {
                                    "0": "fibrosisandother",
                                    "1": "varchar",
                                    "2": "0",
                                    "3": "NULL",
                                    "4": "NULL"
                                },
                                {
                                    "0": "malnutrition",
                                    "1": "varchar",
                                    "2": "0",
                                    "3": "NULL",
                                    "4": "NULL"
                                },
                                {
                                    "0": "hemo",
                                    "1": "varchar",
                                    "2": "0",
                                    "3": "NULL",
                                    "4": "NULL"
                                },
                                {
                                    "0": "hematocrit",
                                    "1": "float",
                                    "2": "NULL",
                                    "3": "11.97593859999955",
                                    "4": "2.031791959390775"
                                },
                                {
                                    "0": "neutrophils",
                                    "1": "float",
                                    "2": "NULL",
                                    "3": "10.177455441672013",
                                    "4": "5.353130953890833"
                                },
                                {
                                    "0": "sodium",
                                    "1": "float",
                                    "2": "NULL",
                                    "3": "137.8913971379217",
                                    "4": "2.999668645699427"
                                },
                                {
                                    "0": "glucose",
                                    "1": "float",
                                    "2": "NULL",
                                    "3": "141.96338406726687",
                                    "4": "29.99299604953295"
                                },
                                {
                                    "0": "bloodureanitro",
                                    "1": "float",
                                    "2": "NULL",
                                    "3": "14.097184619042647",
                                    "4": "12.952454362841966"
                                },
                                {
                                    "0": "creatinine",
                                    "1": "float",
                                    "2": "NULL",
                                    "3": "1.099349876496964",
                                    "4": "0.20026174508687172"
                                },
                                {
                                    "0": "bmi",
                                    "1": "float",
                                    "2": "NULL",
                                    "3": "29.805759307688284",
                                    "4": "2.0037690557449914"
                                },
                                {
                                    "0": "pulse",
                                    "1": "float",
                                    "2": "NULL",
                                    "3": "73.44472",
                                    "4": "11.644554954063345"
                                },
                                {
                                    "0": "respiration",
                                    "1": "float",
                                    "2": "NULL",
                                    "3": "6.493767916666607",
                                    "4": "0.5684729389647267"
                                },
                                {
                                    "0": "secondarydiagnosisnonicd9",
                                    "1": "varchar",
                                    "2": "1",
                                    "3": "NULL",
                                    "4": "NULL"
                                },
                                {
                                    "0": "facid",
                                    "1": "varchar",
                                    "2": "E",
                                    "3": "NULL",
                                    "4": "NULL"
                                }
                            ]
                        },
                        "text/html": "<table><tr><th>variable_name</th><th>type</th><th>mode</th><th>mean</th><th>std</th></tr><tr><td>rcount</td><td>varchar</td><td>0</td><td>NULL</td><td>NULL</td></tr><tr><td>gender</td><td>varchar</td><td>F</td><td>NULL</td><td>NULL</td></tr><tr><td>dialysisrenalendstage</td><td>varchar</td><td>0</td><td>NULL</td><td>NULL</td></tr><tr><td>asthma</td><td>varchar</td><td>0</td><td>NULL</td><td>NULL</td></tr><tr><td>irondef</td><td>varchar</td><td>0</td><td>NULL</td><td>NULL</td></tr><tr><td>pneum</td><td>varchar</td><td>0</td><td>NULL</td><td>NULL</td></tr><tr><td>substancedependence</td><td>varchar</td><td>0</td><td>NULL</td><td>NULL</td></tr><tr><td>psychologicaldisordermajor</td><td>varchar</td><td>0</td><td>NULL</td><td>NULL</td></tr><tr><td>depress</td><td>varchar</td><td>0</td><td>NULL</td><td>NULL</td></tr><tr><td>psychother</td><td>varchar</td><td>0</td><td>NULL</td><td>NULL</td></tr><tr><td>fibrosisandother</td><td>varchar</td><td>0</td><td>NULL</td><td>NULL</td></tr><tr><td>malnutrition</td><td>varchar</td><td>0</td><td>NULL</td><td>NULL</td></tr><tr><td>hemo</td><td>varchar</td><td>0</td><td>NULL</td><td>NULL</td></tr><tr><td>hematocrit</td><td>float</td><td>NULL</td><td>11.97593859999955</td><td>2.031791959390775</td></tr><tr><td>neutrophils</td><td>float</td><td>NULL</td><td>10.177455441672013</td><td>5.353130953890833</td></tr><tr><td>sodium</td><td>float</td><td>NULL</td><td>137.8913971379217</td><td>2.999668645699427</td></tr><tr><td>glucose</td><td>float</td><td>NULL</td><td>141.96338406726687</td><td>29.99299604953295</td></tr><tr><td>bloodureanitro</td><td>float</td><td>NULL</td><td>14.097184619042647</td><td>12.952454362841966</td></tr><tr><td>creatinine</td><td>float</td><td>NULL</td><td>1.099349876496964</td><td>0.20026174508687172</td></tr><tr><td>bmi</td><td>float</td><td>NULL</td><td>29.805759307688284</td><td>2.0037690557449914</td></tr><tr><td>pulse</td><td>float</td><td>NULL</td><td>73.44472</td><td>11.644554954063345</td></tr><tr><td>respiration</td><td>float</td><td>NULL</td><td>6.493767916666607</td><td>0.5684729389647267</td></tr><tr><td>secondarydiagnosisnonicd9</td><td>varchar</td><td>1</td><td>NULL</td><td>NULL</td></tr><tr><td>facid</td><td>varchar</td><td>E</td><td>NULL</td><td>NULL</td></tr></table>"
                    },
                    "metadata": {}
                }
            ],
            "execution_count": 34
        },
        {
            "cell_type": "code",
            "source": [
                "-- runs all steps below. preprocessing, clearnin, feature engineering, training, scoring & evaluating.\r\n",
                "-- exec Initial_Run_Once_Py"
            ],
            "metadata": {
                "azdata_cell_guid": "26a8d27d-483c-4ec1-a180-d3101523bf50"
            },
            "outputs": [],
            "execution_count": null
        },
        {
            "cell_type": "markdown",
            "source": [
                "## [Step 1](https://github.com/microsoft/r-server-hospital-length-of-stay/blob/master/SQLPy/step1_data_processing.sql)\r\n",
                "##### Preprocessing and Cleaning"
            ],
            "metadata": {
                "azdata_cell_guid": "ba405b71-f949-40cf-8dca-67dfa5b918c3"
            }
        },
        {
            "cell_type": "code",
            "source": [
                "EXEC [dbo].[fill_NA_mode_mean] @input='LengthOfStay', @output = 'LoS0';"
            ],
            "metadata": {
                "azdata_cell_guid": "92a3b1e4-4428-42b0-a94f-f006181506fb"
            },
            "outputs": [
                {
                    "output_type": "display_data",
                    "data": {
                        "text/html": "Commands completed successfully."
                    },
                    "metadata": {}
                },
                {
                    "output_type": "display_data",
                    "data": {
                        "text/html": "Total execution time: 00:00:00.110"
                    },
                    "metadata": {}
                }
            ],
            "execution_count": 41
        },
        {
            "cell_type": "markdown",
            "source": [
                "## [Step 2](https://github.com/microsoft/r-server-hospital-length-of-stay/blob/master/SQLPy/step2_feature_engineering.sql)\r\n",
                "##### Feature Engineering ([Diagrams](https://microsoft.github.io/r-server-hospital-length-of-stay/data-scientist.html))"
            ],
            "metadata": {
                "azdata_cell_guid": "13f7d36f-d15b-4d71-8c6d-78d62196dcff"
            }
        },
        {
            "cell_type": "code",
            "source": [
                "EXEC [dbo].[feature_engineering]  @input = 'LoS0', @output = 'LoS', @is_production = '0';\r\n",
                "EXEC [dbo].[get_column_info] @input = 'LoS';"
            ],
            "metadata": {
                "azdata_cell_guid": "dbbd4174-802c-4511-a462-d8af5cb63d57"
            },
            "outputs": [
                {
                    "output_type": "display_data",
                    "data": {
                        "text/html": "Commands completed successfully."
                    },
                    "metadata": {}
                },
                {
                    "output_type": "display_data",
                    "data": {
                        "text/html": "Total execution time: 00:00:00.343"
                    },
                    "metadata": {}
                }
            ],
            "execution_count": 42
        },
        {
            "cell_type": "markdown",
            "source": [
                "## Step 3\n",
                "\n",
                "##### a. [Splitting](https://github.com/microsoft/r-server-hospital-length-of-stay/blob/master/SQLPy/step3a_splitting.sql), b. [Training](https://github.com/microsoft/r-server-hospital-length-of-stay/blob/master/SQLPy/step3b_training.sql), c. [Scoring](https://github.com/microsoft/r-server-hospital-length-of-stay/blob/master/SQLPy/step3c_scoring.sql), d. [Evaluating](https://github.com/microsoft/r-server-hospital-length-of-stay/blob/master/SQLPy/step3d_evaluating.sql)"
            ],
            "metadata": {
                "azdata_cell_guid": "56f8344e-97e5-4eb1-b1a7-f21b8316308c"
            }
        },
        {
            "cell_type": "code",
            "source": [
                "EXEC [dbo].[splitting] @splitting_percent = 70, @input = 'LoS';"
            ],
            "metadata": {
                "azdata_cell_guid": "babcda0e-2f4b-4fd7-9af1-ed558585a6f9"
            },
            "outputs": [
                {
                    "output_type": "display_data",
                    "data": {
                        "text/html": "(70026 rows affected)"
                    },
                    "metadata": {}
                },
                {
                    "output_type": "display_data",
                    "data": {
                        "text/html": "Total execution time: 00:00:00.097"
                    },
                    "metadata": {}
                }
            ],
            "execution_count": 20
        },
        {
            "cell_type": "code",
            "source": [
                "exec [dbo].[train_model] @model_name = 'RF', @dataset_name = 'LoS'; -- Dev svr Total execution time: 00:00:35.689\r\n",
                "select getdate();"
            ],
            "metadata": {
                "azdata_cell_guid": "daf37425-0454-451a-a7a0-2092f8e92f3f"
            },
            "outputs": [],
            "execution_count": null
        },
        {
            "cell_type": "code",
            "source": [
                "select model_name, (datalength(model)/1024)/1024 as MB  from models where model_name = 'RF';\r\n",
                "go\r\n",
                "SELECT last_user_update\r\n",
                "FROM   sys.dm_db_index_usage_stats us\r\n",
                "    JOIN sys.tables t\r\n",
                "        ON t.object_id = us.object_id\r\n",
                "WHERE  database_id = db_id()\r\n",
                "    AND t.object_id = object_id('dbo.models') "
            ],
            "metadata": {
                "azdata_cell_guid": "bd919e30-b261-4ae2-8caa-44deaad6cebd"
            },
            "outputs": [
                {
                    "output_type": "display_data",
                    "data": {
                        "text/html": "Commands completed successfully."
                    },
                    "metadata": {}
                },
                {
                    "output_type": "display_data",
                    "data": {
                        "text/html": "Commands completed successfully."
                    },
                    "metadata": {}
                },
                {
                    "output_type": "display_data",
                    "data": {
                        "text/html": "Total execution time: 00:00:00.130"
                    },
                    "metadata": {}
                },
                {
                    "output_type": "execute_result",
                    "execution_count": 46,
                    "data": {
                        "application/vnd.dataresource+json": {
                            "schema": {
                                "fields": [
                                    {
                                        "name": "model_name"
                                    },
                                    {
                                        "name": "MB"
                                    }
                                ]
                            },
                            "data": [
                                {
                                    "0": "RF",
                                    "1": "2"
                                }
                            ]
                        },
                        "text/html": "<table><tr><th>model_name</th><th>MB</th></tr><tr><td>RF</td><td>2</td></tr></table>"
                    },
                    "metadata": {}
                },
                {
                    "output_type": "execute_result",
                    "execution_count": 46,
                    "data": {
                        "application/vnd.dataresource+json": {
                            "schema": {
                                "fields": [
                                    {
                                        "name": "last_user_update"
                                    }
                                ]
                            },
                            "data": [
                                {
                                    "0": "2021-03-11 19:25:20.960"
                                }
                            ]
                        },
                        "text/html": "<table><tr><th>last_user_update</th></tr><tr><td>2021-03-11 19:25:20.960</td></tr></table>"
                    },
                    "metadata": {}
                }
            ],
            "execution_count": null
        },
        {
            "cell_type": "code",
            "source": [
                "use Hospital_Py\r\n",
                "go\r\n",
                "exec sp_rename 'Forest_Prediction', 'Forest_PredictionBak'"
            ],
            "metadata": {
                "azdata_cell_guid": "7744e03c-2871-4e28-a7e4-ccfafb5c2c18"
            },
            "outputs": [
                {
                    "output_type": "display_data",
                    "data": {
                        "text/html": "Commands completed successfully."
                    },
                    "metadata": {}
                },
                {
                    "output_type": "display_data",
                    "data": {
                        "text/html": "Caution: Changing any part of an object name could break scripts and stored procedures."
                    },
                    "metadata": {}
                },
                {
                    "output_type": "display_data",
                    "data": {
                        "text/html": "Total execution time: 00:00:00.032"
                    },
                    "metadata": {}
                }
            ],
            "execution_count": 1
        },
        {
            "cell_type": "code",
            "source": [
                "SELECT count(*) FROM LoS WHERE ClaimClaimID NOT IN (SELECT ClaimClaimID FROM Train_Id)"
            ],
            "metadata": {
                "azdata_cell_guid": "5f475f9b-839c-4c69-b51f-768acfd84b05"
            },
            "outputs": [
                {
                    "output_type": "display_data",
                    "data": {
                        "text/html": "(1 row affected)"
                    },
                    "metadata": {}
                },
                {
                    "output_type": "display_data",
                    "data": {
                        "text/html": "Total execution time: 00:00:00.742"
                    },
                    "metadata": {}
                },
                {
                    "output_type": "execute_result",
                    "execution_count": 7,
                    "data": {
                        "application/vnd.dataresource+json": {
                            "schema": {
                                "fields": [
                                    {
                                        "name": "(No column name)"
                                    }
                                ]
                            },
                            "data": [
                                {
                                    "0": "29974"
                                }
                            ]
                        },
                        "text/html": "<table><tr><th>(No column name)</th></tr><tr><td>29974</td></tr></table>"
                    },
                    "metadata": {}
                }
            ],
            "execution_count": null
        },
        {
            "cell_type": "code",
            "source": [
                "EXEC [dbo].[score] @model_name = 'RF',\r\n",
                "\t@inquery = 'SELECT * FROM LoS WHERE ClaimClaimID NOT IN (SELECT ClaimClaimID FROM Train_Id)',\r\n",
                "\t@output = 'Forest_Prediction';"
            ],
            "metadata": {
                "azdata_cell_guid": "9ce12764-b220-4390-b4b6-1524ca641ad5"
            },
            "outputs": [
                {
                    "output_type": "display_data",
                    "data": {
                        "text/html": "STDERR message(s) from external script: \nD:\\Program Files\\Microsoft SQL Server\\MSSQL15.MSSQLSERVER\\PYTHON_SERVICES\\lib\\site-packages\\revoscalepy\\functions\\RxDTree.py:91: FutureWarning: Method .as_matrix will be removed in a future version. Use .values instead.\r\n  number_ordered_splits = sum([is_ordered.as_matrix()[0][int(x - 1)] for x in (isplit[:, 0])])\r"
                    },
                    "metadata": {}
                },
                {
                    "output_type": "display_data",
                    "data": {
                        "text/html": "STDOUT message(s) from external script: \nRows Read: 29974, Total Rows Processed: 29974, Total Chunk Time: 1.935 seconds\r\nTotal Rows written: 29974, Total time: 0.606\r\n \r"
                    },
                    "metadata": {}
                },
                {
                    "output_type": "display_data",
                    "data": {
                        "text/html": "Total execution time: 00:00:09.715"
                    },
                    "metadata": {}
                }
            ],
            "execution_count": 2
        },
        {
            "cell_type": "code",
            "source": [
                "select top 20 * from Forest_Prediction"
            ],
            "metadata": {
                "azdata_cell_guid": "fcd80a1a-384e-45ee-9082-9a099583a200"
            },
            "outputs": [
                {
                    "output_type": "display_data",
                    "data": {
                        "text/html": "(20 rows affected)"
                    },
                    "metadata": {}
                },
                {
                    "output_type": "display_data",
                    "data": {
                        "text/html": "Total execution time: 00:00:00.033"
                    },
                    "metadata": {}
                },
                {
                    "output_type": "execute_result",
                    "execution_count": 6,
                    "data": {
                        "application/vnd.dataresource+json": {
                            "schema": {
                                "fields": [
                                    {
                                        "name": "lengthofstay_Pred"
                                    },
                                    {
                                        "name": "lengthofstay"
                                    },
                                    {
                                        "name": "ClaimClaimID"
                                    }
                                ]
                            },
                            "data": [
                                {
                                    "0": "17.30743474477387",
                                    "1": "9",
                                    "2": "420205"
                                },
                                {
                                    "0": "19.11814350187633",
                                    "1": "15",
                                    "2": "478629"
                                },
                                {
                                    "0": "30.97463748640614",
                                    "1": "40",
                                    "2": "426634"
                                },
                                {
                                    "0": "16.935966505913527",
                                    "1": "4",
                                    "2": "421147"
                                },
                                {
                                    "0": "17.30743474477387",
                                    "1": "9",
                                    "2": "468226"
                                },
                                {
                                    "0": "16.935966505913527",
                                    "1": "4",
                                    "2": "481943"
                                },
                                {
                                    "0": "16.935966505913527",
                                    "1": "7",
                                    "2": "429033"
                                },
                                {
                                    "0": "16.935966505913527",
                                    "1": "0",
                                    "2": "426435"
                                },
                                {
                                    "0": "17.60621439720507",
                                    "1": "12",
                                    "2": "473187"
                                },
                                {
                                    "0": "59.00441803777379",
                                    "1": "71",
                                    "2": "470174"
                                },
                                {
                                    "0": "16.935966505913527",
                                    "1": "2",
                                    "2": "419174"
                                },
                                {
                                    "0": "21.337629221935554",
                                    "1": "23",
                                    "2": "489122"
                                },
                                {
                                    "0": "16.935966505913527",
                                    "1": "7",
                                    "2": "473455"
                                },
                                {
                                    "0": "16.935966505913527",
                                    "1": "5",
                                    "2": "421129"
                                },
                                {
                                    "0": "16.935966505913527",
                                    "1": "4",
                                    "2": "434170"
                                },
                                {
                                    "0": "38.89332193352329",
                                    "1": "50",
                                    "2": "468780"
                                },
                                {
                                    "0": "16.935966505913527",
                                    "1": "6",
                                    "2": "474568"
                                },
                                {
                                    "0": "46.79910544933255",
                                    "1": "56",
                                    "2": "448097"
                                },
                                {
                                    "0": "23.54720870761334",
                                    "1": "28",
                                    "2": "418926"
                                },
                                {
                                    "0": "18.696043465509007",
                                    "1": "14",
                                    "2": "466789"
                                }
                            ]
                        },
                        "text/html": "<table><tr><th>lengthofstay_Pred</th><th>lengthofstay</th><th>ClaimClaimID</th></tr><tr><td>17.30743474477387</td><td>9</td><td>420205</td></tr><tr><td>19.11814350187633</td><td>15</td><td>478629</td></tr><tr><td>30.97463748640614</td><td>40</td><td>426634</td></tr><tr><td>16.935966505913527</td><td>4</td><td>421147</td></tr><tr><td>17.30743474477387</td><td>9</td><td>468226</td></tr><tr><td>16.935966505913527</td><td>4</td><td>481943</td></tr><tr><td>16.935966505913527</td><td>7</td><td>429033</td></tr><tr><td>16.935966505913527</td><td>0</td><td>426435</td></tr><tr><td>17.60621439720507</td><td>12</td><td>473187</td></tr><tr><td>59.00441803777379</td><td>71</td><td>470174</td></tr><tr><td>16.935966505913527</td><td>2</td><td>419174</td></tr><tr><td>21.337629221935554</td><td>23</td><td>489122</td></tr><tr><td>16.935966505913527</td><td>7</td><td>473455</td></tr><tr><td>16.935966505913527</td><td>5</td><td>421129</td></tr><tr><td>16.935966505913527</td><td>4</td><td>434170</td></tr><tr><td>38.89332193352329</td><td>50</td><td>468780</td></tr><tr><td>16.935966505913527</td><td>6</td><td>474568</td></tr><tr><td>46.79910544933255</td><td>56</td><td>448097</td></tr><tr><td>23.54720870761334</td><td>28</td><td>418926</td></tr><tr><td>18.696043465509007</td><td>14</td><td>466789</td></tr></table>"
                    },
                    "metadata": {}
                }
            ],
            "execution_count": 6
        },
        {
            "cell_type": "markdown",
            "source": [
                "### Train GBT, FT, NN"
            ],
            "metadata": {
                "azdata_cell_guid": "6f4b6085-ed53-48c1-91be-496ba4557aad"
            }
        },
        {
            "cell_type": "code",
            "source": [
                "use Hospital_Py\r\n",
                "go\r\n",
                "set nocount on;\r\n",
                "exec [dbo].[train_model] @model_name = 'GBT', @dataset_name = 'LoS';\r\n",
                "go\r\n",
                "exec [dbo].[train_model] @model_name = 'FT', @dataset_name = 'LoS'; --failed, set max_num_bins\r\n",
                "go\r\n",
                "exec [dbo].[train_model] @model_name = 'NN', @dataset_name = 'LoS'; --failed\r\n",
                "go\r\n",
                ""
            ],
            "metadata": {
                "azdata_cell_guid": "0817dc1f-bd3f-4e0d-82a5-23a24ac81590"
            },
            "outputs": [],
            "execution_count": null
        },
        {
            "cell_type": "code",
            "source": [
                "select model_name, (datalength(model)/1024)/1024 as MB from models;"
            ],
            "metadata": {
                "azdata_cell_guid": "5c12de09-4512-4307-97f3-176672683786"
            },
            "outputs": [
                {
                    "output_type": "display_data",
                    "data": {
                        "text/html": "(2 rows affected)"
                    },
                    "metadata": {}
                },
                {
                    "output_type": "display_data",
                    "data": {
                        "text/html": "Total execution time: 00:00:00.089"
                    },
                    "metadata": {}
                },
                {
                    "output_type": "execute_result",
                    "metadata": {},
                    "execution_count": 1,
                    "data": {
                        "application/vnd.dataresource+json": {
                            "schema": {
                                "fields": [
                                    {
                                        "name": "model_name"
                                    },
                                    {
                                        "name": "MB"
                                    }
                                ]
                            },
                            "data": [
                                {
                                    "0": "RF",
                                    "1": "2"
                                },
                                {
                                    "0": "GBT",
                                    "1": "0"
                                }
                            ]
                        },
                        "text/html": [
                            "<table>",
                            "<tr><th>model_name</th><th>MB</th></tr>",
                            "<tr><td>RF</td><td>2</td></tr>",
                            "<tr><td>GBT</td><td>0</td></tr>",
                            "</table>"
                        ]
                    }
                }
            ],
            "execution_count": 1
        },
        {
            "cell_type": "markdown",
            "source": [
                "### Score GBT, FT, NN"
            ],
            "metadata": {
                "azdata_cell_guid": "10999a05-4685-4816-9bf5-c1be8910302b"
            }
        },
        {
            "cell_type": "code",
            "source": [
                "drop table if exists Boosted_PredictionBak;\r\n",
                "exec sp_rename 'Boosted_Prediction', 'Boosted_PredictionBak';\r\n",
                "exec [dbo].[score] @model_name = 'GBT',\t@inquery = 'SELECT * FROM LoS WHERE ClaimClaimID NOT IN (SELECT ClaimClaimID FROM Train_Id)', @output = 'Boosted_Prediction';\r\n",
                "go \n",
                "-- drop table if exists Fast_PredictionBak;\r\n",
                "-- exec sp_rename 'Fast_Prediction', 'Fast_PredictionBak';\r\n",
                "-- exec [dbo].[score] @model_name = 'FT', @inquery = 'SELECT * FROM LoS WHERE ClaimClaimID NOT IN (SELECT ClaimClaimID FROM Train_Id)', @output = 'Fast_Prediction';\r\n",
                "-- go\r\n",
                "-- drop table if exists NN_PredictionBak;\r\n",
                "-- exec sp_rename 'NN_Prediction', 'NN_PredictionBak';\r\n",
                "-- exec [dbo].[score] @model_name = 'NN', @inquery = 'SELECT * FROM LoS WHERE ClaimClaimID NOT IN (SELECT ClaimClaimID FROM Train_Id)', @output = 'NN_Prediction';\r\n",
                "-- go\n",
                "SELECT top 20 *  FROM [Hospital_Py].[dbo].[Boosted_Prediction]\r\n",
                "-- SELECT top 20 *  FROM [Hospital_Py].[dbo].[Fast_Prediction]\r\n",
                "-- SELECT top 20 *  FROM [Hospital_Py].[dbo].[NN_Prediction]\r\n",
                ""
            ],
            "metadata": {
                "azdata_cell_guid": "48ce7432-5c43-46e0-906c-5e61584d7ecd",
                "tags": []
            },
            "outputs": [
                {
                    "output_type": "display_data",
                    "data": {
                        "text/html": "Caution: Changing any part of an object name could break scripts and stored procedures."
                    },
                    "metadata": {}
                },
                {
                    "output_type": "display_data",
                    "data": {
                        "text/html": "STDERR message(s) from external script: \nD:\\Program Files\\Microsoft SQL Server\\MSSQL15.MSSQLSERVER\\PYTHON_SERVICES\\lib\\site-packages\\revoscalepy\\functions\\RxDTree.py:91: FutureWarning: Method .as_matrix will be removed in a future version. Use .values instead.\r\n  number_ordered_splits = sum([is_ordered.as_matrix()[0][int(x - 1)] for x in (isplit[:, 0])])\r"
                    },
                    "metadata": {}
                },
                {
                    "output_type": "display_data",
                    "data": {
                        "text/html": "STDOUT message(s) from external script: \nRows Read: 29974, Total Rows Processed: 29974, Total Chunk Time: 1.945 seconds\r\nTotal Rows written: 29974, Total time: 0.614\r\n \r"
                    },
                    "metadata": {}
                },
                {
                    "output_type": "display_data",
                    "data": {
                        "text/html": "Commands completed successfully."
                    },
                    "metadata": {}
                },
                {
                    "output_type": "display_data",
                    "data": {
                        "text/html": "Total execution time: 00:00:08.761"
                    },
                    "metadata": {}
                },
                {
                    "output_type": "execute_result",
                    "execution_count": 4,
                    "data": {
                        "application/vnd.dataresource+json": {
                            "schema": {
                                "fields": [
                                    {
                                        "name": "lengthofstay_Pred"
                                    },
                                    {
                                        "name": "lengthofstay"
                                    },
                                    {
                                        "name": "ClaimClaimID"
                                    }
                                ]
                            },
                            "data": [
                                {
                                    "0": "25.628452103238345",
                                    "1": "9",
                                    "2": "420205"
                                },
                                {
                                    "0": "25.628452103238345",
                                    "1": "15",
                                    "2": "478629"
                                },
                                {
                                    "0": "25.628452103238345",
                                    "1": "40",
                                    "2": "426634"
                                },
                                {
                                    "0": "25.628452103238345",
                                    "1": "4",
                                    "2": "421147"
                                },
                                {
                                    "0": "25.628452103238345",
                                    "1": "9",
                                    "2": "468226"
                                },
                                {
                                    "0": "25.628452103238345",
                                    "1": "4",
                                    "2": "481943"
                                },
                                {
                                    "0": "25.628452103238345",
                                    "1": "7",
                                    "2": "429033"
                                },
                                {
                                    "0": "25.628452103238345",
                                    "1": "0",
                                    "2": "426435"
                                },
                                {
                                    "0": "25.628452103238345",
                                    "1": "12",
                                    "2": "473187"
                                },
                                {
                                    "0": "41.24410339279123",
                                    "1": "71",
                                    "2": "470174"
                                },
                                {
                                    "0": "25.628452103238345",
                                    "1": "2",
                                    "2": "419174"
                                },
                                {
                                    "0": "25.628452103238345",
                                    "1": "23",
                                    "2": "489122"
                                },
                                {
                                    "0": "25.628452103238345",
                                    "1": "7",
                                    "2": "473455"
                                },
                                {
                                    "0": "25.628452103238345",
                                    "1": "5",
                                    "2": "421129"
                                },
                                {
                                    "0": "25.628452103238345",
                                    "1": "4",
                                    "2": "434170"
                                },
                                {
                                    "0": "25.628452103238345",
                                    "1": "50",
                                    "2": "468780"
                                },
                                {
                                    "0": "25.628452103238345",
                                    "1": "6",
                                    "2": "474568"
                                },
                                {
                                    "0": "25.628452103238345",
                                    "1": "56",
                                    "2": "448097"
                                },
                                {
                                    "0": "25.628452103238345",
                                    "1": "28",
                                    "2": "418926"
                                },
                                {
                                    "0": "25.628452103238345",
                                    "1": "14",
                                    "2": "466789"
                                }
                            ]
                        },
                        "text/html": "<table><tr><th>lengthofstay_Pred</th><th>lengthofstay</th><th>ClaimClaimID</th></tr><tr><td>25.628452103238345</td><td>9</td><td>420205</td></tr><tr><td>25.628452103238345</td><td>15</td><td>478629</td></tr><tr><td>25.628452103238345</td><td>40</td><td>426634</td></tr><tr><td>25.628452103238345</td><td>4</td><td>421147</td></tr><tr><td>25.628452103238345</td><td>9</td><td>468226</td></tr><tr><td>25.628452103238345</td><td>4</td><td>481943</td></tr><tr><td>25.628452103238345</td><td>7</td><td>429033</td></tr><tr><td>25.628452103238345</td><td>0</td><td>426435</td></tr><tr><td>25.628452103238345</td><td>12</td><td>473187</td></tr><tr><td>41.24410339279123</td><td>71</td><td>470174</td></tr><tr><td>25.628452103238345</td><td>2</td><td>419174</td></tr><tr><td>25.628452103238345</td><td>23</td><td>489122</td></tr><tr><td>25.628452103238345</td><td>7</td><td>473455</td></tr><tr><td>25.628452103238345</td><td>5</td><td>421129</td></tr><tr><td>25.628452103238345</td><td>4</td><td>434170</td></tr><tr><td>25.628452103238345</td><td>50</td><td>468780</td></tr><tr><td>25.628452103238345</td><td>6</td><td>474568</td></tr><tr><td>25.628452103238345</td><td>56</td><td>448097</td></tr><tr><td>25.628452103238345</td><td>28</td><td>418926</td></tr><tr><td>25.628452103238345</td><td>14</td><td>466789</td></tr></table>"
                    },
                    "metadata": {}
                }
            ],
            "execution_count": 9
        },
        {
            "cell_type": "markdown",
            "source": [
                "# 🥊 Realtime Scoring\n",
                "\n",
                "#### [Proc](https://github.com/microsoft/r-server-hospital-length-of-stay/blob/master/SQLPy/partA_train_real_time_scoring_sp.sql) ([errors](https://stackoverflow.com/questions/55643467/dataframe-object-has-no-attribute-str-problem)), [Train](https://github.com/microsoft/r-server-hospital-length-of-stay/blob/master/SQLPy/partB_prepare_for_real_time_scoring.sql), [Score](https://github.com/microsoft/r-server-hospital-length-of-stay/blob/master/SQLPy/partC_real_time_scoring.sql)"
            ],
            "metadata": {
                "azdata_cell_guid": "e2d2c69d-e7e8-4685-a4ea-6b63be5823a3"
            }
        },
        {
            "cell_type": "code",
            "source": [
                "-- My simple proc to serialize the model bin, cause train_model_real_time_scoring errors. \n",
                "Use Hospital_Py\n",
                "go\n",
                "create or alter proc [GetRTSModelRF]   \n",
                "as\n",
                "declare @info varbinary(max);\n",
                "select @info = info from dbo.ColInfo;\n",
                "declare @info varbinary(max);\r\n",
                "select @info = info from dbo.ColInfo;\r\n",
                "\r\n",
                "exec sp_execute_external_script @language = N'Python', @script = N' \r\n",
                "import dill\r\n",
                "from numpy import sqrt\r\n",
                "from pandas import DataFrame\r\n",
                "from revoscalepy import rx_set_compute_context, RxSqlServerData, rx_dforest, RxOdbcData, rx_serialize_model, rx_write_object, RxLocalSeq\r\n",
                "from microsoftml import adadelta_optimizer\r\n",
                "\r\n",
                "connection_string = \"Driver=SQL Server;Server=localhost;Database=Hospital_Py;Trusted_Connection=true;\"\r\n",
                "\r\n",
                "column_info = dill.loads(info)\r\n",
                "\r\n",
                "##\tSet training dataset, set features and types.\r\n",
                "\r\n",
                "variables_all = [var for var in column_info]\r\n",
                "#variables_to_remove = [\"eid\", \"vdate\", \"discharged\", \"facid\"]\n",
                "variables_to_remove = [\"ClaimClaimID\", \"ClaimDateClosed\", \"ClaimReportedDate\"]\n",
                "training_variables = [x for x in variables_all if x not in variables_to_remove]\r\n",
                "LoS_Train = RxSqlServerData(sql_query = \"SELECT ClaimClaimID, {} FROM LoS WHERE ClaimClaimID IN (SELECT ClaimClaimID from Train_Id)\".format(\", \".join(training_variables)),\r\n",
                "                            connection_string = connection_string,\r\n",
                "                            column_info = column_info)\r\n",
                "\r\n",
                "##\tSpecify the variables to keep for the training \r\n",
                "\r\n",
                "#variables_to_remove = [\"eid\", \"vdate\", \"discharged\", \"facid\", \"lengthofstay\"]\n",
                "variables_to_remove = [\"ClaimClaimID\", \"ClaimDateClosed\", \"ClaimReportedDate\", \"lengthofstay\"]\n",
                "training_variables = [x for x in variables_all if x not in variables_to_remove]\r\n",
                "formula = \"lengthofstay ~ \" + \" + \".join(training_variables)\r\n",
                "\r\n",
                "## Train RF Model\r\n",
                "dest = RxOdbcData(connection_string, table = \"RTS\")\r\n",
                "model = rx_dforest(formula=formula,\r\n",
                "                    data=LoS_Train,\r\n",
                "                    n_tree=40,\r\n",
                "                    cp=0.00005,\r\n",
                "                    min_split=int(sqrt(70000)),\r\n",
                "                    max_num_bins=int(sqrt(70000)),\r\n",
                "                    seed=5)\r\n",
                "serialized_model = rx_serialize_model(model, realtime_scoring_only = True)\r\n",
                "rx_write_object(dest, key_name=\"id\", key=\"RF\", value_name=\"value\", value=serialized_model, serialize=False, compress=None, overwrite=False)'\r\n",
                "\r\n",
                ", @params = N'@info varbinary(max)'\r\n",
                ", @info = @info;\r\n",
                "\r\n",
                "GO\r\n",
                5
            ],
            "metadata": {
                "azdata_cell_guid": "670a039c-424a-4965-9de6-bdf7b5ebcb27"
            },
            "outputs": [
                {
                    "output_type": "display_data",
                    "data": {
                        "text/html": "Commands completed successfully."
                    },
                    "metadata": {}
                },
                {
                    "output_type": "display_data",
                    "data": {
                        "text/html": "Commands completed successfully."
                    },
                    "metadata": {}
                },
                {
                    "output_type": "display_data",
                    "data": {
                        "text/html": "Total execution time: 00:00:00.005"
                    },
                    "metadata": {}
                }
            ],
            "execution_count": 3
        },
        {
            "cell_type": "code",
            "source": [
                "-- drop table if exists RTSBak;\n",
                "-- go\n",
                "-- exec sp_rename 'RTS', 'RTSBak'\n",
                "go\n",
                "exec GetRTSModelRF;"
            ],
            "metadata": {
                "azdata_cell_guid": "7892fc4b-c4cf-4ecd-bbcd-22859d7352b4"
            },
            "outputs": [
                {
                    "output_type": "display_data",
                    "data": {
                        "text/html": "Commands completed successfully."
                    },
                    "metadata": {}
                },
                {
                    "output_type": "display_data",
                    "data": {
                        "text/html": "STDERR message(s) from external script: \nD:\\Program Files\\Microsoft SQL Server\\MSSQL15.MSSQLSERVER\\PYTHON_SERVICES\\lib\\site-packages\\revoscalepy\\functions\\RxDTree.py:91: FutureWarning: Method .as_matrix will be removed in a future version. Use .values instead.\r\n  number_ordered_splits = sum([is_ordered.as_matrix()[0][int(x - 1)] for x in (isplit[:, 0])])\r"
                    },
                    "metadata": {}
                },
                {
                    "output_type": "display_data",
                    "data": {
                        "text/html": "STDOUT message(s) from external script: \nNumber of observations not available for this data source. 'numObs' set to 1e6.\r\n\r\nFor this data source, explicitly set 'max_num_bins' and 'min_split', otherwise innacurate models can result.\r\nPlease see rx_dtree 'max_num_bins' and 'min_split' for details.\r\n\r\noneFilePerTree is not a logical and is being reset to FALSE\r\n\r\nuseWriteDataSource is not an integer and is being reset to 0\r\n\r\nautoCleanup is not a logical and is being reset to TRUE\r\noneFilePerTree is not a logical and is being reset to FALSE\r\nRows Read: 50000, Total Rows Processed: 50000, Total Chunk Time: 1.826 seconds\r\nRows Read: 20026, Total Rows Processed: 70026, Total Chunk Time: 0.676 seconds \r\n\r\nElapsed time to compute low/high values and/or factor levels: 2.573 secs.\r\n \r\nThe variance is zero for the variable(s): \"ClaimClaimStatusID\", \"ClaimStatusDescription\", \"ClaimMoneyReserve\"\r\nwhich are eliminated for further analysis.\r"
                    },
                    "metadata": {}
                },
                {
                    "output_type": "display_data",
                    "data": {
                        "text/html": "STDOUT message(s) from external script: \nRows Read: 50000, Total Rows Processed: 50000, Total Chunk Time: 1.795 seconds\r\nRows Read: 20026, Total Rows Processed: 70026, Total Chunk Time: 0.763 seconds \r\nRows Read: 50000, Total Rows Processed: 50000, Total Chunk Time: 1.787 seconds\r\nRows Read: 20026, Total Rows Processed: 70026, Total Chunk Time: 0.690 seconds \r\nRows Read: 50000, Total Rows Processed: 50000, Total Chunk Time: 1.951 seconds\r\nRows Read: 20026, Total Rows Processed: 70026, Total Chunk Time: 0.697 seconds \r\nRows Read: 2, Total Rows Processed: 2, Total Chunk Time: Less than .001 seconds \r\nRows Read: 50000, Total Rows Processed: 50000, Total Chunk Time: 2.249 seconds\r\nRows Read: 20026, Total Rows Processed: 70026, Total Chunk Time: 0.736 seconds \r\nRows Read: 4, Total Rows Processed: 4, Total Chunk Time: Less than .001 seconds \r\nRows Read: 50000, Total Rows Processed: 50000, Total Chunk Time: 1.870 seconds\r\nRows Read: 20026, Total Rows Processed: 70026, Total Chunk Time: 0.713 seconds \r"
                    },
                    "metadata": {}
                },
                {
                    "output_type": "display_data",
                    "data": {
                        "text/html": "STDOUT message(s) from external script: \nRows Read: 8, Total Rows Processed: 8, Total Chunk Time: 0.002 seconds \r\nRows Read: 50000, Total Rows Processed: 50000, Total Chunk Time: 1.841 seconds\r\nRows Read: 20026, Total Rows Processed: 70026, Total Chunk Time: 0.678 seconds \r\nRows Read: 16, Total Rows Processed: 16, Total Chunk Time: 0.003 seconds \r\nRows Read: 50000, Total Rows Processed: 50000, Total Chunk Time: 1.871 seconds\r\nRows Read: 20026, Total Rows Processed: 70026, Total Chunk Time: 0.677 seconds \r\nRows Read: 28, Total Rows Processed: 28, Total Chunk Time: 0.004 seconds \r\nRows Read: 50000, Total Rows Processed: 50000, Total Chunk Time: 1.886 seconds\r\nRows Read: 20026, Total Rows Processed: 70026, Total Chunk Time: 0.706 seconds \r\nRows Read: 32, Total Rows Processed: 32, Total Chunk Time: 0.005 seconds \r\nRows Read: 50000, Total Rows Processed: 50000, Total Chunk Time: 1.900 seconds\r\nRows Read: 20026, Total Rows Processed: 70026, Total Chunk Time: 0.721 seconds \r"
                    },
                    "metadata": {}
                },
                {
                    "output_type": "display_data",
                    "data": {
                        "text/html": "STDOUT message(s) from external script: \nRows Read: 44, Total Rows Processed: 44, Total Chunk Time: 0.006 seconds \r\nRows Read: 50000, Total Rows Processed: 50000, Total Chunk Time: 1.829 seconds\r\nRows Read: 20026, Total Rows Processed: 70026, Total Chunk Time: 0.653 seconds \r\nRows Read: 52, Total Rows Processed: 52, Total Chunk Time: 0.005 seconds \r\nRows Read: 50000, Total Rows Processed: 50000, Total Chunk Time: 1.860 seconds\r\nRows Read: 20026, Total Rows Processed: 70026, Total Chunk Time: 0.692 seconds \r\nRows Read: 66, Total Rows Processed: 66, Total Chunk Time: 0.007 seconds \r\nRows Read: 50000, Total Rows Processed: 50000, Total Chunk Time: 1.868 seconds\r\nRows Read: 20026, Total Rows Processed: 70026, Total Chunk Time: 1.099 seconds \r\nRows Read: 60, Total Rows Processed: 60, Total Chunk Time: Less than .001 seconds \r\nRows Read: 50000, Total Rows Processed: 50000, Total Chunk Time: 1.898 seconds\r\nRows Read: 20026, Total Rows Processed: 70026, Total Chunk Time: 0.698 seconds \r"
                    },
                    "metadata": {}
                },
                {
                    "output_type": "display_data",
                    "data": {
                        "text/html": "STDOUT message(s) from external script: \nRows Read: 50000, Total Rows Processed: 50000, Total Chunk Time: 1.851 seconds\r\nRows Read: 20026, Total Rows Processed: 70026, Total Chunk Time: 0.682 seconds \r\nRows Read: 50000, Total Rows Processed: 50000, Total Chunk Time: 1.925 seconds\r\nRows Read: 20026, Total Rows Processed: 70026, Total Chunk Time: 0.717 seconds \r\nRows Read: 2, Total Rows Processed: 2, Total Chunk Time: 0.001 seconds \r\nRows Read: 50000, Total Rows Processed: 50000, Total Chunk Time: 1.868 seconds\r\nRows Read: 20026, Total Rows Processed: 70026, Total Chunk Time: 0.682 seconds \r\nRows Read: 4, Total Rows Processed: 4, Total Chunk Time: 0.002 seconds \r\nRows Read: 50000, Total Rows Processed: 50000, Total Chunk Time: 1.835 seconds\r\nRows Read: 20026, Total Rows Processed: 70026, Total Chunk Time: 0.719 seconds \r\nRows Read: 8, Total Rows Processed: 8, Total Chunk Time: 0.002 seconds \r\nRows Read: 50000, Total Rows Processed: 50000, Total Chunk Time: 1.861 seconds\r"
                    },
                    "metadata": {}
                },
                {
                    "output_type": "display_data",
                    "data": {
                        "text/html": "STDOUT message(s) from external script: \nRows Read: 20026, Total Rows Processed: 70026, Total Chunk Time: 0.696 seconds \r\nRows Read: 16, Total Rows Processed: 16, Total Chunk Time: 0.004 seconds \r\nRows Read: 50000, Total Rows Processed: 50000, Total Chunk Time: 1.841 seconds\r\nRows Read: 20026, Total Rows Processed: 70026, Total Chunk Time: 0.679 seconds \r\nRows Read: 26, Total Rows Processed: 26, Total Chunk Time: 0.004 seconds \r\nRows Read: 50000, Total Rows Processed: 50000, Total Chunk Time: 1.900 seconds\r\nRows Read: 20026, Total Rows Processed: 70026, Total Chunk Time: 0.715 seconds \r\nRows Read: 34, Total Rows Processed: 34, Total Chunk Time: 0.004 seconds \r\nRows Read: 50000, Total Rows Processed: 50000, Total Chunk Time: 2.079 seconds\r\nRows Read: 20026, Total Rows Processed: 70026, Total Chunk Time: 0.734 seconds \r\nRows Read: 48, Total Rows Processed: 48, Total Chunk Time: 0.005 seconds \r\nRows Read: 50000, Total Rows Processed: 50000, Total Chunk Time: 1.994 seconds\r"
                    },
                    "metadata": {}
                },
                {
                    "output_type": "display_data",
                    "data": {
                        "text/html": "STDOUT message(s) from external script: \nRows Read: 20026, Total Rows Processed: 70026, Total Chunk Time: 1.102 seconds \r\nRows Read: 54, Total Rows Processed: 54, Total Chunk Time: 0.009 seconds \r\nRows Read: 50000, Total Rows Processed: 50000, Total Chunk Time: 2.442 seconds\r\nRows Read: 20026, Total Rows Processed: 70026, Total Chunk Time: 0.679 seconds \r\nRows Read: 68, Total Rows Processed: 68, Total Chunk Time: 0.012 seconds \r\nRows Read: 50000, Total Rows Processed: 50000, Total Chunk Time: 1.808 seconds\r\nRows Read: 20026, Total Rows Processed: 70026, Total Chunk Time: 0.650 seconds \r\nRows Read: 60, Total Rows Processed: 60, Total Chunk Time: 0.002 seconds \r\nRows Read: 50000, Total Rows Processed: 50000, Total Chunk Time: 1.817 seconds\r\nRows Read: 20026, Total Rows Processed: 70026, Total Chunk Time: 0.641 seconds \r\nRows Read: 50000, Total Rows Processed: 50000, Total Chunk Time: 1.780 seconds\r\nRows Read: 20026, Total Rows Processed: 70026, Total Chunk Time: 0.680 seconds \r"
                    },
                    "metadata": {}
                },
                {
                    "output_type": "display_data",
                    "data": {
                        "text/html": "STDOUT message(s) from external script: \nRows Read: 50000, Total Rows Processed: 50000, Total Chunk Time: 1.758 seconds\r\nRows Read: 20026, Total Rows Processed: 70026, Total Chunk Time: 0.654 seconds \r\nRows Read: 2, Total Rows Processed: 2, Total Chunk Time: 0.001 seconds \r\nRows Read: 50000, Total Rows Processed: 50000, Total Chunk Time: 1.817 seconds\r\nRows Read: 20026, Total Rows Processed: 70026, Total Chunk Time: 0.671 seconds \r\nRows Read: 4, Total Rows Processed: 4, Total Chunk Time: 0.001 seconds \r\nRows Read: 50000, Total Rows Processed: 50000, Total Chunk Time: 1.750 seconds\r\nRows Read: 20026, Total Rows Processed: 70026, Total Chunk Time: 0.675 seconds \r\nRows Read: 8, Total Rows Processed: 8, Total Chunk Time: 0.002 seconds \r\nRows Read: 50000, Total Rows Processed: 50000, Total Chunk Time: 1.726 seconds\r\nRows Read: 20026, Total Rows Processed: 70026, Total Chunk Time: 0.657 seconds \r\nRows Read: 12, Total Rows Processed: 12, Total Chunk Time: 0.002 seconds \r"
                    },
                    "metadata": {}
                },
                {
                    "output_type": "display_data",
                    "data": {
                        "text/html": "STDOUT message(s) from external script: \nRows Read: 50000, Total Rows Processed: 50000, Total Chunk Time: 1.792 seconds\r\nRows Read: 20026, Total Rows Processed: 70026, Total Chunk Time: 0.669 seconds \r\nRows Read: 20, Total Rows Processed: 20, Total Chunk Time: 0.003 seconds \r\nRows Read: 50000, Total Rows Processed: 50000, Total Chunk Time: 1.803 seconds\r\nRows Read: 20026, Total Rows Processed: 70026, Total Chunk Time: 0.655 seconds \r\nRows Read: 34, Total Rows Processed: 34, Total Chunk Time: 0.004 seconds \r\nRows Read: 50000, Total Rows Processed: 50000, Total Chunk Time: 1.765 seconds\r\nRows Read: 20026, Total Rows Processed: 70026, Total Chunk Time: 0.689 seconds \r\nRows Read: 52, Total Rows Processed: 52, Total Chunk Time: 0.006 seconds \r\nRows Read: 50000, Total Rows Processed: 50000, Total Chunk Time: 1.789 seconds\r\nRows Read: 20026, Total Rows Processed: 70026, Total Chunk Time: 0.677 seconds \r\nRows Read: 56, Total Rows Processed: 56, Total Chunk Time: 0.008 seconds \r"
                    },
                    "metadata": {}
                },
                {
                    "output_type": "display_data",
                    "data": {
                        "text/html": "STDOUT message(s) from external script: \nRows Read: 50000, Total Rows Processed: 50000, Total Chunk Time: 1.791 seconds\r\nRows Read: 20026, Total Rows Processed: 70026, Total Chunk Time: 0.741 seconds \r\nRows Read: 54, Total Rows Processed: 54, Total Chunk Time: 0.008 seconds \r\nRows Read: 50000, Total Rows Processed: 50000, Total Chunk Time: 1.775 seconds\r\nRows Read: 20026, Total Rows Processed: 70026, Total Chunk Time: 0.685 seconds \r\nRows Read: 44, Total Rows Processed: 44, Total Chunk Time: 0.003 seconds \r\nRows Read: 50000, Total Rows Processed: 50000, Total Chunk Time: 1.795 seconds\r\nRows Read: 20026, Total Rows Processed: 70026, Total Chunk Time: 0.714 seconds \r\nRows Read: 50000, Total Rows Processed: 50000, Total Chunk Time: 1.769 seconds\r\nRows Read: 20026, Total Rows Processed: 70026, Total Chunk Time: 0.666 seconds \r\nRows Read: 50000, Total Rows Processed: 50000, Total Chunk Time: 1.763 seconds\r\nRows Read: 20026, Total Rows Processed: 70026, Total Chunk Time: 0.638 seconds \r"
                    },
                    "metadata": {}
                },
                {
                    "output_type": "display_data",
                    "data": {
                        "text/html": "STDOUT message(s) from external script: \nRows Read: 2, Total Rows Processed: 2, Total Chunk Time: 0.001 seconds \r\nRows Read: 50000, Total Rows Processed: 50000, Total Chunk Time: 1.761 seconds\r\nRows Read: 20026, Total Rows Processed: 70026, Total Chunk Time: 0.648 seconds \r\nRows Read: 4, Total Rows Processed: 4, Total Chunk Time: Less than .001 seconds \r\nRows Read: 50000, Total Rows Processed: 50000, Total Chunk Time: 1.744 seconds\r\nRows Read: 20026, Total Rows Processed: 70026, Total Chunk Time: 0.691 seconds \r\nRows Read: 8, Total Rows Processed: 8, Total Chunk Time: 0.002 seconds \r\nRows Read: 50000, Total Rows Processed: 50000, Total Chunk Time: 1.759 seconds\r\nRows Read: 20026, Total Rows Processed: 70026, Total Chunk Time: 0.667 seconds \r\nRows Read: 12, Total Rows Processed: 12, Total Chunk Time: 0.004 seconds \r\nRows Read: 50000, Total Rows Processed: 50000, Total Chunk Time: 1.745 seconds\r\nRows Read: 20026, Total Rows Processed: 70026, Total Chunk Time: 0.647 seconds \r"
                    },
                    "metadata": {}
                },
                {
                    "output_type": "display_data",
                    "data": {
                        "text/html": "STDOUT message(s) from external script: \nRows Read: 22, Total Rows Processed: 22, Total Chunk Time: 0.005 seconds \r\nRows Read: 50000, Total Rows Processed: 50000, Total Chunk Time: 1.833 seconds\r\nRows Read: 20026, Total Rows Processed: 70026, Total Chunk Time: 0.676 seconds \r\nRows Read: 32, Total Rows Processed: 32, Total Chunk Time: 0.009 seconds \r\nRows Read: 50000, Total Rows Processed: 50000, Total Chunk Time: 1.802 seconds\r\nRows Read: 20026, Total Rows Processed: 70026, Total Chunk Time: 0.644 seconds \r\nRows Read: 44, Total Rows Processed: 44, Total Chunk Time: 0.006 seconds \r\nRows Read: 50000, Total Rows Processed: 50000, Total Chunk Time: 1.755 seconds\r\nRows Read: 20026, Total Rows Processed: 70026, Total Chunk Time: 0.640 seconds \r\nRows Read: 52, Total Rows Processed: 52, Total Chunk Time: 0.009 seconds \r\nRows Read: 50000, Total Rows Processed: 50000, Total Chunk Time: 1.780 seconds\r\nRows Read: 20026, Total Rows Processed: 70026, Total Chunk Time: 0.638 seconds \r"
                    },
                    "metadata": {}
                },
                {
                    "output_type": "display_data",
                    "data": {
                        "text/html": "STDOUT message(s) from external script: \nRows Read: 70, Total Rows Processed: 70, Total Chunk Time: 0.008 seconds \r\nRows Read: 50000, Total Rows Processed: 50000, Total Chunk Time: 1.828 seconds\r\nRows Read: 20026, Total Rows Processed: 70026, Total Chunk Time: 0.674 seconds \r\nRows Read: 54, Total Rows Processed: 54, Total Chunk Time: 0.003 seconds \r\nRows Read: 50000, Total Rows Processed: 50000, Total Chunk Time: 1.765 seconds\r\nRows Read: 20026, Total Rows Processed: 70026, Total Chunk Time: 0.843 seconds \r\nRows Read: 50000, Total Rows Processed: 50000, Total Chunk Time: 1.813 seconds\r\nRows Read: 20026, Total Rows Processed: 70026, Total Chunk Time: 0.640 seconds \r\nRows Read: 50000, Total Rows Processed: 50000, Total Chunk Time: 1.757 seconds\r\nRows Read: 20026, Total Rows Processed: 70026, Total Chunk Time: 0.639 seconds \r\nRows Read: 2, Total Rows Processed: 2, Total Chunk Time: 0.002 seconds \r\nRows Read: 50000, Total Rows Processed: 50000, Total Chunk Time: 1.755 seconds\r"
                    },
                    "metadata": {}
                },
                {
                    "output_type": "display_data",
                    "data": {
                        "text/html": "STDOUT message(s) from external script: \nRows Read: 20026, Total Rows Processed: 70026, Total Chunk Time: 0.652 seconds \r\nRows Read: 4, Total Rows Processed: 4, Total Chunk Time: 0.002 seconds \r\nRows Read: 50000, Total Rows Processed: 50000, Total Chunk Time: 1.762 seconds\r\nRows Read: 20026, Total Rows Processed: 70026, Total Chunk Time: 0.658 seconds \r\nRows Read: 8, Total Rows Processed: 8, Total Chunk Time: 0.005 seconds \r\nRows Read: 50000, Total Rows Processed: 50000, Total Chunk Time: 1.760 seconds\r\nRows Read: 20026, Total Rows Processed: 70026, Total Chunk Time: 0.664 seconds \r\nRows Read: 16, Total Rows Processed: 16, Total Chunk Time: 0.005 seconds \r\nRows Read: 50000, Total Rows Processed: 50000, Total Chunk Time: 1.804 seconds\r\nRows Read: 20026, Total Rows Processed: 70026, Total Chunk Time: 0.650 seconds \r\nRows Read: 30, Total Rows Processed: 30, Total Chunk Time: 0.006 seconds \r\nRows Read: 50000, Total Rows Processed: 50000, Total Chunk Time: 1.769 seconds\r"
                    },
                    "metadata": {}
                },
                {
                    "output_type": "display_data",
                    "data": {
                        "text/html": "STDOUT message(s) from external script: \nRows Read: 20026, Total Rows Processed: 70026, Total Chunk Time: 0.670 seconds \r\nRows Read: 44, Total Rows Processed: 44, Total Chunk Time: 0.005 seconds \r\nRows Read: 50000, Total Rows Processed: 50000, Total Chunk Time: 1.759 seconds\r\nRows Read: 20026, Total Rows Processed: 70026, Total Chunk Time: 0.651 seconds \r\nRows Read: 70, Total Rows Processed: 70, Total Chunk Time: 0.007 seconds \r\nRows Read: 50000, Total Rows Processed: 50000, Total Chunk Time: 1.708 seconds\r\nRows Read: 20026, Total Rows Processed: 70026, Total Chunk Time: 0.646 seconds \r\nRows Read: 78, Total Rows Processed: 78, Total Chunk Time: 0.007 seconds \r\nRows Read: 50000, Total Rows Processed: 50000, Total Chunk Time: 1.730 seconds\r\nRows Read: 20026, Total Rows Processed: 70026, Total Chunk Time: 0.674 seconds \r\nRows Read: 70, Total Rows Processed: 70, Total Chunk Time: 0.005 seconds \r\nRows Read: 50000, Total Rows Processed: 50000, Total Chunk Time: 1.754 seconds\r"
                    },
                    "metadata": {}
                },
                {
                    "output_type": "display_data",
                    "data": {
                        "text/html": "STDOUT message(s) from external script: \nRows Read: 20026, Total Rows Processed: 70026, Total Chunk Time: 0.648 seconds \r\nRows Read: 68, Total Rows Processed: 68, Total Chunk Time: 0.004 seconds \r\nRows Read: 50000, Total Rows Processed: 50000, Total Chunk Time: 1.759 seconds\r\nRows Read: 20026, Total Rows Processed: 70026, Total Chunk Time: 0.674 seconds \r\nRows Read: 50000, Total Rows Processed: 50000, Total Chunk Time: 1.772 seconds\r\nRows Read: 20026, Total Rows Processed: 70026, Total Chunk Time: 0.708 seconds \r\nRows Read: 50000, Total Rows Processed: 50000, Total Chunk Time: 1.765 seconds\r\nRows Read: 20026, Total Rows Processed: 70026, Total Chunk Time: 0.650 seconds \r\nRows Read: 2, Total Rows Processed: 2, Total Chunk Time: 0.002 seconds \r\nRows Read: 50000, Total Rows Processed: 50000, Total Chunk Time: 1.761 seconds\r\nRows Read: 20026, Total Rows Processed: 70026, Total Chunk Time: 0.645 seconds \r\nRows Read: 4, Total Rows Processed: 4, Total Chunk Time: 0.001 seconds \r"
                    },
                    "metadata": {}
                },
                {
                    "output_type": "display_data",
                    "data": {
                        "text/html": "STDOUT message(s) from external script: \nRows Read: 50000, Total Rows Processed: 50000, Total Chunk Time: 1.733 seconds\r\nRows Read: 20026, Total Rows Processed: 70026, Total Chunk Time: 0.683 seconds \r\nRows Read: 8, Total Rows Processed: 8, Total Chunk Time: 0.002 seconds \r\nRows Read: 50000, Total Rows Processed: 50000, Total Chunk Time: 1.770 seconds\r\nRows Read: 20026, Total Rows Processed: 70026, Total Chunk Time: 0.658 seconds \r\nRows Read: 16, Total Rows Processed: 16, Total Chunk Time: 0.005 seconds \r\nRows Read: 50000, Total Rows Processed: 50000, Total Chunk Time: 1.748 seconds\r\nRows Read: 20026, Total Rows Processed: 70026, Total Chunk Time: 0.654 seconds \r\nRows Read: 24, Total Rows Processed: 24, Total Chunk Time: 0.005 seconds \r\nRows Read: 50000, Total Rows Processed: 50000, Total Chunk Time: 1.851 seconds\r\nRows Read: 20026, Total Rows Processed: 70026, Total Chunk Time: 0.663 seconds \r\nRows Read: 36, Total Rows Processed: 36, Total Chunk Time: 0.004 seconds \r"
                    },
                    "metadata": {}
                },
                {
                    "output_type": "display_data",
                    "data": {
                        "text/html": "STDOUT message(s) from external script: \nRows Read: 50000, Total Rows Processed: 50000, Total Chunk Time: 1.783 seconds\r\nRows Read: 20026, Total Rows Processed: 70026, Total Chunk Time: 0.663 seconds \r\nRows Read: 50, Total Rows Processed: 50, Total Chunk Time: 0.007 seconds \r\nRows Read: 50000, Total Rows Processed: 50000, Total Chunk Time: 1.733 seconds\r\nRows Read: 20026, Total Rows Processed: 70026, Total Chunk Time: 0.644 seconds \r\nRows Read: 60, Total Rows Processed: 60, Total Chunk Time: 0.006 seconds \r\nRows Read: 50000, Total Rows Processed: 50000, Total Chunk Time: 1.765 seconds\r\nRows Read: 20026, Total Rows Processed: 70026, Total Chunk Time: 0.650 seconds \r\nRows Read: 70, Total Rows Processed: 70, Total Chunk Time: 0.008 seconds \r\nRows Read: 50000, Total Rows Processed: 50000, Total Chunk Time: 1.800 seconds\r\nRows Read: 20026, Total Rows Processed: 70026, Total Chunk Time: 0.646 seconds \r\nRows Read: 64, Total Rows Processed: 64, Total Chunk Time: 0.002 seconds \r"
                    },
                    "metadata": {}
                },
                {
                    "output_type": "display_data",
                    "data": {
                        "text/html": "STDOUT message(s) from external script: \nRows Read: 50000, Total Rows Processed: 50000, Total Chunk Time: 1.774 seconds\r\nRows Read: 20026, Total Rows Processed: 70026, Total Chunk Time: 0.657 seconds \r\nRows Read: 50000, Total Rows Processed: 50000, Total Chunk Time: 1.754 seconds\r\nRows Read: 20026, Total Rows Processed: 70026, Total Chunk Time: 0.689 seconds \r\nRows Read: 50000, Total Rows Processed: 50000, Total Chunk Time: 1.800 seconds\r\nRows Read: 20026, Total Rows Processed: 70026, Total Chunk Time: 0.664 seconds \r\nRows Read: 2, Total Rows Processed: 2, Total Chunk Time: 0.002 seconds \r\nRows Read: 50000, Total Rows Processed: 50000, Total Chunk Time: 2.100 seconds\r\nRows Read: 20026, Total Rows Processed: 70026, Total Chunk Time: 0.743 seconds \r\nRows Read: 4, Total Rows Processed: 4, Total Chunk Time: 0.001 seconds \r\nRows Read: 50000, Total Rows Processed: 50000, Total Chunk Time: 1.773 seconds\r\nRows Read: 20026, Total Rows Processed: 70026, Total Chunk Time: 0.669 seconds \r"
                    },
                    "metadata": {}
                },
                {
                    "output_type": "display_data",
                    "data": {
                        "text/html": "STDOUT message(s) from external script: \nRows Read: 8, Total Rows Processed: 8, Total Chunk Time: 0.003 seconds \r\nRows Read: 50000, Total Rows Processed: 50000, Total Chunk Time: 1.737 seconds\r\nRows Read: 20026, Total Rows Processed: 70026, Total Chunk Time: 0.647 seconds \r\nRows Read: 14, Total Rows Processed: 14, Total Chunk Time: 0.002 seconds \r\nRows Read: 50000, Total Rows Processed: 50000, Total Chunk Time: 1.753 seconds\r\nRows Read: 20026, Total Rows Processed: 70026, Total Chunk Time: 0.635 seconds \r\nRows Read: 22, Total Rows Processed: 22, Total Chunk Time: 0.003 seconds \r\nRows Read: 50000, Total Rows Processed: 50000, Total Chunk Time: 1.786 seconds\r\nRows Read: 20026, Total Rows Processed: 70026, Total Chunk Time: 0.664 seconds \r\nRows Read: 34, Total Rows Processed: 34, Total Chunk Time: 0.003 seconds \r\nRows Read: 50000, Total Rows Processed: 50000, Total Chunk Time: 1.790 seconds\r\nRows Read: 20026, Total Rows Processed: 70026, Total Chunk Time: 0.655 seconds \r"
                    },
                    "metadata": {}
                },
                {
                    "output_type": "display_data",
                    "data": {
                        "text/html": "STDOUT message(s) from external script: \nRows Read: 38, Total Rows Processed: 38, Total Chunk Time: 0.009 seconds \r\nRows Read: 50000, Total Rows Processed: 50000, Total Chunk Time: 1.756 seconds\r\nRows Read: 20026, Total Rows Processed: 70026, Total Chunk Time: 0.664 seconds \r\nRows Read: 56, Total Rows Processed: 56, Total Chunk Time: 0.009 seconds \r\nRows Read: 50000, Total Rows Processed: 50000, Total Chunk Time: 1.878 seconds\r\nRows Read: 20026, Total Rows Processed: 70026, Total Chunk Time: 0.675 seconds \r\nRows Read: 66, Total Rows Processed: 66, Total Chunk Time: 0.006 seconds \r\nRows Read: 50000, Total Rows Processed: 50000, Total Chunk Time: 1.738 seconds\r\nRows Read: 20026, Total Rows Processed: 70026, Total Chunk Time: 0.641 seconds \r\nRows Read: 64, Total Rows Processed: 64, Total Chunk Time: 0.002 seconds \r\nRows Read: 50000, Total Rows Processed: 50000, Total Chunk Time: 1.800 seconds\r\nRows Read: 20026, Total Rows Processed: 70026, Total Chunk Time: 0.684 seconds \r"
                    },
                    "metadata": {}
                },
                {
                    "output_type": "display_data",
                    "data": {
                        "text/html": "STDOUT message(s) from external script: \nRows Read: 50000, Total Rows Processed: 50000, Total Chunk Time: 1.724 seconds\r\nRows Read: 20026, Total Rows Processed: 70026, Total Chunk Time: 0.666 seconds \r\nRows Read: 50000, Total Rows Processed: 50000, Total Chunk Time: 1.783 seconds\r\nRows Read: 20026, Total Rows Processed: 70026, Total Chunk Time: 0.646 seconds \r\nRows Read: 2, Total Rows Processed: 2, Total Chunk Time: 0.002 seconds \r\nRows Read: 50000, Total Rows Processed: 50000, Total Chunk Time: 1.718 seconds\r\nRows Read: 20026, Total Rows Processed: 70026, Total Chunk Time: 0.661 seconds \r\nRows Read: 4, Total Rows Processed: 4, Total Chunk Time: 0.001 seconds \r\nRows Read: 50000, Total Rows Processed: 50000, Total Chunk Time: 1.760 seconds\r\nRows Read: 20026, Total Rows Processed: 70026, Total Chunk Time: 0.653 seconds \r\nRows Read: 8, Total Rows Processed: 8, Total Chunk Time: 0.002 seconds \r\nRows Read: 50000, Total Rows Processed: 50000, Total Chunk Time: 1.811 seconds\r"
                    },
                    "metadata": {}
                },
                {
                    "output_type": "display_data",
                    "data": {
                        "text/html": "STDOUT message(s) from external script: \nRows Read: 20026, Total Rows Processed: 70026, Total Chunk Time: 0.843 seconds \r\nRows Read: 14, Total Rows Processed: 14, Total Chunk Time: 0.003 seconds \r\nRows Read: 50000, Total Rows Processed: 50000, Total Chunk Time: 1.800 seconds\r\nRows Read: 20026, Total Rows Processed: 70026, Total Chunk Time: 0.661 seconds \r\nRows Read: 28, Total Rows Processed: 28, Total Chunk Time: 0.003 seconds \r\nRows Read: 50000, Total Rows Processed: 50000, Total Chunk Time: 1.772 seconds\r\nRows Read: 20026, Total Rows Processed: 70026, Total Chunk Time: 0.636 seconds \r\nRows Read: 46, Total Rows Processed: 46, Total Chunk Time: 0.004 seconds \r\nRows Read: 50000, Total Rows Processed: 50000, Total Chunk Time: 1.743 seconds\r\nRows Read: 20026, Total Rows Processed: 70026, Total Chunk Time: 0.669 seconds \r\nRows Read: 50, Total Rows Processed: 50, Total Chunk Time: 0.009 seconds \r\nRows Read: 50000, Total Rows Processed: 50000, Total Chunk Time: 1.797 seconds\r"
                    },
                    "metadata": {}
                },
                {
                    "output_type": "display_data",
                    "data": {
                        "text/html": "STDOUT message(s) from external script: \nRows Read: 20026, Total Rows Processed: 70026, Total Chunk Time: 0.679 seconds \r\nRows Read: 64, Total Rows Processed: 64, Total Chunk Time: 0.009 seconds \r\nRows Read: 50000, Total Rows Processed: 50000, Total Chunk Time: 1.727 seconds\r\nRows Read: 20026, Total Rows Processed: 70026, Total Chunk Time: 0.637 seconds \r\nRows Read: 90, Total Rows Processed: 90, Total Chunk Time: 0.006 seconds \r\nRows Read: 50000, Total Rows Processed: 50000, Total Chunk Time: 1.765 seconds\r\nRows Read: 20026, Total Rows Processed: 70026, Total Chunk Time: 0.678 seconds \r\nRows Read: 68, Total Rows Processed: 68, Total Chunk Time: 0.002 seconds \r\nRows Read: 50000, Total Rows Processed: 50000, Total Chunk Time: 1.742 seconds\r\nRows Read: 20026, Total Rows Processed: 70026, Total Chunk Time: 0.645 seconds \r\nRows Read: 50000, Total Rows Processed: 50000, Total Chunk Time: 1.787 seconds\r\nRows Read: 20026, Total Rows Processed: 70026, Total Chunk Time: 0.677 seconds \r"
                    },
                    "metadata": {}
                },
                {
                    "output_type": "display_data",
                    "data": {
                        "text/html": "STDOUT message(s) from external script: \nRows Read: 50000, Total Rows Processed: 50000, Total Chunk Time: 1.768 seconds\r\nRows Read: 20026, Total Rows Processed: 70026, Total Chunk Time: 0.649 seconds \r\nRows Read: 2, Total Rows Processed: 2, Total Chunk Time: 0.001 seconds \r\nRows Read: 50000, Total Rows Processed: 50000, Total Chunk Time: 1.775 seconds\r\nRows Read: 20026, Total Rows Processed: 70026, Total Chunk Time: 0.686 seconds \r\nRows Read: 4, Total Rows Processed: 4, Total Chunk Time: 0.001 seconds \r\nRows Read: 50000, Total Rows Processed: 50000, Total Chunk Time: 1.820 seconds\r\nRows Read: 20026, Total Rows Processed: 70026, Total Chunk Time: 0.655 seconds \r\nRows Read: 8, Total Rows Processed: 8, Total Chunk Time: 0.003 seconds \r\nRows Read: 50000, Total Rows Processed: 50000, Total Chunk Time: 1.763 seconds\r\nRows Read: 20026, Total Rows Processed: 70026, Total Chunk Time: 0.658 seconds \r\nRows Read: 16, Total Rows Processed: 16, Total Chunk Time: 0.003 seconds \r"
                    },
                    "metadata": {}
                },
                {
                    "output_type": "display_data",
                    "data": {
                        "text/html": "STDOUT message(s) from external script: \nRows Read: 50000, Total Rows Processed: 50000, Total Chunk Time: 1.786 seconds\r\nRows Read: 20026, Total Rows Processed: 70026, Total Chunk Time: 0.672 seconds \r\nRows Read: 30, Total Rows Processed: 30, Total Chunk Time: 0.004 seconds \r\nRows Read: 50000, Total Rows Processed: 50000, Total Chunk Time: 1.744 seconds\r\nRows Read: 20026, Total Rows Processed: 70026, Total Chunk Time: 0.672 seconds \r\nRows Read: 44, Total Rows Processed: 44, Total Chunk Time: 0.009 seconds \r\nRows Read: 50000, Total Rows Processed: 50000, Total Chunk Time: 1.833 seconds\r\nRows Read: 20026, Total Rows Processed: 70026, Total Chunk Time: 0.631 seconds \r\nRows Read: 52, Total Rows Processed: 52, Total Chunk Time: 0.006 seconds \r\nRows Read: 50000, Total Rows Processed: 50000, Total Chunk Time: 1.721 seconds\r\nRows Read: 20026, Total Rows Processed: 70026, Total Chunk Time: 0.646 seconds \r\nRows Read: 62, Total Rows Processed: 62, Total Chunk Time: 0.013 seconds \r"
                    },
                    "metadata": {}
                },
                {
                    "output_type": "display_data",
                    "data": {
                        "text/html": "STDOUT message(s) from external script: \nRows Read: 50000, Total Rows Processed: 50000, Total Chunk Time: 1.744 seconds\r\nRows Read: 20026, Total Rows Processed: 70026, Total Chunk Time: 0.652 seconds \r\nRows Read: 48, Total Rows Processed: 48, Total Chunk Time: 0.009 seconds \r\nRows Read: 50000, Total Rows Processed: 50000, Total Chunk Time: 1.728 seconds\r\nRows Read: 20026, Total Rows Processed: 70026, Total Chunk Time: 0.633 seconds \r\nRows Read: 48, Total Rows Processed: 48, Total Chunk Time: Less than .001 seconds \r\nRows Read: 50000, Total Rows Processed: 50000, Total Chunk Time: 1.760 seconds\r\nRows Read: 20026, Total Rows Processed: 70026, Total Chunk Time: 0.646 seconds \r\nRows Read: 50000, Total Rows Processed: 50000, Total Chunk Time: 1.792 seconds\r\nRows Read: 20026, Total Rows Processed: 70026, Total Chunk Time: 0.658 seconds \r\nRows Read: 50000, Total Rows Processed: 50000, Total Chunk Time: 1.786 seconds\r\nRows Read: 20026, Total Rows Processed: 70026, Total Chunk Time: 0.623 seconds \r"
                    },
                    "metadata": {}
                },
                {
                    "output_type": "display_data",
                    "data": {
                        "text/html": "STDOUT message(s) from external script: \nRows Read: 2, Total Rows Processed: 2, Total Chunk Time: Less than .001 seconds \r\nRows Read: 50000, Total Rows Processed: 50000, Total Chunk Time: 1.755 seconds\r\nRows Read: 20026, Total Rows Processed: 70026, Total Chunk Time: 0.644 seconds \r\nRows Read: 4, Total Rows Processed: 4, Total Chunk Time: Less than .001 seconds \r\nRows Read: 50000, Total Rows Processed: 50000, Total Chunk Time: 1.768 seconds\r\nRows Read: 20026, Total Rows Processed: 70026, Total Chunk Time: 0.643 seconds \r\nRows Read: 6, Total Rows Processed: 6, Total Chunk Time: 0.002 seconds \r\nRows Read: 50000, Total Rows Processed: 50000, Total Chunk Time: 1.754 seconds\r\nRows Read: 20026, Total Rows Processed: 70026, Total Chunk Time: 0.658 seconds \r\nRows Read: 12, Total Rows Processed: 12, Total Chunk Time: 0.002 seconds \r\nRows Read: 50000, Total Rows Processed: 50000, Total Chunk Time: 1.864 seconds\r\nRows Read: 20026, Total Rows Processed: 70026, Total Chunk Time: 0.722 seconds \r"
                    },
                    "metadata": {}
                },
                {
                    "output_type": "display_data",
                    "data": {
                        "text/html": "STDOUT message(s) from external script: \nRows Read: 18, Total Rows Processed: 18, Total Chunk Time: 0.002 seconds \r\nRows Read: 50000, Total Rows Processed: 50000, Total Chunk Time: 1.771 seconds\r\nRows Read: 20026, Total Rows Processed: 70026, Total Chunk Time: 0.684 seconds \r\nRows Read: 32, Total Rows Processed: 32, Total Chunk Time: 0.005 seconds \r\nRows Read: 50000, Total Rows Processed: 50000, Total Chunk Time: 1.788 seconds\r\nRows Read: 20026, Total Rows Processed: 70026, Total Chunk Time: 0.661 seconds \r\nRows Read: 40, Total Rows Processed: 40, Total Chunk Time: 0.005 seconds \r\nRows Read: 50000, Total Rows Processed: 50000, Total Chunk Time: 1.735 seconds\r\nRows Read: 20026, Total Rows Processed: 70026, Total Chunk Time: 0.642 seconds \r\nRows Read: 52, Total Rows Processed: 52, Total Chunk Time: 0.007 seconds \r\nRows Read: 50000, Total Rows Processed: 50000, Total Chunk Time: 1.818 seconds\r\nRows Read: 20026, Total Rows Processed: 70026, Total Chunk Time: 0.655 seconds \r"
                    },
                    "metadata": {}
                },
                {
                    "output_type": "display_data",
                    "data": {
                        "text/html": "STDOUT message(s) from external script: \nRows Read: 58, Total Rows Processed: 58, Total Chunk Time: 0.005 seconds \r\nRows Read: 50000, Total Rows Processed: 50000, Total Chunk Time: 1.932 seconds\r\nRows Read: 20026, Total Rows Processed: 70026, Total Chunk Time: 0.672 seconds \r\nRows Read: 52, Total Rows Processed: 52, Total Chunk Time: 0.002 seconds \r\nRows Read: 50000, Total Rows Processed: 50000, Total Chunk Time: 1.859 seconds\r\nRows Read: 20026, Total Rows Processed: 70026, Total Chunk Time: 0.689 seconds \r\nRows Read: 50000, Total Rows Processed: 50000, Total Chunk Time: 1.943 seconds\r\nRows Read: 20026, Total Rows Processed: 70026, Total Chunk Time: 0.701 seconds \r\nRows Read: 50000, Total Rows Processed: 50000, Total Chunk Time: 2.325 seconds\r\nRows Read: 20026, Total Rows Processed: 70026, Total Chunk Time: 0.634 seconds \r\nRows Read: 2, Total Rows Processed: 2, Total Chunk Time: 0.001 seconds \r\nRows Read: 50000, Total Rows Processed: 50000, Total Chunk Time: 1.992 seconds\r"
                    },
                    "metadata": {}
                },
                {
                    "output_type": "display_data",
                    "data": {
                        "text/html": "STDOUT message(s) from external script: \nRows Read: 20026, Total Rows Processed: 70026, Total Chunk Time: 0.707 seconds \r\nRows Read: 4, Total Rows Processed: 4, Total Chunk Time: 0.001 seconds \r\nRows Read: 50000, Total Rows Processed: 50000, Total Chunk Time: 1.781 seconds\r\nRows Read: 20026, Total Rows Processed: 70026, Total Chunk Time: 0.658 seconds \r\nRows Read: 8, Total Rows Processed: 8, Total Chunk Time: 0.001 seconds \r\nRows Read: 50000, Total Rows Processed: 50000, Total Chunk Time: 1.817 seconds\r\nRows Read: 20026, Total Rows Processed: 70026, Total Chunk Time: 0.661 seconds \r\nRows Read: 12, Total Rows Processed: 12, Total Chunk Time: 0.002 seconds \r\nRows Read: 50000, Total Rows Processed: 50000, Total Chunk Time: 1.809 seconds\r\nRows Read: 20026, Total Rows Processed: 70026, Total Chunk Time: 0.647 seconds \r\nRows Read: 24, Total Rows Processed: 24, Total Chunk Time: 0.003 seconds \r\nRows Read: 50000, Total Rows Processed: 50000, Total Chunk Time: 1.787 seconds\r"
                    },
                    "metadata": {}
                },
                {
                    "output_type": "display_data",
                    "data": {
                        "text/html": "STDOUT message(s) from external script: \nRows Read: 20026, Total Rows Processed: 70026, Total Chunk Time: 0.673 seconds \r\nRows Read: 32, Total Rows Processed: 32, Total Chunk Time: 0.007 seconds \r\nRows Read: 50000, Total Rows Processed: 50000, Total Chunk Time: 1.795 seconds\r\nRows Read: 20026, Total Rows Processed: 70026, Total Chunk Time: 0.668 seconds \r\nRows Read: 50, Total Rows Processed: 50, Total Chunk Time: 0.006 seconds \r\nRows Read: 50000, Total Rows Processed: 50000, Total Chunk Time: 1.746 seconds\r\nRows Read: 20026, Total Rows Processed: 70026, Total Chunk Time: 0.668 seconds \r\nRows Read: 54, Total Rows Processed: 54, Total Chunk Time: 0.005 seconds \r\nRows Read: 50000, Total Rows Processed: 50000, Total Chunk Time: 1.796 seconds\r\nRows Read: 20026, Total Rows Processed: 70026, Total Chunk Time: 0.668 seconds \r\nRows Read: 48, Total Rows Processed: 48, Total Chunk Time: 0.005 seconds \r\nRows Read: 50000, Total Rows Processed: 50000, Total Chunk Time: 1.741 seconds\r"
                    },
                    "metadata": {}
                },
                {
                    "output_type": "display_data",
                    "data": {
                        "text/html": "STDOUT message(s) from external script: \nRows Read: 20026, Total Rows Processed: 70026, Total Chunk Time: 0.637 seconds \r\nRows Read: 54, Total Rows Processed: 54, Total Chunk Time: 0.002 seconds \r\nRows Read: 50000, Total Rows Processed: 50000, Total Chunk Time: 1.794 seconds\r\nRows Read: 20026, Total Rows Processed: 70026, Total Chunk Time: 0.652 seconds \r\nRows Read: 50000, Total Rows Processed: 50000, Total Chunk Time: 1.779 seconds\r\nRows Read: 20026, Total Rows Processed: 70026, Total Chunk Time: 0.664 seconds \r\nRows Read: 50000, Total Rows Processed: 50000, Total Chunk Time: 1.769 seconds\r\nRows Read: 20026, Total Rows Processed: 70026, Total Chunk Time: 0.620 seconds \r\nRows Read: 2, Total Rows Processed: 2, Total Chunk Time: Less than .001 seconds \r\nRows Read: 50000, Total Rows Processed: 50000, Total Chunk Time: 1.714 seconds\r\nRows Read: 20026, Total Rows Processed: 70026, Total Chunk Time: 0.640 seconds \r\nRows Read: 4, Total Rows Processed: 4, Total Chunk Time: 0.001 seconds \r"
                    },
                    "metadata": {}
                },
                {
                    "output_type": "display_data",
                    "data": {
                        "text/html": "STDOUT message(s) from external script: \nRows Read: 50000, Total Rows Processed: 50000, Total Chunk Time: 1.743 seconds\r\nRows Read: 20026, Total Rows Processed: 70026, Total Chunk Time: 0.652 seconds \r\nRows Read: 6, Total Rows Processed: 6, Total Chunk Time: Less than .001 seconds \r\nRows Read: 50000, Total Rows Processed: 50000, Total Chunk Time: 1.756 seconds\r\nRows Read: 20026, Total Rows Processed: 70026, Total Chunk Time: 0.650 seconds \r\nRows Read: 12, Total Rows Processed: 12, Total Chunk Time: 0.003 seconds \r\nRows Read: 50000, Total Rows Processed: 50000, Total Chunk Time: 1.764 seconds\r\nRows Read: 20026, Total Rows Processed: 70026, Total Chunk Time: 0.637 seconds \r\nRows Read: 22, Total Rows Processed: 22, Total Chunk Time: 0.003 seconds \r\nRows Read: 50000, Total Rows Processed: 50000, Total Chunk Time: 1.775 seconds\r\nRows Read: 20026, Total Rows Processed: 70026, Total Chunk Time: 0.634 seconds \r\nRows Read: 36, Total Rows Processed: 36, Total Chunk Time: 0.004 seconds \r"
                    },
                    "metadata": {}
                },
                {
                    "output_type": "display_data",
                    "data": {
                        "text/html": "STDOUT message(s) from external script: \nRows Read: 50000, Total Rows Processed: 50000, Total Chunk Time: 1.781 seconds\r\nRows Read: 20026, Total Rows Processed: 70026, Total Chunk Time: 0.630 seconds \r\nRows Read: 46, Total Rows Processed: 46, Total Chunk Time: 0.004 seconds \r\nRows Read: 50000, Total Rows Processed: 50000, Total Chunk Time: 1.744 seconds\r\nRows Read: 20026, Total Rows Processed: 70026, Total Chunk Time: 0.704 seconds \r\nRows Read: 62, Total Rows Processed: 62, Total Chunk Time: 0.007 seconds \r\nRows Read: 50000, Total Rows Processed: 50000, Total Chunk Time: 1.764 seconds\r\nRows Read: 20026, Total Rows Processed: 70026, Total Chunk Time: 0.646 seconds \r\nRows Read: 78, Total Rows Processed: 78, Total Chunk Time: 0.009 seconds \r\nRows Read: 50000, Total Rows Processed: 50000, Total Chunk Time: 1.794 seconds\r\nRows Read: 20026, Total Rows Processed: 70026, Total Chunk Time: 0.649 seconds \r\nRows Read: 72, Total Rows Processed: 72, Total Chunk Time: 0.004 seconds \r"
                    },
                    "metadata": {}
                },
                {
                    "output_type": "display_data",
                    "data": {
                        "text/html": "STDOUT message(s) from external script: \nRows Read: 50000, Total Rows Processed: 50000, Total Chunk Time: 1.767 seconds\r\nRows Read: 20026, Total Rows Processed: 70026, Total Chunk Time: 0.646 seconds \r\nRows Read: 50000, Total Rows Processed: 50000, Total Chunk Time: 1.770 seconds\r\nRows Read: 20026, Total Rows Processed: 70026, Total Chunk Time: 0.669 seconds \r\nRows Read: 50000, Total Rows Processed: 50000, Total Chunk Time: 1.863 seconds\r\nRows Read: 20026, Total Rows Processed: 70026, Total Chunk Time: 0.653 seconds \r\nRows Read: 2, Total Rows Processed: 2, Total Chunk Time: 0.001 seconds \r\nRows Read: 50000, Total Rows Processed: 50000, Total Chunk Time: 1.753 seconds\r\nRows Read: 20026, Total Rows Processed: 70026, Total Chunk Time: 0.676 seconds \r\nRows Read: 4, Total Rows Processed: 4, Total Chunk Time: 0.001 seconds \r\nRows Read: 50000, Total Rows Processed: 50000, Total Chunk Time: 1.849 seconds\r\nRows Read: 20026, Total Rows Processed: 70026, Total Chunk Time: 0.669 seconds \r"
                    },
                    "metadata": {}
                },
                {
                    "output_type": "display_data",
                    "data": {
                        "text/html": "STDOUT message(s) from external script: \nRows Read: 8, Total Rows Processed: 8, Total Chunk Time: 0.002 seconds \r\nRows Read: 50000, Total Rows Processed: 50000, Total Chunk Time: 1.786 seconds\r\nRows Read: 20026, Total Rows Processed: 70026, Total Chunk Time: 0.626 seconds \r\nRows Read: 16, Total Rows Processed: 16, Total Chunk Time: 0.002 seconds \r\nRows Read: 50000, Total Rows Processed: 50000, Total Chunk Time: 1.740 seconds\r\nRows Read: 20026, Total Rows Processed: 70026, Total Chunk Time: 0.648 seconds \r\nRows Read: 26, Total Rows Processed: 26, Total Chunk Time: 0.003 seconds \r\nRows Read: 50000, Total Rows Processed: 50000, Total Chunk Time: 1.726 seconds\r\nRows Read: 20026, Total Rows Processed: 70026, Total Chunk Time: 0.636 seconds \r\nRows Read: 40, Total Rows Processed: 40, Total Chunk Time: 0.007 seconds \r\nRows Read: 50000, Total Rows Processed: 50000, Total Chunk Time: 1.733 seconds\r\nRows Read: 20026, Total Rows Processed: 70026, Total Chunk Time: 0.666 seconds \r"
                    },
                    "metadata": {}
                },
                {
                    "output_type": "display_data",
                    "data": {
                        "text/html": "STDOUT message(s) from external script: \nRows Read: 56, Total Rows Processed: 56, Total Chunk Time: 0.007 seconds \r\nRows Read: 50000, Total Rows Processed: 50000, Total Chunk Time: 1.761 seconds\r\nRows Read: 20026, Total Rows Processed: 70026, Total Chunk Time: 0.648 seconds \r\nRows Read: 68, Total Rows Processed: 68, Total Chunk Time: 0.007 seconds \r\nRows Read: 50000, Total Rows Processed: 50000, Total Chunk Time: 1.758 seconds\r\nRows Read: 20026, Total Rows Processed: 70026, Total Chunk Time: 0.687 seconds \r\nRows Read: 76, Total Rows Processed: 76, Total Chunk Time: 0.011 seconds \r\nRows Read: 50000, Total Rows Processed: 50000, Total Chunk Time: 1.722 seconds\r\nRows Read: 20026, Total Rows Processed: 70026, Total Chunk Time: 0.647 seconds \r\nRows Read: 74, Total Rows Processed: 74, Total Chunk Time: 0.002 seconds \r\nRows Read: 50000, Total Rows Processed: 50000, Total Chunk Time: 1.735 seconds\r\nRows Read: 20026, Total Rows Processed: 70026, Total Chunk Time: 0.641 seconds \r"
                    },
                    "metadata": {}
                },
                {
                    "output_type": "display_data",
                    "data": {
                        "text/html": "STDOUT message(s) from external script: \nRows Read: 50000, Total Rows Processed: 50000, Total Chunk Time: 2.807 seconds\r\nRows Read: 20026, Total Rows Processed: 70026, Total Chunk Time: 0.702 seconds \r\nRows Read: 50000, Total Rows Processed: 50000, Total Chunk Time: 1.762 seconds\r\nRows Read: 20026, Total Rows Processed: 70026, Total Chunk Time: 0.634 seconds \r\nRows Read: 2, Total Rows Processed: 2, Total Chunk Time: Less than .001 seconds \r\nRows Read: 50000, Total Rows Processed: 50000, Total Chunk Time: 1.772 seconds\r\nRows Read: 20026, Total Rows Processed: 70026, Total Chunk Time: 0.784 seconds \r\nRows Read: 4, Total Rows Processed: 4, Total Chunk Time: Less than .001 seconds \r\nRows Read: 50000, Total Rows Processed: 50000, Total Chunk Time: 1.910 seconds\r\nRows Read: 20026, Total Rows Processed: 70026, Total Chunk Time: 0.675 seconds \r\nRows Read: 8, Total Rows Processed: 8, Total Chunk Time: 0.002 seconds \r\nRows Read: 50000, Total Rows Processed: 50000, Total Chunk Time: 1.714 seconds\r"
                    },
                    "metadata": {}
                },
                {
                    "output_type": "display_data",
                    "data": {
                        "text/html": "STDOUT message(s) from external script: \nRows Read: 20026, Total Rows Processed: 70026, Total Chunk Time: 0.639 seconds \r\nRows Read: 16, Total Rows Processed: 16, Total Chunk Time: 0.003 seconds \r\nRows Read: 50000, Total Rows Processed: 50000, Total Chunk Time: 1.758 seconds\r\nRows Read: 20026, Total Rows Processed: 70026, Total Chunk Time: 0.639 seconds \r\nRows Read: 24, Total Rows Processed: 24, Total Chunk Time: 0.006 seconds \r\nRows Read: 50000, Total Rows Processed: 50000, Total Chunk Time: 1.967 seconds\r\nRows Read: 20026, Total Rows Processed: 70026, Total Chunk Time: 0.712 seconds \r\nRows Read: 30, Total Rows Processed: 30, Total Chunk Time: 0.006 seconds \r\nRows Read: 50000, Total Rows Processed: 50000, Total Chunk Time: 1.889 seconds\r\nRows Read: 20026, Total Rows Processed: 70026, Total Chunk Time: 0.700 seconds \r\nRows Read: 44, Total Rows Processed: 44, Total Chunk Time: 0.004 seconds \r\nRows Read: 50000, Total Rows Processed: 50000, Total Chunk Time: 1.819 seconds\r"
                    },
                    "metadata": {}
                },
                {
                    "output_type": "display_data",
                    "data": {
                        "text/html": "STDOUT message(s) from external script: \nRows Read: 20026, Total Rows Processed: 70026, Total Chunk Time: 0.678 seconds \r\nRows Read: 52, Total Rows Processed: 52, Total Chunk Time: 0.009 seconds \r\nRows Read: 50000, Total Rows Processed: 50000, Total Chunk Time: 1.733 seconds\r\nRows Read: 20026, Total Rows Processed: 70026, Total Chunk Time: 0.643 seconds \r\nRows Read: 60, Total Rows Processed: 60, Total Chunk Time: 0.012 seconds \r\nRows Read: 50000, Total Rows Processed: 50000, Total Chunk Time: 1.796 seconds\r\nRows Read: 20026, Total Rows Processed: 70026, Total Chunk Time: 0.636 seconds \r\nRows Read: 64, Total Rows Processed: 64, Total Chunk Time: 0.004 seconds \r\nRows Read: 50000, Total Rows Processed: 50000, Total Chunk Time: 1.766 seconds\r\nRows Read: 20026, Total Rows Processed: 70026, Total Chunk Time: 0.656 seconds \r\nRows Read: 50000, Total Rows Processed: 50000, Total Chunk Time: 1.765 seconds\r\nRows Read: 20026, Total Rows Processed: 70026, Total Chunk Time: 0.677 seconds \r"
                    },
                    "metadata": {}
                },
                {
                    "output_type": "display_data",
                    "data": {
                        "text/html": "STDOUT message(s) from external script: \nRows Read: 50000, Total Rows Processed: 50000, Total Chunk Time: 1.754 seconds\r\nRows Read: 20026, Total Rows Processed: 70026, Total Chunk Time: 0.958 seconds \r\nRows Read: 2, Total Rows Processed: 2, Total Chunk Time: Less than .001 seconds \r\nRows Read: 50000, Total Rows Processed: 50000, Total Chunk Time: 1.792 seconds\r\nRows Read: 20026, Total Rows Processed: 70026, Total Chunk Time: 0.636 seconds \r\nRows Read: 4, Total Rows Processed: 4, Total Chunk Time: 0.002 seconds \r\nRows Read: 50000, Total Rows Processed: 50000, Total Chunk Time: 1.770 seconds\r\nRows Read: 20026, Total Rows Processed: 70026, Total Chunk Time: 0.660 seconds \r\nRows Read: 8, Total Rows Processed: 8, Total Chunk Time: 0.002 seconds \r\nRows Read: 50000, Total Rows Processed: 50000, Total Chunk Time: 1.740 seconds\r\nRows Read: 20026, Total Rows Processed: 70026, Total Chunk Time: 0.646 seconds \r\nRows Read: 14, Total Rows Processed: 14, Total Chunk Time: 0.005 seconds \r"
                    },
                    "metadata": {}
                },
                {
                    "output_type": "display_data",
                    "data": {
                        "text/html": "STDOUT message(s) from external script: \nRows Read: 50000, Total Rows Processed: 50000, Total Chunk Time: 1.758 seconds\r\nRows Read: 20026, Total Rows Processed: 70026, Total Chunk Time: 0.649 seconds \r\nRows Read: 28, Total Rows Processed: 28, Total Chunk Time: 0.008 seconds \r\nRows Read: 50000, Total Rows Processed: 50000, Total Chunk Time: 1.761 seconds\r\nRows Read: 20026, Total Rows Processed: 70026, Total Chunk Time: 0.666 seconds \r\nRows Read: 38, Total Rows Processed: 38, Total Chunk Time: 0.005 seconds \r\nRows Read: 50000, Total Rows Processed: 50000, Total Chunk Time: 1.768 seconds\r\nRows Read: 20026, Total Rows Processed: 70026, Total Chunk Time: 0.661 seconds \r\nRows Read: 58, Total Rows Processed: 58, Total Chunk Time: 0.006 seconds \r\nRows Read: 50000, Total Rows Processed: 50000, Total Chunk Time: 1.777 seconds\r\nRows Read: 20026, Total Rows Processed: 70026, Total Chunk Time: 0.671 seconds \r\nRows Read: 64, Total Rows Processed: 64, Total Chunk Time: 0.008 seconds \r"
                    },
                    "metadata": {}
                },
                {
                    "output_type": "display_data",
                    "data": {
                        "text/html": "STDOUT message(s) from external script: \nRows Read: 50000, Total Rows Processed: 50000, Total Chunk Time: 1.802 seconds\r\nRows Read: 20026, Total Rows Processed: 70026, Total Chunk Time: 0.651 seconds \r\nRows Read: 66, Total Rows Processed: 66, Total Chunk Time: 0.007 seconds \r\nRows Read: 50000, Total Rows Processed: 50000, Total Chunk Time: 1.809 seconds\r\nRows Read: 20026, Total Rows Processed: 70026, Total Chunk Time: 0.652 seconds \r\nRows Read: 48, Total Rows Processed: 48, Total Chunk Time: Less than .001 seconds \r\nRows Read: 50000, Total Rows Processed: 50000, Total Chunk Time: 1.770 seconds\r\nRows Read: 20026, Total Rows Processed: 70026, Total Chunk Time: 0.665 seconds \r\nRows Read: 50000, Total Rows Processed: 50000, Total Chunk Time: 1.804 seconds\r\nRows Read: 20026, Total Rows Processed: 70026, Total Chunk Time: 0.667 seconds \r\nRows Read: 50000, Total Rows Processed: 50000, Total Chunk Time: 1.808 seconds\r\nRows Read: 20026, Total Rows Processed: 70026, Total Chunk Time: 0.624 seconds \r"
                    },
                    "metadata": {}
                },
                {
                    "output_type": "display_data",
                    "data": {
                        "text/html": "STDOUT message(s) from external script: \nRows Read: 2, Total Rows Processed: 2, Total Chunk Time: 0.001 seconds \r\nRows Read: 50000, Total Rows Processed: 50000, Total Chunk Time: 1.773 seconds\r\nRows Read: 20026, Total Rows Processed: 70026, Total Chunk Time: 0.688 seconds \r\nRows Read: 4, Total Rows Processed: 4, Total Chunk Time: 0.001 seconds \r\nRows Read: 50000, Total Rows Processed: 50000, Total Chunk Time: 1.817 seconds\r\nRows Read: 20026, Total Rows Processed: 70026, Total Chunk Time: 0.661 seconds \r\nRows Read: 8, Total Rows Processed: 8, Total Chunk Time: 0.001 seconds \r\nRows Read: 50000, Total Rows Processed: 50000, Total Chunk Time: 1.721 seconds\r\nRows Read: 20026, Total Rows Processed: 70026, Total Chunk Time: 0.657 seconds \r\nRows Read: 14, Total Rows Processed: 14, Total Chunk Time: 0.004 seconds \r\nRows Read: 50000, Total Rows Processed: 50000, Total Chunk Time: 1.800 seconds\r\nRows Read: 20026, Total Rows Processed: 70026, Total Chunk Time: 0.658 seconds \r"
                    },
                    "metadata": {}
                },
                {
                    "output_type": "display_data",
                    "data": {
                        "text/html": "STDOUT message(s) from external script: \nRows Read: 26, Total Rows Processed: 26, Total Chunk Time: 0.008 seconds \r\nRows Read: 50000, Total Rows Processed: 50000, Total Chunk Time: 1.760 seconds\r\nRows Read: 20026, Total Rows Processed: 70026, Total Chunk Time: 0.678 seconds \r\nRows Read: 46, Total Rows Processed: 46, Total Chunk Time: 0.004 seconds \r\nRows Read: 50000, Total Rows Processed: 50000, Total Chunk Time: 1.791 seconds\r\nRows Read: 20026, Total Rows Processed: 70026, Total Chunk Time: 0.666 seconds \r\nRows Read: 50, Total Rows Processed: 50, Total Chunk Time: 0.005 seconds \r\nRows Read: 50000, Total Rows Processed: 50000, Total Chunk Time: 1.759 seconds\r\nRows Read: 20026, Total Rows Processed: 70026, Total Chunk Time: 0.678 seconds \r\nRows Read: 56, Total Rows Processed: 56, Total Chunk Time: 0.005 seconds \r\nRows Read: 50000, Total Rows Processed: 50000, Total Chunk Time: 1.768 seconds\r\nRows Read: 20026, Total Rows Processed: 70026, Total Chunk Time: 0.647 seconds \r"
                    },
                    "metadata": {}
                },
                {
                    "output_type": "display_data",
                    "data": {
                        "text/html": "STDOUT message(s) from external script: \nRows Read: 60, Total Rows Processed: 60, Total Chunk Time: 0.006 seconds \r\nRows Read: 50000, Total Rows Processed: 50000, Total Chunk Time: 1.767 seconds\r\nRows Read: 20026, Total Rows Processed: 70026, Total Chunk Time: 0.676 seconds \r\nRows Read: 54, Total Rows Processed: 54, Total Chunk Time: 0.002 seconds \r\nRows Read: 50000, Total Rows Processed: 50000, Total Chunk Time: 1.806 seconds\r\nRows Read: 20026, Total Rows Processed: 70026, Total Chunk Time: 0.650 seconds \r\nRows Read: 50000, Total Rows Processed: 50000, Total Chunk Time: 1.762 seconds\r\nRows Read: 20026, Total Rows Processed: 70026, Total Chunk Time: 0.746 seconds \r\nRows Read: 50000, Total Rows Processed: 50000, Total Chunk Time: 1.801 seconds\r\nRows Read: 20026, Total Rows Processed: 70026, Total Chunk Time: 0.613 seconds \r\nRows Read: 2, Total Rows Processed: 2, Total Chunk Time: Less than .001 seconds \r\nRows Read: 50000, Total Rows Processed: 50000, Total Chunk Time: 1.767 seconds\r"
                    },
                    "metadata": {}
                },
                {
                    "output_type": "display_data",
                    "data": {
                        "text/html": "STDOUT message(s) from external script: \nRows Read: 20026, Total Rows Processed: 70026, Total Chunk Time: 0.659 seconds \r\nRows Read: 4, Total Rows Processed: 4, Total Chunk Time: Less than .001 seconds \r\nRows Read: 50000, Total Rows Processed: 50000, Total Chunk Time: 1.767 seconds\r\nRows Read: 20026, Total Rows Processed: 70026, Total Chunk Time: 0.654 seconds \r\nRows Read: 8, Total Rows Processed: 8, Total Chunk Time: 0.002 seconds \r\nRows Read: 50000, Total Rows Processed: 50000, Total Chunk Time: 1.785 seconds\r\nRows Read: 20026, Total Rows Processed: 70026, Total Chunk Time: 0.721 seconds \r\nRows Read: 14, Total Rows Processed: 14, Total Chunk Time: 0.004 seconds \r\nRows Read: 50000, Total Rows Processed: 50000, Total Chunk Time: 1.794 seconds\r\nRows Read: 20026, Total Rows Processed: 70026, Total Chunk Time: 0.666 seconds \r\nRows Read: 26, Total Rows Processed: 26, Total Chunk Time: 0.003 seconds \r\nRows Read: 50000, Total Rows Processed: 50000, Total Chunk Time: 1.788 seconds\r"
                    },
                    "metadata": {}
                },
                {
                    "output_type": "display_data",
                    "data": {
                        "text/html": "STDOUT message(s) from external script: \nRows Read: 20026, Total Rows Processed: 70026, Total Chunk Time: 0.653 seconds \r\nRows Read: 34, Total Rows Processed: 34, Total Chunk Time: 0.006 seconds \r\nRows Read: 50000, Total Rows Processed: 50000, Total Chunk Time: 1.818 seconds\r\nRows Read: 20026, Total Rows Processed: 70026, Total Chunk Time: 0.677 seconds \r\nRows Read: 50, Total Rows Processed: 50, Total Chunk Time: 0.007 seconds \r\nRows Read: 50000, Total Rows Processed: 50000, Total Chunk Time: 1.756 seconds\r\nRows Read: 20026, Total Rows Processed: 70026, Total Chunk Time: 0.673 seconds \r\nRows Read: 46, Total Rows Processed: 46, Total Chunk Time: 0.004 seconds \r\nRows Read: 50000, Total Rows Processed: 50000, Total Chunk Time: 1.746 seconds\r\nRows Read: 20026, Total Rows Processed: 70026, Total Chunk Time: 0.635 seconds \r\nRows Read: 52, Total Rows Processed: 52, Total Chunk Time: 0.008 seconds \r\nRows Read: 50000, Total Rows Processed: 50000, Total Chunk Time: 1.727 seconds\r"
                    },
                    "metadata": {}
                },
                {
                    "output_type": "display_data",
                    "data": {
                        "text/html": "STDOUT message(s) from external script: \nRows Read: 20026, Total Rows Processed: 70026, Total Chunk Time: 0.637 seconds \r\nRows Read: 58, Total Rows Processed: 58, Total Chunk Time: 0.004 seconds \r\nRows Read: 50000, Total Rows Processed: 50000, Total Chunk Time: 1.730 seconds\r\nRows Read: 20026, Total Rows Processed: 70026, Total Chunk Time: 0.648 seconds \r\nRows Read: 50000, Total Rows Processed: 50000, Total Chunk Time: 1.760 seconds\r\nRows Read: 20026, Total Rows Processed: 70026, Total Chunk Time: 0.645 seconds \r\nRows Read: 50000, Total Rows Processed: 50000, Total Chunk Time: 1.741 seconds\r\nRows Read: 20026, Total Rows Processed: 70026, Total Chunk Time: 0.628 seconds \r\nRows Read: 2, Total Rows Processed: 2, Total Chunk Time: Less than .001 seconds \r\nRows Read: 50000, Total Rows Processed: 50000, Total Chunk Time: 1.755 seconds\r\nRows Read: 20026, Total Rows Processed: 70026, Total Chunk Time: 0.656 seconds \r\nRows Read: 4, Total Rows Processed: 4, Total Chunk Time: Less than .001 seconds \r"
                    },
                    "metadata": {}
                },
                {
                    "output_type": "display_data",
                    "data": {
                        "text/html": "STDOUT message(s) from external script: \nRows Read: 50000, Total Rows Processed: 50000, Total Chunk Time: 1.723 seconds\r\nRows Read: 20026, Total Rows Processed: 70026, Total Chunk Time: 0.659 seconds \r\nRows Read: 8, Total Rows Processed: 8, Total Chunk Time: Less than .001 seconds \r\nRows Read: 50000, Total Rows Processed: 50000, Total Chunk Time: 1.736 seconds\r\nRows Read: 20026, Total Rows Processed: 70026, Total Chunk Time: 0.640 seconds \r\nRows Read: 16, Total Rows Processed: 16, Total Chunk Time: 0.006 seconds \r\nRows Read: 50000, Total Rows Processed: 50000, Total Chunk Time: 1.741 seconds\r\nRows Read: 20026, Total Rows Processed: 70026, Total Chunk Time: 0.648 seconds \r\nRows Read: 26, Total Rows Processed: 26, Total Chunk Time: 0.004 seconds \r\nRows Read: 50000, Total Rows Processed: 50000, Total Chunk Time: 1.760 seconds\r\nRows Read: 20026, Total Rows Processed: 70026, Total Chunk Time: 0.649 seconds \r\nRows Read: 44, Total Rows Processed: 44, Total Chunk Time: 0.005 seconds \r"
                    },
                    "metadata": {}
                },
                {
                    "output_type": "display_data",
                    "data": {
                        "text/html": "STDOUT message(s) from external script: \nRows Read: 50000, Total Rows Processed: 50000, Total Chunk Time: 1.792 seconds\r\nRows Read: 20026, Total Rows Processed: 70026, Total Chunk Time: 0.673 seconds \r\nRows Read: 68, Total Rows Processed: 68, Total Chunk Time: 0.007 seconds \r\nRows Read: 50000, Total Rows Processed: 50000, Total Chunk Time: 1.722 seconds\r\nRows Read: 20026, Total Rows Processed: 70026, Total Chunk Time: 0.654 seconds \r\nRows Read: 84, Total Rows Processed: 84, Total Chunk Time: 0.014 seconds \r\nRows Read: 50000, Total Rows Processed: 50000, Total Chunk Time: 1.822 seconds\r\nRows Read: 20026, Total Rows Processed: 70026, Total Chunk Time: 0.678 seconds \r\nRows Read: 90, Total Rows Processed: 90, Total Chunk Time: 0.006 seconds \r\nRows Read: 50000, Total Rows Processed: 50000, Total Chunk Time: 1.749 seconds\r\nRows Read: 20026, Total Rows Processed: 70026, Total Chunk Time: 0.641 seconds \r\nRows Read: 74, Total Rows Processed: 74, Total Chunk Time: 0.002 seconds \r"
                    },
                    "metadata": {}
                },
                {
                    "output_type": "display_data",
                    "data": {
                        "text/html": "STDOUT message(s) from external script: \nRows Read: 50000, Total Rows Processed: 50000, Total Chunk Time: 1.769 seconds\r\nRows Read: 20026, Total Rows Processed: 70026, Total Chunk Time: 0.637 seconds \r\nRows Read: 50000, Total Rows Processed: 50000, Total Chunk Time: 1.788 seconds\r\nRows Read: 20026, Total Rows Processed: 70026, Total Chunk Time: 0.670 seconds \r\nRows Read: 50000, Total Rows Processed: 50000, Total Chunk Time: 1.745 seconds\r\nRows Read: 20026, Total Rows Processed: 70026, Total Chunk Time: 0.640 seconds \r\nRows Read: 2, Total Rows Processed: 2, Total Chunk Time: Less than .001 seconds \r\nRows Read: 50000, Total Rows Processed: 50000, Total Chunk Time: 1.750 seconds\r\nRows Read: 20026, Total Rows Processed: 70026, Total Chunk Time: 0.661 seconds \r\nRows Read: 4, Total Rows Processed: 4, Total Chunk Time: 0.002 seconds \r\nRows Read: 50000, Total Rows Processed: 50000, Total Chunk Time: 1.751 seconds\r\nRows Read: 20026, Total Rows Processed: 70026, Total Chunk Time: 0.651 seconds \r"
                    },
                    "metadata": {}
                },
                {
                    "output_type": "display_data",
                    "data": {
                        "text/html": "STDOUT message(s) from external script: \nRows Read: 8, Total Rows Processed: 8, Total Chunk Time: Less than .001 seconds \r\nRows Read: 50000, Total Rows Processed: 50000, Total Chunk Time: 1.754 seconds\r\nRows Read: 20026, Total Rows Processed: 70026, Total Chunk Time: 0.648 seconds \r\nRows Read: 16, Total Rows Processed: 16, Total Chunk Time: 0.003 seconds \r\nRows Read: 50000, Total Rows Processed: 50000, Total Chunk Time: 1.829 seconds\r\nRows Read: 20026, Total Rows Processed: 70026, Total Chunk Time: 0.667 seconds \r\nRows Read: 26, Total Rows Processed: 26, Total Chunk Time: 0.008 seconds \r\nRows Read: 50000, Total Rows Processed: 50000, Total Chunk Time: 1.770 seconds\r\nRows Read: 20026, Total Rows Processed: 70026, Total Chunk Time: 0.625 seconds \r\nRows Read: 40, Total Rows Processed: 40, Total Chunk Time: 0.004 seconds \r\nRows Read: 50000, Total Rows Processed: 50000, Total Chunk Time: 1.842 seconds\r\nRows Read: 20026, Total Rows Processed: 70026, Total Chunk Time: 0.661 seconds \r"
                    },
                    "metadata": {}
                },
                {
                    "output_type": "display_data",
                    "data": {
                        "text/html": "STDOUT message(s) from external script: \nRows Read: 50, Total Rows Processed: 50, Total Chunk Time: 0.005 seconds \r\nRows Read: 50000, Total Rows Processed: 50000, Total Chunk Time: 1.732 seconds\r\nRows Read: 20026, Total Rows Processed: 70026, Total Chunk Time: 0.639 seconds \r\nRows Read: 64, Total Rows Processed: 64, Total Chunk Time: 0.006 seconds \r\nRows Read: 50000, Total Rows Processed: 50000, Total Chunk Time: 1.754 seconds\r\nRows Read: 20026, Total Rows Processed: 70026, Total Chunk Time: 0.667 seconds \r\nRows Read: 54, Total Rows Processed: 54, Total Chunk Time: 0.005 seconds \r\nRows Read: 50000, Total Rows Processed: 50000, Total Chunk Time: 1.760 seconds\r\nRows Read: 20026, Total Rows Processed: 70026, Total Chunk Time: 0.633 seconds \r\nRows Read: 62, Total Rows Processed: 62, Total Chunk Time: Less than .001 seconds \r\nRows Read: 50000, Total Rows Processed: 50000, Total Chunk Time: 1.801 seconds\r\nRows Read: 20026, Total Rows Processed: 70026, Total Chunk Time: 0.649 seconds \r"
                    },
                    "metadata": {}
                },
                {
                    "output_type": "display_data",
                    "data": {
                        "text/html": "STDOUT message(s) from external script: \nRows Read: 50000, Total Rows Processed: 50000, Total Chunk Time: 1.733 seconds\r\nRows Read: 20026, Total Rows Processed: 70026, Total Chunk Time: 0.655 seconds \r\nRows Read: 50000, Total Rows Processed: 50000, Total Chunk Time: 1.765 seconds\r\nRows Read: 20026, Total Rows Processed: 70026, Total Chunk Time: 0.628 seconds \r\nRows Read: 2, Total Rows Processed: 2, Total Chunk Time: 0.002 seconds \r\nRows Read: 50000, Total Rows Processed: 50000, Total Chunk Time: 1.777 seconds\r\nRows Read: 20026, Total Rows Processed: 70026, Total Chunk Time: 0.644 seconds \r\nRows Read: 4, Total Rows Processed: 4, Total Chunk Time: Less than .001 seconds \r\nRows Read: 50000, Total Rows Processed: 50000, Total Chunk Time: 1.757 seconds\r\nRows Read: 20026, Total Rows Processed: 70026, Total Chunk Time: 0.639 seconds \r\nRows Read: 8, Total Rows Processed: 8, Total Chunk Time: 0.002 seconds \r\nRows Read: 50000, Total Rows Processed: 50000, Total Chunk Time: 1.759 seconds\r"
                    },
                    "metadata": {}
                },
                {
                    "output_type": "display_data",
                    "data": {
                        "text/html": "STDOUT message(s) from external script: \nRows Read: 20026, Total Rows Processed: 70026, Total Chunk Time: 0.653 seconds \r\nRows Read: 16, Total Rows Processed: 16, Total Chunk Time: 0.002 seconds \r\nRows Read: 50000, Total Rows Processed: 50000, Total Chunk Time: 1.781 seconds\r\nRows Read: 20026, Total Rows Processed: 70026, Total Chunk Time: 0.673 seconds \r\nRows Read: 28, Total Rows Processed: 28, Total Chunk Time: 0.004 seconds \r\nRows Read: 50000, Total Rows Processed: 50000, Total Chunk Time: 1.789 seconds\r\nRows Read: 20026, Total Rows Processed: 70026, Total Chunk Time: 0.642 seconds \r\nRows Read: 46, Total Rows Processed: 46, Total Chunk Time: 0.006 seconds \r\nRows Read: 50000, Total Rows Processed: 50000, Total Chunk Time: 1.766 seconds\r\nRows Read: 20026, Total Rows Processed: 70026, Total Chunk Time: 0.660 seconds \r\nRows Read: 54, Total Rows Processed: 54, Total Chunk Time: 0.007 seconds \r\nRows Read: 50000, Total Rows Processed: 50000, Total Chunk Time: 1.764 seconds\r"
                    },
                    "metadata": {}
                },
                {
                    "output_type": "display_data",
                    "data": {
                        "text/html": "STDOUT message(s) from external script: \nRows Read: 20026, Total Rows Processed: 70026, Total Chunk Time: 0.652 seconds \r\nRows Read: 62, Total Rows Processed: 62, Total Chunk Time: 0.009 seconds \r\nRows Read: 50000, Total Rows Processed: 50000, Total Chunk Time: 1.799 seconds\r\nRows Read: 20026, Total Rows Processed: 70026, Total Chunk Time: 0.775 seconds \r\nRows Read: 60, Total Rows Processed: 60, Total Chunk Time: 0.009 seconds \r\nRows Read: 50000, Total Rows Processed: 50000, Total Chunk Time: 1.851 seconds\r\nRows Read: 20026, Total Rows Processed: 70026, Total Chunk Time: 0.666 seconds \r\nRows Read: 52, Total Rows Processed: 52, Total Chunk Time: Less than .001 seconds \r\nRows Read: 50000, Total Rows Processed: 50000, Total Chunk Time: 1.927 seconds\r\nRows Read: 20026, Total Rows Processed: 70026, Total Chunk Time: 0.707 seconds \r\nRows Read: 50000, Total Rows Processed: 50000, Total Chunk Time: 1.787 seconds\r\nRows Read: 20026, Total Rows Processed: 70026, Total Chunk Time: 0.729 seconds \r"
                    },
                    "metadata": {}
                },
                {
                    "output_type": "display_data",
                    "data": {
                        "text/html": "STDOUT message(s) from external script: \nRows Read: 50000, Total Rows Processed: 50000, Total Chunk Time: 1.809 seconds\r\nRows Read: 20026, Total Rows Processed: 70026, Total Chunk Time: 0.649 seconds \r\nRows Read: 2, Total Rows Processed: 2, Total Chunk Time: Less than .001 seconds \r\nRows Read: 50000, Total Rows Processed: 50000, Total Chunk Time: 1.769 seconds\r\nRows Read: 20026, Total Rows Processed: 70026, Total Chunk Time: 0.634 seconds \r\nRows Read: 4, Total Rows Processed: 4, Total Chunk Time: 0.002 seconds \r\nRows Read: 50000, Total Rows Processed: 50000, Total Chunk Time: 1.779 seconds\r\nRows Read: 20026, Total Rows Processed: 70026, Total Chunk Time: 0.647 seconds \r\nRows Read: 8, Total Rows Processed: 8, Total Chunk Time: 0.002 seconds \r\nRows Read: 50000, Total Rows Processed: 50000, Total Chunk Time: 1.838 seconds\r\nRows Read: 20026, Total Rows Processed: 70026, Total Chunk Time: 0.676 seconds \r\nRows Read: 16, Total Rows Processed: 16, Total Chunk Time: 0.004 seconds \r"
                    },
                    "metadata": {}
                },
                {
                    "output_type": "display_data",
                    "data": {
                        "text/html": "STDOUT message(s) from external script: \nRows Read: 50000, Total Rows Processed: 50000, Total Chunk Time: 1.799 seconds\r\nRows Read: 20026, Total Rows Processed: 70026, Total Chunk Time: 0.733 seconds \r\nRows Read: 28, Total Rows Processed: 28, Total Chunk Time: 0.003 seconds \r\nRows Read: 50000, Total Rows Processed: 50000, Total Chunk Time: 1.765 seconds\r\nRows Read: 20026, Total Rows Processed: 70026, Total Chunk Time: 0.653 seconds \r\nRows Read: 38, Total Rows Processed: 38, Total Chunk Time: 0.007 seconds \r\nRows Read: 50000, Total Rows Processed: 50000, Total Chunk Time: 1.769 seconds\r\nRows Read: 20026, Total Rows Processed: 70026, Total Chunk Time: 0.669 seconds \r\nRows Read: 56, Total Rows Processed: 56, Total Chunk Time: 0.009 seconds \r\nRows Read: 50000, Total Rows Processed: 50000, Total Chunk Time: 1.808 seconds\r\nRows Read: 20026, Total Rows Processed: 70026, Total Chunk Time: 0.635 seconds \r\nRows Read: 60, Total Rows Processed: 60, Total Chunk Time: 0.007 seconds \r"
                    },
                    "metadata": {}
                },
                {
                    "output_type": "display_data",
                    "data": {
                        "text/html": "STDOUT message(s) from external script: \nRows Read: 50000, Total Rows Processed: 50000, Total Chunk Time: 1.796 seconds\r\nRows Read: 20026, Total Rows Processed: 70026, Total Chunk Time: 0.684 seconds \r\nRows Read: 64, Total Rows Processed: 64, Total Chunk Time: 0.009 seconds \r\nRows Read: 50000, Total Rows Processed: 50000, Total Chunk Time: 1.856 seconds\r\nRows Read: 20026, Total Rows Processed: 70026, Total Chunk Time: 0.638 seconds \r\nRows Read: 74, Total Rows Processed: 74, Total Chunk Time: 0.002 seconds \r\nRows Read: 50000, Total Rows Processed: 50000, Total Chunk Time: 1.755 seconds\r\nRows Read: 20026, Total Rows Processed: 70026, Total Chunk Time: 0.649 seconds \r\nRows Read: 50000, Total Rows Processed: 50000, Total Chunk Time: 1.812 seconds\r\nRows Read: 20026, Total Rows Processed: 70026, Total Chunk Time: 0.707 seconds \r\nRows Read: 50000, Total Rows Processed: 50000, Total Chunk Time: 1.758 seconds\r\nRows Read: 20026, Total Rows Processed: 70026, Total Chunk Time: 0.639 seconds \r"
                    },
                    "metadata": {}
                },
                {
                    "output_type": "display_data",
                    "data": {
                        "text/html": "STDOUT message(s) from external script: \nRows Read: 2, Total Rows Processed: 2, Total Chunk Time: Less than .001 seconds \r\nRows Read: 50000, Total Rows Processed: 50000, Total Chunk Time: 1.747 seconds\r\nRows Read: 20026, Total Rows Processed: 70026, Total Chunk Time: 0.657 seconds \r\nRows Read: 4, Total Rows Processed: 4, Total Chunk Time: 0.002 seconds \r\nRows Read: 50000, Total Rows Processed: 50000, Total Chunk Time: 1.839 seconds\r\nRows Read: 20026, Total Rows Processed: 70026, Total Chunk Time: 0.626 seconds \r\nRows Read: 8, Total Rows Processed: 8, Total Chunk Time: Less than .001 seconds \r\nRows Read: 50000, Total Rows Processed: 50000, Total Chunk Time: 1.783 seconds\r\nRows Read: 20026, Total Rows Processed: 70026, Total Chunk Time: 0.647 seconds \r\nRows Read: 14, Total Rows Processed: 14, Total Chunk Time: 0.003 seconds \r\nRows Read: 50000, Total Rows Processed: 50000, Total Chunk Time: 1.786 seconds\r\nRows Read: 20026, Total Rows Processed: 70026, Total Chunk Time: 0.649 seconds \r"
                    },
                    "metadata": {}
                },
                {
                    "output_type": "display_data",
                    "data": {
                        "text/html": "STDOUT message(s) from external script: \nRows Read: 26, Total Rows Processed: 26, Total Chunk Time: 0.003 seconds \r\nRows Read: 50000, Total Rows Processed: 50000, Total Chunk Time: 1.746 seconds\r\nRows Read: 20026, Total Rows Processed: 70026, Total Chunk Time: 0.660 seconds \r\nRows Read: 38, Total Rows Processed: 38, Total Chunk Time: 0.007 seconds \r\nRows Read: 50000, Total Rows Processed: 50000, Total Chunk Time: 1.766 seconds\r\nRows Read: 20026, Total Rows Processed: 70026, Total Chunk Time: 0.666 seconds \r\nRows Read: 56, Total Rows Processed: 56, Total Chunk Time: 0.006 seconds \r\nRows Read: 50000, Total Rows Processed: 50000, Total Chunk Time: 1.769 seconds\r\nRows Read: 20026, Total Rows Processed: 70026, Total Chunk Time: 0.668 seconds \r\nRows Read: 62, Total Rows Processed: 62, Total Chunk Time: 0.015 seconds \r\nRows Read: 50000, Total Rows Processed: 50000, Total Chunk Time: 1.758 seconds\r\nRows Read: 20026, Total Rows Processed: 70026, Total Chunk Time: 0.659 seconds \r"
                    },
                    "metadata": {}
                },
                {
                    "output_type": "display_data",
                    "data": {
                        "text/html": "STDOUT message(s) from external script: \nRows Read: 66, Total Rows Processed: 66, Total Chunk Time: 0.007 seconds \r\nRows Read: 50000, Total Rows Processed: 50000, Total Chunk Time: 1.903 seconds\r\nRows Read: 20026, Total Rows Processed: 70026, Total Chunk Time: 0.648 seconds \r\nRows Read: 68, Total Rows Processed: 68, Total Chunk Time: 0.003 seconds \r\nRows Read: 50000, Total Rows Processed: 50000, Total Chunk Time: 1.782 seconds\r\nRows Read: 20026, Total Rows Processed: 70026, Total Chunk Time: 0.639 seconds \r\nRows Read: 50000, Total Rows Processed: 50000, Total Chunk Time: 1.719 seconds\r\nRows Read: 20026, Total Rows Processed: 70026, Total Chunk Time: 0.666 seconds \r\nRows Read: 50000, Total Rows Processed: 50000, Total Chunk Time: 1.817 seconds\r\nRows Read: 20026, Total Rows Processed: 70026, Total Chunk Time: 0.655 seconds \r\nRows Read: 2, Total Rows Processed: 2, Total Chunk Time: Less than .001 seconds \r\nRows Read: 50000, Total Rows Processed: 50000, Total Chunk Time: 1.743 seconds\r"
                    },
                    "metadata": {}
                },
                {
                    "output_type": "display_data",
                    "data": {
                        "text/html": "STDOUT message(s) from external script: \nRows Read: 20026, Total Rows Processed: 70026, Total Chunk Time: 0.678 seconds \r\nRows Read: 4, Total Rows Processed: 4, Total Chunk Time: Less than .001 seconds \r\nRows Read: 50000, Total Rows Processed: 50000, Total Chunk Time: 1.777 seconds\r\nRows Read: 20026, Total Rows Processed: 70026, Total Chunk Time: 0.636 seconds \r\nRows Read: 8, Total Rows Processed: 8, Total Chunk Time: 0.002 seconds \r\nRows Read: 50000, Total Rows Processed: 50000, Total Chunk Time: 1.759 seconds\r\nRows Read: 20026, Total Rows Processed: 70026, Total Chunk Time: 0.650 seconds \r\nRows Read: 14, Total Rows Processed: 14, Total Chunk Time: 0.003 seconds \r\nRows Read: 50000, Total Rows Processed: 50000, Total Chunk Time: 1.839 seconds\r\nRows Read: 20026, Total Rows Processed: 70026, Total Chunk Time: 0.705 seconds \r\nRows Read: 24, Total Rows Processed: 24, Total Chunk Time: 0.006 seconds \r\nRows Read: 50000, Total Rows Processed: 50000, Total Chunk Time: 1.755 seconds\r"
                    },
                    "metadata": {}
                },
                {
                    "output_type": "display_data",
                    "data": {
                        "text/html": "STDOUT message(s) from external script: \nRows Read: 20026, Total Rows Processed: 70026, Total Chunk Time: 0.687 seconds \r\nRows Read: 32, Total Rows Processed: 32, Total Chunk Time: 0.004 seconds \r\nRows Read: 50000, Total Rows Processed: 50000, Total Chunk Time: 1.789 seconds\r\nRows Read: 20026, Total Rows Processed: 70026, Total Chunk Time: 0.666 seconds \r\nRows Read: 50, Total Rows Processed: 50, Total Chunk Time: 0.008 seconds \r\nRows Read: 50000, Total Rows Processed: 50000, Total Chunk Time: 1.778 seconds\r\nRows Read: 20026, Total Rows Processed: 70026, Total Chunk Time: 0.675 seconds \r\nRows Read: 60, Total Rows Processed: 60, Total Chunk Time: 0.006 seconds \r\nRows Read: 50000, Total Rows Processed: 50000, Total Chunk Time: 1.737 seconds\r\nRows Read: 20026, Total Rows Processed: 70026, Total Chunk Time: 0.661 seconds \r\nRows Read: 56, Total Rows Processed: 56, Total Chunk Time: 0.006 seconds \r\nRows Read: 50000, Total Rows Processed: 50000, Total Chunk Time: 1.707 seconds\r"
                    },
                    "metadata": {}
                },
                {
                    "output_type": "display_data",
                    "data": {
                        "text/html": "STDOUT message(s) from external script: \nRows Read: 20026, Total Rows Processed: 70026, Total Chunk Time: 0.641 seconds \r\nRows Read: 60, Total Rows Processed: 60, Total Chunk Time: 0.002 seconds \r\nRows Read: 50000, Total Rows Processed: 50000, Total Chunk Time: 1.803 seconds\r\nRows Read: 20026, Total Rows Processed: 70026, Total Chunk Time: 0.686 seconds \r\nRows Read: 50000, Total Rows Processed: 50000, Total Chunk Time: 1.770 seconds\r\nRows Read: 20026, Total Rows Processed: 70026, Total Chunk Time: 0.666 seconds \r\nRows Read: 50000, Total Rows Processed: 50000, Total Chunk Time: 1.827 seconds\r\nRows Read: 20026, Total Rows Processed: 70026, Total Chunk Time: 0.645 seconds \r\nRows Read: 2, Total Rows Processed: 2, Total Chunk Time: 0.001 seconds \r\nRows Read: 50000, Total Rows Processed: 50000, Total Chunk Time: 1.726 seconds\r\nRows Read: 20026, Total Rows Processed: 70026, Total Chunk Time: 0.654 seconds \r\nRows Read: 4, Total Rows Processed: 4, Total Chunk Time: 0.002 seconds \r"
                    },
                    "metadata": {}
                },
                {
                    "output_type": "display_data",
                    "data": {
                        "text/html": "STDOUT message(s) from external script: \nRows Read: 50000, Total Rows Processed: 50000, Total Chunk Time: 1.777 seconds\r\nRows Read: 20026, Total Rows Processed: 70026, Total Chunk Time: 0.703 seconds \r\nRows Read: 6, Total Rows Processed: 6, Total Chunk Time: 0.002 seconds \r\nRows Read: 50000, Total Rows Processed: 50000, Total Chunk Time: 1.758 seconds\r\nRows Read: 20026, Total Rows Processed: 70026, Total Chunk Time: 0.693 seconds \r\nRows Read: 12, Total Rows Processed: 12, Total Chunk Time: 0.005 seconds \r\nRows Read: 50000, Total Rows Processed: 50000, Total Chunk Time: 1.799 seconds\r\nRows Read: 20026, Total Rows Processed: 70026, Total Chunk Time: 0.678 seconds \r\nRows Read: 20, Total Rows Processed: 20, Total Chunk Time: 0.004 seconds \r\nRows Read: 50000, Total Rows Processed: 50000, Total Chunk Time: 1.794 seconds\r\nRows Read: 20026, Total Rows Processed: 70026, Total Chunk Time: 0.662 seconds \r\nRows Read: 32, Total Rows Processed: 32, Total Chunk Time: 0.006 seconds \r"
                    },
                    "metadata": {}
                },
                {
                    "output_type": "display_data",
                    "data": {
                        "text/html": "STDOUT message(s) from external script: \nRows Read: 50000, Total Rows Processed: 50000, Total Chunk Time: 1.898 seconds\r\nRows Read: 20026, Total Rows Processed: 70026, Total Chunk Time: 0.706 seconds \r\nRows Read: 44, Total Rows Processed: 44, Total Chunk Time: 0.010 seconds \r\nRows Read: 50000, Total Rows Processed: 50000, Total Chunk Time: 1.745 seconds\r\nRows Read: 20026, Total Rows Processed: 70026, Total Chunk Time: 0.643 seconds \r\nRows Read: 56, Total Rows Processed: 56, Total Chunk Time: 0.008 seconds \r\nRows Read: 50000, Total Rows Processed: 50000, Total Chunk Time: 1.767 seconds\r\nRows Read: 20026, Total Rows Processed: 70026, Total Chunk Time: 0.653 seconds \r\nRows Read: 60, Total Rows Processed: 60, Total Chunk Time: 0.011 seconds \r\nRows Read: 50000, Total Rows Processed: 50000, Total Chunk Time: 1.808 seconds\r\nRows Read: 20026, Total Rows Processed: 70026, Total Chunk Time: 0.678 seconds \r\nRows Read: 70, Total Rows Processed: 70, Total Chunk Time: 0.002 seconds \r"
                    },
                    "metadata": {}
                },
                {
                    "output_type": "display_data",
                    "data": {
                        "text/html": "STDOUT message(s) from external script: \nRows Read: 50000, Total Rows Processed: 50000, Total Chunk Time: 1.798 seconds\r\nRows Read: 20026, Total Rows Processed: 70026, Total Chunk Time: 0.641 seconds \r\nRows Read: 50000, Total Rows Processed: 50000, Total Chunk Time: 1.724 seconds\r\nRows Read: 20026, Total Rows Processed: 70026, Total Chunk Time: 0.664 seconds \r\nRows Read: 50000, Total Rows Processed: 50000, Total Chunk Time: 1.793 seconds\r\nRows Read: 20026, Total Rows Processed: 70026, Total Chunk Time: 0.621 seconds \r\nRows Read: 2, Total Rows Processed: 2, Total Chunk Time: Less than .001 seconds \r\nRows Read: 50000, Total Rows Processed: 50000, Total Chunk Time: 1.743 seconds\r\nRows Read: 20026, Total Rows Processed: 70026, Total Chunk Time: 0.646 seconds \r\nRows Read: 4, Total Rows Processed: 4, Total Chunk Time: 0.002 seconds \r\nRows Read: 50000, Total Rows Processed: 50000, Total Chunk Time: 1.777 seconds\r\nRows Read: 20026, Total Rows Processed: 70026, Total Chunk Time: 0.627 seconds \r"
                    },
                    "metadata": {}
                },
                {
                    "output_type": "display_data",
                    "data": {
                        "text/html": "STDOUT message(s) from external script: \nRows Read: 8, Total Rows Processed: 8, Total Chunk Time: Less than .001 seconds \r\nRows Read: 50000, Total Rows Processed: 50000, Total Chunk Time: 1.753 seconds\r\nRows Read: 20026, Total Rows Processed: 70026, Total Chunk Time: 0.637 seconds \r\nRows Read: 16, Total Rows Processed: 16, Total Chunk Time: 0.002 seconds \r\nRows Read: 50000, Total Rows Processed: 50000, Total Chunk Time: 1.779 seconds\r\nRows Read: 20026, Total Rows Processed: 70026, Total Chunk Time: 0.668 seconds \r\nRows Read: 26, Total Rows Processed: 26, Total Chunk Time: 0.007 seconds \r\nRows Read: 50000, Total Rows Processed: 50000, Total Chunk Time: 1.798 seconds\r\nRows Read: 20026, Total Rows Processed: 70026, Total Chunk Time: 0.643 seconds \r\nRows Read: 38, Total Rows Processed: 38, Total Chunk Time: 0.011 seconds \r\nRows Read: 50000, Total Rows Processed: 50000, Total Chunk Time: 1.754 seconds\r\nRows Read: 20026, Total Rows Processed: 70026, Total Chunk Time: 0.692 seconds \r"
                    },
                    "metadata": {}
                },
                {
                    "output_type": "display_data",
                    "data": {
                        "text/html": "STDOUT message(s) from external script: \nRows Read: 48, Total Rows Processed: 48, Total Chunk Time: 0.006 seconds \r\nRows Read: 50000, Total Rows Processed: 50000, Total Chunk Time: 1.756 seconds\r\nRows Read: 20026, Total Rows Processed: 70026, Total Chunk Time: 0.646 seconds \r\nRows Read: 58, Total Rows Processed: 58, Total Chunk Time: 0.010 seconds \r\nRows Read: 50000, Total Rows Processed: 50000, Total Chunk Time: 1.753 seconds\r\nRows Read: 20026, Total Rows Processed: 70026, Total Chunk Time: 0.659 seconds \r\nRows Read: 66, Total Rows Processed: 66, Total Chunk Time: 0.006 seconds \r\nRows Read: 50000, Total Rows Processed: 50000, Total Chunk Time: 1.750 seconds\r\nRows Read: 20026, Total Rows Processed: 70026, Total Chunk Time: 0.648 seconds \r\nRows Read: 68, Total Rows Processed: 68, Total Chunk Time: 0.002 seconds \r\nRows Read: 50000, Total Rows Processed: 50000, Total Chunk Time: 1.767 seconds\r\nRows Read: 20026, Total Rows Processed: 70026, Total Chunk Time: 0.647 seconds \r"
                    },
                    "metadata": {}
                },
                {
                    "output_type": "display_data",
                    "data": {
                        "text/html": "STDOUT message(s) from external script: \nRows Read: 50000, Total Rows Processed: 50000, Total Chunk Time: 1.773 seconds\r\nRows Read: 20026, Total Rows Processed: 70026, Total Chunk Time: 0.659 seconds \r\nRows Read: 50000, Total Rows Processed: 50000, Total Chunk Time: 1.763 seconds\r\nRows Read: 20026, Total Rows Processed: 70026, Total Chunk Time: 0.641 seconds \r\nRows Read: 2, Total Rows Processed: 2, Total Chunk Time: 0.002 seconds \r\nRows Read: 50000, Total Rows Processed: 50000, Total Chunk Time: 1.784 seconds\r\nRows Read: 20026, Total Rows Processed: 70026, Total Chunk Time: 0.642 seconds \r\nRows Read: 4, Total Rows Processed: 4, Total Chunk Time: Less than .001 seconds \r\nRows Read: 50000, Total Rows Processed: 50000, Total Chunk Time: 1.766 seconds\r\nRows Read: 20026, Total Rows Processed: 70026, Total Chunk Time: 0.648 seconds \r\nRows Read: 8, Total Rows Processed: 8, Total Chunk Time: 0.001 seconds \r\nRows Read: 50000, Total Rows Processed: 50000, Total Chunk Time: 1.752 seconds\r"
                    },
                    "metadata": {}
                },
                {
                    "output_type": "display_data",
                    "data": {
                        "text/html": "STDOUT message(s) from external script: \nRows Read: 20026, Total Rows Processed: 70026, Total Chunk Time: 0.646 seconds \r\nRows Read: 16, Total Rows Processed: 16, Total Chunk Time: 0.002 seconds \r\nRows Read: 50000, Total Rows Processed: 50000, Total Chunk Time: 1.756 seconds\r\nRows Read: 20026, Total Rows Processed: 70026, Total Chunk Time: 0.645 seconds \r\nRows Read: 20, Total Rows Processed: 20, Total Chunk Time: 0.003 seconds \r\nRows Read: 50000, Total Rows Processed: 50000, Total Chunk Time: 1.809 seconds\r\nRows Read: 20026, Total Rows Processed: 70026, Total Chunk Time: 0.666 seconds \r\nRows Read: 28, Total Rows Processed: 28, Total Chunk Time: 0.006 seconds \r\nRows Read: 50000, Total Rows Processed: 50000, Total Chunk Time: 1.799 seconds\r\nRows Read: 20026, Total Rows Processed: 70026, Total Chunk Time: 0.632 seconds \r\nRows Read: 40, Total Rows Processed: 40, Total Chunk Time: 0.004 seconds \r\nRows Read: 50000, Total Rows Processed: 50000, Total Chunk Time: 1.807 seconds\r"
                    },
                    "metadata": {}
                },
                {
                    "output_type": "display_data",
                    "data": {
                        "text/html": "STDOUT message(s) from external script: \nRows Read: 20026, Total Rows Processed: 70026, Total Chunk Time: 0.652 seconds \r\nRows Read: 50, Total Rows Processed: 50, Total Chunk Time: 0.005 seconds \r\nRows Read: 50000, Total Rows Processed: 50000, Total Chunk Time: 1.816 seconds\r\nRows Read: 20026, Total Rows Processed: 70026, Total Chunk Time: 0.687 seconds \r\nRows Read: 44, Total Rows Processed: 44, Total Chunk Time: 0.004 seconds \r\nRows Read: 50000, Total Rows Processed: 50000, Total Chunk Time: 1.919 seconds\r\nRows Read: 20026, Total Rows Processed: 70026, Total Chunk Time: 0.647 seconds \r\nRows Read: 42, Total Rows Processed: 42, Total Chunk Time: 0.002 seconds \r\nRows Read: 50000, Total Rows Processed: 50000, Total Chunk Time: 1.800 seconds\r\nRows Read: 20026, Total Rows Processed: 70026, Total Chunk Time: 0.645 seconds \r\nRows Read: 50000, Total Rows Processed: 50000, Total Chunk Time: 1.739 seconds\r\nRows Read: 20026, Total Rows Processed: 70026, Total Chunk Time: 0.669 seconds \r"
                    },
                    "metadata": {}
                },
                {
                    "output_type": "display_data",
                    "data": {
                        "text/html": "STDOUT message(s) from external script: \nRows Read: 50000, Total Rows Processed: 50000, Total Chunk Time: 1.802 seconds\r\nRows Read: 20026, Total Rows Processed: 70026, Total Chunk Time: 0.649 seconds \r\nRows Read: 2, Total Rows Processed: 2, Total Chunk Time: Less than .001 seconds \r\nRows Read: 50000, Total Rows Processed: 50000, Total Chunk Time: 1.738 seconds\r\nRows Read: 20026, Total Rows Processed: 70026, Total Chunk Time: 0.642 seconds \r\nRows Read: 4, Total Rows Processed: 4, Total Chunk Time: Less than .001 seconds \r\nRows Read: 50000, Total Rows Processed: 50000, Total Chunk Time: 1.826 seconds\r\nRows Read: 20026, Total Rows Processed: 70026, Total Chunk Time: 0.646 seconds \r\nRows Read: 8, Total Rows Processed: 8, Total Chunk Time: 0.001 seconds \r\nRows Read: 50000, Total Rows Processed: 50000, Total Chunk Time: 1.754 seconds\r\nRows Read: 20026, Total Rows Processed: 70026, Total Chunk Time: 0.648 seconds \r\nRows Read: 14, Total Rows Processed: 14, Total Chunk Time: 0.002 seconds \r"
                    },
                    "metadata": {}
                },
                {
                    "output_type": "display_data",
                    "data": {
                        "text/html": "STDOUT message(s) from external script: \nRows Read: 50000, Total Rows Processed: 50000, Total Chunk Time: 1.773 seconds\r\nRows Read: 20026, Total Rows Processed: 70026, Total Chunk Time: 0.659 seconds \r\nRows Read: 26, Total Rows Processed: 26, Total Chunk Time: 0.003 seconds \r\nRows Read: 50000, Total Rows Processed: 50000, Total Chunk Time: 1.769 seconds\r\nRows Read: 20026, Total Rows Processed: 70026, Total Chunk Time: 0.665 seconds \r\nRows Read: 44, Total Rows Processed: 44, Total Chunk Time: 0.010 seconds \r\nRows Read: 50000, Total Rows Processed: 50000, Total Chunk Time: 1.745 seconds\r\nRows Read: 20026, Total Rows Processed: 70026, Total Chunk Time: 0.655 seconds \r\nRows Read: 66, Total Rows Processed: 66, Total Chunk Time: 0.006 seconds \r\nRows Read: 50000, Total Rows Processed: 50000, Total Chunk Time: 1.796 seconds\r\nRows Read: 20026, Total Rows Processed: 70026, Total Chunk Time: 0.696 seconds \r\nRows Read: 66, Total Rows Processed: 66, Total Chunk Time: 0.009 seconds \r"
                    },
                    "metadata": {}
                },
                {
                    "output_type": "display_data",
                    "data": {
                        "text/html": "STDOUT message(s) from external script: \nRows Read: 50000, Total Rows Processed: 50000, Total Chunk Time: 1.773 seconds\r\nRows Read: 20026, Total Rows Processed: 70026, Total Chunk Time: 0.649 seconds \r\nRows Read: 72, Total Rows Processed: 72, Total Chunk Time: 0.009 seconds \r\nRows Read: 50000, Total Rows Processed: 50000, Total Chunk Time: 1.773 seconds\r\nRows Read: 20026, Total Rows Processed: 70026, Total Chunk Time: 0.647 seconds \r\nRows Read: 64, Total Rows Processed: 64, Total Chunk Time: Less than .001 seconds \r\nRows Read: 50000, Total Rows Processed: 50000, Total Chunk Time: 1.779 seconds\r\nRows Read: 20026, Total Rows Processed: 70026, Total Chunk Time: 0.680 seconds \r\nRows Read: 50000, Total Rows Processed: 50000, Total Chunk Time: 1.772 seconds\r\nRows Read: 20026, Total Rows Processed: 70026, Total Chunk Time: 0.668 seconds \r\nRows Read: 50000, Total Rows Processed: 50000, Total Chunk Time: 1.817 seconds\r\nRows Read: 20026, Total Rows Processed: 70026, Total Chunk Time: 0.629 seconds \r"
                    },
                    "metadata": {}
                },
                {
                    "output_type": "display_data",
                    "data": {
                        "text/html": "STDOUT message(s) from external script: \nRows Read: 2, Total Rows Processed: 2, Total Chunk Time: Less than .001 seconds \r\nRows Read: 50000, Total Rows Processed: 50000, Total Chunk Time: 1.777 seconds\r\nRows Read: 20026, Total Rows Processed: 70026, Total Chunk Time: 0.652 seconds \r\nRows Read: 4, Total Rows Processed: 4, Total Chunk Time: Less than .001 seconds \r\nRows Read: 50000, Total Rows Processed: 50000, Total Chunk Time: 1.774 seconds\r\nRows Read: 20026, Total Rows Processed: 70026, Total Chunk Time: 0.647 seconds \r\nRows Read: 8, Total Rows Processed: 8, Total Chunk Time: 0.002 seconds \r\nRows Read: 50000, Total Rows Processed: 50000, Total Chunk Time: 1.743 seconds\r\nRows Read: 20026, Total Rows Processed: 70026, Total Chunk Time: 0.647 seconds \r\nRows Read: 12, Total Rows Processed: 12, Total Chunk Time: 0.004 seconds \r\nRows Read: 50000, Total Rows Processed: 50000, Total Chunk Time: 1.739 seconds\r\nRows Read: 20026, Total Rows Processed: 70026, Total Chunk Time: 0.651 seconds \r"
                    },
                    "metadata": {}
                },
                {
                    "output_type": "display_data",
                    "data": {
                        "text/html": "STDOUT message(s) from external script: \nRows Read: 22, Total Rows Processed: 22, Total Chunk Time: 0.003 seconds \r\nRows Read: 50000, Total Rows Processed: 50000, Total Chunk Time: 1.748 seconds\r\nRows Read: 20026, Total Rows Processed: 70026, Total Chunk Time: 0.652 seconds \r\nRows Read: 32, Total Rows Processed: 32, Total Chunk Time: 0.006 seconds \r\nRows Read: 50000, Total Rows Processed: 50000, Total Chunk Time: 1.746 seconds\r\nRows Read: 20026, Total Rows Processed: 70026, Total Chunk Time: 0.645 seconds \r\nRows Read: 40, Total Rows Processed: 40, Total Chunk Time: 0.004 seconds \r\nRows Read: 50000, Total Rows Processed: 50000, Total Chunk Time: 1.808 seconds\r\nRows Read: 20026, Total Rows Processed: 70026, Total Chunk Time: 0.637 seconds \r\nRows Read: 40, Total Rows Processed: 40, Total Chunk Time: 0.004 seconds \r\nRows Read: 50000, Total Rows Processed: 50000, Total Chunk Time: 1.762 seconds\r\nRows Read: 20026, Total Rows Processed: 70026, Total Chunk Time: 0.677 seconds \r"
                    },
                    "metadata": {}
                },
                {
                    "output_type": "display_data",
                    "data": {
                        "text/html": "STDOUT message(s) from external script: \nRows Read: 44, Total Rows Processed: 44, Total Chunk Time: 0.009 seconds \r\nRows Read: 50000, Total Rows Processed: 50000, Total Chunk Time: 1.766 seconds\r\nRows Read: 20026, Total Rows Processed: 70026, Total Chunk Time: 0.655 seconds \r\nRows Read: 52, Total Rows Processed: 52, Total Chunk Time: Less than .001 seconds \r\nRows Read: 50000, Total Rows Processed: 50000, Total Chunk Time: 1.706 seconds\r\nRows Read: 20026, Total Rows Processed: 70026, Total Chunk Time: 0.633 seconds \r\nRows Read: 50000, Total Rows Processed: 50000, Total Chunk Time: 1.758 seconds\r\nRows Read: 20026, Total Rows Processed: 70026, Total Chunk Time: 0.667 seconds \r\nRows Read: 50000, Total Rows Processed: 50000, Total Chunk Time: 1.793 seconds\r\nRows Read: 20026, Total Rows Processed: 70026, Total Chunk Time: 0.616 seconds \r\nRows Read: 2, Total Rows Processed: 2, Total Chunk Time: Less than .001 seconds \r\nRows Read: 50000, Total Rows Processed: 50000, Total Chunk Time: 1.741 seconds\r"
                    },
                    "metadata": {}
                },
                {
                    "output_type": "display_data",
                    "data": {
                        "text/html": "STDOUT message(s) from external script: \nRows Read: 20026, Total Rows Processed: 70026, Total Chunk Time: 0.650 seconds \r\nRows Read: 4, Total Rows Processed: 4, Total Chunk Time: 0.001 seconds \r\nRows Read: 50000, Total Rows Processed: 50000, Total Chunk Time: 1.793 seconds\r\nRows Read: 20026, Total Rows Processed: 70026, Total Chunk Time: 0.661 seconds \r\nRows Read: 8, Total Rows Processed: 8, Total Chunk Time: 0.003 seconds \r\nRows Read: 50000, Total Rows Processed: 50000, Total Chunk Time: 1.769 seconds\r\nRows Read: 20026, Total Rows Processed: 70026, Total Chunk Time: 0.659 seconds \r\nRows Read: 16, Total Rows Processed: 16, Total Chunk Time: 0.006 seconds \r\nRows Read: 50000, Total Rows Processed: 50000, Total Chunk Time: 1.739 seconds\r\nRows Read: 20026, Total Rows Processed: 70026, Total Chunk Time: 0.635 seconds \r\nRows Read: 28, Total Rows Processed: 28, Total Chunk Time: 0.009 seconds \r\nRows Read: 50000, Total Rows Processed: 50000, Total Chunk Time: 1.748 seconds\r"
                    },
                    "metadata": {}
                },
                {
                    "output_type": "display_data",
                    "data": {
                        "text/html": "STDOUT message(s) from external script: \nRows Read: 20026, Total Rows Processed: 70026, Total Chunk Time: 0.647 seconds \r\nRows Read: 38, Total Rows Processed: 38, Total Chunk Time: 0.005 seconds \r\nRows Read: 50000, Total Rows Processed: 50000, Total Chunk Time: 1.747 seconds\r\nRows Read: 20026, Total Rows Processed: 70026, Total Chunk Time: 0.638 seconds \r\nRows Read: 46, Total Rows Processed: 46, Total Chunk Time: 0.005 seconds \r\nRows Read: 50000, Total Rows Processed: 50000, Total Chunk Time: 1.714 seconds\r\nRows Read: 20026, Total Rows Processed: 70026, Total Chunk Time: 0.654 seconds \r\nRows Read: 66, Total Rows Processed: 66, Total Chunk Time: 0.009 seconds \r\nRows Read: 50000, Total Rows Processed: 50000, Total Chunk Time: 1.735 seconds\r\nRows Read: 20026, Total Rows Processed: 70026, Total Chunk Time: 0.670 seconds \r\nRows Read: 68, Total Rows Processed: 68, Total Chunk Time: 0.005 seconds \r\nRows Read: 50000, Total Rows Processed: 50000, Total Chunk Time: 1.771 seconds\r"
                    },
                    "metadata": {}
                },
                {
                    "output_type": "display_data",
                    "data": {
                        "text/html": "STDOUT message(s) from external script: \nRows Read: 20026, Total Rows Processed: 70026, Total Chunk Time: 0.663 seconds \r\nRows Read: 46, Total Rows Processed: 46, Total Chunk Time: Less than .001 seconds \r\nRows Read: 50000, Total Rows Processed: 50000, Total Chunk Time: 1.717 seconds\r\nRows Read: 20026, Total Rows Processed: 70026, Total Chunk Time: 0.620 seconds \r\nRows Read: 50000, Total Rows Processed: 50000, Total Chunk Time: 1.789 seconds\r\nRows Read: 20026, Total Rows Processed: 70026, Total Chunk Time: 0.668 seconds \r\nRows Read: 50000, Total Rows Processed: 50000, Total Chunk Time: 1.781 seconds\r\nRows Read: 20026, Total Rows Processed: 70026, Total Chunk Time: 0.642 seconds \r\nRows Read: 2, Total Rows Processed: 2, Total Chunk Time: Less than .001 seconds \r\nRows Read: 50000, Total Rows Processed: 50000, Total Chunk Time: 1.743 seconds\r\nRows Read: 20026, Total Rows Processed: 70026, Total Chunk Time: 0.657 seconds \r\nRows Read: 4, Total Rows Processed: 4, Total Chunk Time: Less than .001 seconds \r"
                    },
                    "metadata": {}
                },
                {
                    "output_type": "display_data",
                    "data": {
                        "text/html": "STDOUT message(s) from external script: \nRows Read: 50000, Total Rows Processed: 50000, Total Chunk Time: 1.752 seconds\r\nRows Read: 20026, Total Rows Processed: 70026, Total Chunk Time: 0.689 seconds \r\nRows Read: 8, Total Rows Processed: 8, Total Chunk Time: 0.003 seconds \r\nRows Read: 50000, Total Rows Processed: 50000, Total Chunk Time: 1.761 seconds\r\nRows Read: 20026, Total Rows Processed: 70026, Total Chunk Time: 0.650 seconds \r\nRows Read: 16, Total Rows Processed: 16, Total Chunk Time: 0.003 seconds \r\nRows Read: 50000, Total Rows Processed: 50000, Total Chunk Time: 1.787 seconds\r\nRows Read: 20026, Total Rows Processed: 70026, Total Chunk Time: 0.738 seconds \r\nRows Read: 30, Total Rows Processed: 30, Total Chunk Time: 0.004 seconds \r\nRows Read: 50000, Total Rows Processed: 50000, Total Chunk Time: 1.764 seconds\r\nRows Read: 20026, Total Rows Processed: 70026, Total Chunk Time: 0.647 seconds \r\nRows Read: 44, Total Rows Processed: 44, Total Chunk Time: 0.005 seconds \r"
                    },
                    "metadata": {}
                },
                {
                    "output_type": "display_data",
                    "data": {
                        "text/html": "STDOUT message(s) from external script: \nRows Read: 50000, Total Rows Processed: 50000, Total Chunk Time: 1.755 seconds\r\nRows Read: 20026, Total Rows Processed: 70026, Total Chunk Time: 0.673 seconds \r\nRows Read: 68, Total Rows Processed: 68, Total Chunk Time: 0.006 seconds \r\nRows Read: 50000, Total Rows Processed: 50000, Total Chunk Time: 1.765 seconds\r\nRows Read: 20026, Total Rows Processed: 70026, Total Chunk Time: 0.646 seconds \r\nRows Read: 76, Total Rows Processed: 76, Total Chunk Time: 0.006 seconds \r\nRows Read: 50000, Total Rows Processed: 50000, Total Chunk Time: 1.773 seconds\r\nRows Read: 20026, Total Rows Processed: 70026, Total Chunk Time: 0.686 seconds \r\nRows Read: 70, Total Rows Processed: 70, Total Chunk Time: 0.013 seconds \r\nRows Read: 50000, Total Rows Processed: 50000, Total Chunk Time: 1.856 seconds\r\nRows Read: 20026, Total Rows Processed: 70026, Total Chunk Time: 0.915 seconds \r\nRows Read: 58, Total Rows Processed: 58, Total Chunk Time: Less than .001 seconds \r"
                    },
                    "metadata": {}
                },
                {
                    "output_type": "display_data",
                    "data": {
                        "text/html": "STDOUT message(s) from external script: \nRows Read: 50000, Total Rows Processed: 50000, Total Chunk Time: 2.183 seconds\r\nRows Read: 20026, Total Rows Processed: 70026, Total Chunk Time: 0.738 seconds \r\nRows Read: 50000, Total Rows Processed: 50000, Total Chunk Time: 2.423 seconds\r\nRows Read: 20026, Total Rows Processed: 70026, Total Chunk Time: 0.920 seconds \r\nRows Read: 50000, Total Rows Processed: 50000, Total Chunk Time: 2.038 seconds\r\nRows Read: 20026, Total Rows Processed: 70026, Total Chunk Time: 0.659 seconds \r\nRows Read: 2, Total Rows Processed: 2, Total Chunk Time: Less than .001 seconds \r\nRows Read: 50000, Total Rows Processed: 50000, Total Chunk Time: 2.009 seconds\r\nRows Read: 20026, Total Rows Processed: 70026, Total Chunk Time: 0.721 seconds \r\nRows Read: 4, Total Rows Processed: 4, Total Chunk Time: Less than .001 seconds \r\nRows Read: 50000, Total Rows Processed: 50000, Total Chunk Time: 1.964 seconds\r\nRows Read: 20026, Total Rows Processed: 70026, Total Chunk Time: 0.703 seconds \r"
                    },
                    "metadata": {}
                },
                {
                    "output_type": "display_data",
                    "data": {
                        "text/html": "STDOUT message(s) from external script: \nRows Read: 8, Total Rows Processed: 8, Total Chunk Time: 0.002 seconds \r\nRows Read: 50000, Total Rows Processed: 50000, Total Chunk Time: 1.831 seconds\r\nRows Read: 20026, Total Rows Processed: 70026, Total Chunk Time: 0.667 seconds \r\nRows Read: 16, Total Rows Processed: 16, Total Chunk Time: 0.002 seconds \r\nRows Read: 50000, Total Rows Processed: 50000, Total Chunk Time: 1.830 seconds\r\nRows Read: 20026, Total Rows Processed: 70026, Total Chunk Time: 0.700 seconds \r\nRows Read: 28, Total Rows Processed: 28, Total Chunk Time: 0.004 seconds \r\nRows Read: 50000, Total Rows Processed: 50000, Total Chunk Time: 1.854 seconds\r\nRows Read: 20026, Total Rows Processed: 70026, Total Chunk Time: 0.689 seconds \r\nRows Read: 42, Total Rows Processed: 42, Total Chunk Time: 0.005 seconds \r\nRows Read: 50000, Total Rows Processed: 50000, Total Chunk Time: 1.953 seconds\r\nRows Read: 20026, Total Rows Processed: 70026, Total Chunk Time: 0.715 seconds \r"
                    },
                    "metadata": {}
                },
                {
                    "output_type": "display_data",
                    "data": {
                        "text/html": "STDOUT message(s) from external script: \nRows Read: 56, Total Rows Processed: 56, Total Chunk Time: 0.005 seconds \r\nRows Read: 50000, Total Rows Processed: 50000, Total Chunk Time: 1.992 seconds\r\nRows Read: 20026, Total Rows Processed: 70026, Total Chunk Time: 0.729 seconds \r\nRows Read: 54, Total Rows Processed: 54, Total Chunk Time: 0.006 seconds \r\nRows Read: 50000, Total Rows Processed: 50000, Total Chunk Time: 1.959 seconds\r\nRows Read: 20026, Total Rows Processed: 70026, Total Chunk Time: 0.754 seconds \r\nRows Read: 62, Total Rows Processed: 62, Total Chunk Time: 0.009 seconds \r\nRows Read: 50000, Total Rows Processed: 50000, Total Chunk Time: 1.827 seconds\r\nRows Read: 20026, Total Rows Processed: 70026, Total Chunk Time: 0.660 seconds \r\nRows Read: 64, Total Rows Processed: 64, Total Chunk Time: 0.002 seconds \r\nRows Read: 50000, Total Rows Processed: 50000, Total Chunk Time: 1.866 seconds\r\nRows Read: 20026, Total Rows Processed: 70026, Total Chunk Time: 0.667 seconds \r"
                    },
                    "metadata": {}
                },
                {
                    "output_type": "display_data",
                    "data": {
                        "text/html": "STDOUT message(s) from external script: \nRows Read: 50000, Total Rows Processed: 50000, Total Chunk Time: 1.830 seconds\r\nRows Read: 20026, Total Rows Processed: 70026, Total Chunk Time: 0.690 seconds \r\nRows Read: 50000, Total Rows Processed: 50000, Total Chunk Time: 1.870 seconds\r\nRows Read: 20026, Total Rows Processed: 70026, Total Chunk Time: 0.700 seconds \r\nRows Read: 2, Total Rows Processed: 2, Total Chunk Time: Less than .001 seconds \r\nRows Read: 50000, Total Rows Processed: 50000, Total Chunk Time: 1.865 seconds\r\nRows Read: 20026, Total Rows Processed: 70026, Total Chunk Time: 0.658 seconds \r\nRows Read: 4, Total Rows Processed: 4, Total Chunk Time: Less than .001 seconds \r\nRows Read: 50000, Total Rows Processed: 50000, Total Chunk Time: 1.806 seconds\r\nRows Read: 20026, Total Rows Processed: 70026, Total Chunk Time: 0.680 seconds \r\nRows Read: 8, Total Rows Processed: 8, Total Chunk Time: Less than .001 seconds \r\nRows Read: 50000, Total Rows Processed: 50000, Total Chunk Time: 1.864 seconds\r"
                    },
                    "metadata": {}
                },
                {
                    "output_type": "display_data",
                    "data": {
                        "text/html": "STDOUT message(s) from external script: \nRows Read: 20026, Total Rows Processed: 70026, Total Chunk Time: 0.699 seconds \r\nRows Read: 16, Total Rows Processed: 16, Total Chunk Time: 0.002 seconds \r\nRows Read: 50000, Total Rows Processed: 50000, Total Chunk Time: 1.817 seconds\r\nRows Read: 20026, Total Rows Processed: 70026, Total Chunk Time: 0.674 seconds \r\nRows Read: 32, Total Rows Processed: 32, Total Chunk Time: 0.005 seconds \r\nRows Read: 50000, Total Rows Processed: 50000, Total Chunk Time: 1.859 seconds\r\nRows Read: 20026, Total Rows Processed: 70026, Total Chunk Time: 0.823 seconds \r\nRows Read: 48, Total Rows Processed: 48, Total Chunk Time: 0.005 seconds \r\nRows Read: 50000, Total Rows Processed: 50000, Total Chunk Time: 2.160 seconds\r\nRows Read: 20026, Total Rows Processed: 70026, Total Chunk Time: 0.742 seconds \r\nRows Read: 48, Total Rows Processed: 48, Total Chunk Time: 0.005 seconds \r\nRows Read: 50000, Total Rows Processed: 50000, Total Chunk Time: 2.309 seconds\r"
                    },
                    "metadata": {}
                },
                {
                    "output_type": "display_data",
                    "data": {
                        "text/html": "STDOUT message(s) from external script: \nRows Read: 20026, Total Rows Processed: 70026, Total Chunk Time: 0.834 seconds \r\nRows Read: 56, Total Rows Processed: 56, Total Chunk Time: 0.008 seconds \r\nRows Read: 50000, Total Rows Processed: 50000, Total Chunk Time: 1.790 seconds\r\nRows Read: 20026, Total Rows Processed: 70026, Total Chunk Time: 0.659 seconds \r\nRows Read: 66, Total Rows Processed: 66, Total Chunk Time: 0.009 seconds \r\nRows Read: 50000, Total Rows Processed: 50000, Total Chunk Time: 1.785 seconds\r\nRows Read: 20026, Total Rows Processed: 70026, Total Chunk Time: 0.647 seconds \r\nRows Read: 56, Total Rows Processed: 56, Total Chunk Time: 0.003 seconds \r\nRows Read: 50000, Total Rows Processed: 50000, Total Chunk Time: 1.772 seconds\r\nRows Read: 20026, Total Rows Processed: 70026, Total Chunk Time: 0.690 seconds \r\nRows Read: 50000, Total Rows Processed: 50000, Total Chunk Time: 1.774 seconds\r\nRows Read: 20026, Total Rows Processed: 70026, Total Chunk Time: 0.684 seconds \r"
                    },
                    "metadata": {}
                },
                {
                    "output_type": "display_data",
                    "data": {
                        "text/html": "STDOUT message(s) from external script: \nRows Read: 50000, Total Rows Processed: 50000, Total Chunk Time: 1.787 seconds\r\nRows Read: 20026, Total Rows Processed: 70026, Total Chunk Time: 0.657 seconds \r\nRows Read: 2, Total Rows Processed: 2, Total Chunk Time: 0.002 seconds \r\nRows Read: 50000, Total Rows Processed: 50000, Total Chunk Time: 1.734 seconds\r\nRows Read: 20026, Total Rows Processed: 70026, Total Chunk Time: 0.666 seconds \r\nRows Read: 4, Total Rows Processed: 4, Total Chunk Time: Less than .001 seconds \r\nRows Read: 50000, Total Rows Processed: 50000, Total Chunk Time: 1.730 seconds\r\nRows Read: 20026, Total Rows Processed: 70026, Total Chunk Time: 0.634 seconds \r\nRows Read: 8, Total Rows Processed: 8, Total Chunk Time: 0.002 seconds \r\nRows Read: 50000, Total Rows Processed: 50000, Total Chunk Time: 1.721 seconds\r\nRows Read: 20026, Total Rows Processed: 70026, Total Chunk Time: 0.647 seconds \r\nRows Read: 16, Total Rows Processed: 16, Total Chunk Time: 0.005 seconds \r"
                    },
                    "metadata": {}
                },
                {
                    "output_type": "display_data",
                    "data": {
                        "text/html": "STDOUT message(s) from external script: \nRows Read: 50000, Total Rows Processed: 50000, Total Chunk Time: 1.820 seconds\r\nRows Read: 20026, Total Rows Processed: 70026, Total Chunk Time: 0.665 seconds \r\nRows Read: 28, Total Rows Processed: 28, Total Chunk Time: 0.004 seconds \r\nRows Read: 50000, Total Rows Processed: 50000, Total Chunk Time: 1.839 seconds\r\nRows Read: 20026, Total Rows Processed: 70026, Total Chunk Time: 0.689 seconds \r\nRows Read: 40, Total Rows Processed: 40, Total Chunk Time: 0.005 seconds \r\nRows Read: 50000, Total Rows Processed: 50000, Total Chunk Time: 1.766 seconds\r\nRows Read: 20026, Total Rows Processed: 70026, Total Chunk Time: 0.641 seconds \r\nRows Read: 50, Total Rows Processed: 50, Total Chunk Time: 0.006 seconds \r\nRows Read: 50000, Total Rows Processed: 50000, Total Chunk Time: 2.134 seconds\r\nRows Read: 20026, Total Rows Processed: 70026, Total Chunk Time: 0.650 seconds \r\nRows Read: 54, Total Rows Processed: 54, Total Chunk Time: 0.006 seconds \r"
                    },
                    "metadata": {}
                },
                {
                    "output_type": "display_data",
                    "data": {
                        "text/html": "STDOUT message(s) from external script: \nRows Read: 50000, Total Rows Processed: 50000, Total Chunk Time: 1.742 seconds\r\nRows Read: 20026, Total Rows Processed: 70026, Total Chunk Time: 0.652 seconds \r\nRows Read: 60, Total Rows Processed: 60, Total Chunk Time: 0.010 seconds \r\nRows Read: 50000, Total Rows Processed: 50000, Total Chunk Time: 1.765 seconds\r\nRows Read: 20026, Total Rows Processed: 70026, Total Chunk Time: 0.649 seconds \r\nRows Read: 68, Total Rows Processed: 68, Total Chunk Time: 0.002 seconds \r\nRows Read: 50000, Total Rows Processed: 50000, Total Chunk Time: 1.775 seconds\r\nRows Read: 20026, Total Rows Processed: 70026, Total Chunk Time: 0.642 seconds \r\nRows Read: 50000, Total Rows Processed: 50000, Total Chunk Time: 1.733 seconds\r\nRows Read: 20026, Total Rows Processed: 70026, Total Chunk Time: 0.651 seconds \r\nRows Read: 50000, Total Rows Processed: 50000, Total Chunk Time: 1.765 seconds\r\nRows Read: 20026, Total Rows Processed: 70026, Total Chunk Time: 0.620 seconds \r"
                    },
                    "metadata": {}
                },
                {
                    "output_type": "display_data",
                    "data": {
                        "text/html": "STDOUT message(s) from external script: \nRows Read: 2, Total Rows Processed: 2, Total Chunk Time: Less than .001 seconds \r\nRows Read: 50000, Total Rows Processed: 50000, Total Chunk Time: 1.803 seconds\r\nRows Read: 20026, Total Rows Processed: 70026, Total Chunk Time: 0.721 seconds \r\nRows Read: 4, Total Rows Processed: 4, Total Chunk Time: Less than .001 seconds \r\nRows Read: 50000, Total Rows Processed: 50000, Total Chunk Time: 1.767 seconds\r\nRows Read: 20026, Total Rows Processed: 70026, Total Chunk Time: 0.655 seconds \r\nRows Read: 8, Total Rows Processed: 8, Total Chunk Time: 0.002 seconds \r\nRows Read: 50000, Total Rows Processed: 50000, Total Chunk Time: 1.771 seconds\r\nRows Read: 20026, Total Rows Processed: 70026, Total Chunk Time: 0.664 seconds \r\nRows Read: 12, Total Rows Processed: 12, Total Chunk Time: 0.003 seconds \r\nRows Read: 50000, Total Rows Processed: 50000, Total Chunk Time: 1.774 seconds\r\nRows Read: 20026, Total Rows Processed: 70026, Total Chunk Time: 0.689 seconds \r"
                    },
                    "metadata": {}
                },
                {
                    "output_type": "display_data",
                    "data": {
                        "text/html": "STDOUT message(s) from external script: \nRows Read: 20, Total Rows Processed: 20, Total Chunk Time: 0.002 seconds \r\nRows Read: 50000, Total Rows Processed: 50000, Total Chunk Time: 1.785 seconds\r\nRows Read: 20026, Total Rows Processed: 70026, Total Chunk Time: 0.674 seconds \r\nRows Read: 38, Total Rows Processed: 38, Total Chunk Time: 0.005 seconds \r\nRows Read: 50000, Total Rows Processed: 50000, Total Chunk Time: 1.751 seconds\r\nRows Read: 20026, Total Rows Processed: 70026, Total Chunk Time: 0.663 seconds \r\nRows Read: 46, Total Rows Processed: 46, Total Chunk Time: 0.005 seconds \r\nRows Read: 50000, Total Rows Processed: 50000, Total Chunk Time: 2.127 seconds\r\nRows Read: 20026, Total Rows Processed: 70026, Total Chunk Time: 0.663 seconds \r\nRows Read: 58, Total Rows Processed: 58, Total Chunk Time: 0.007 seconds \r\nRows Read: 50000, Total Rows Processed: 50000, Total Chunk Time: 1.748 seconds\r\nRows Read: 20026, Total Rows Processed: 70026, Total Chunk Time: 0.656 seconds \r"
                    },
                    "metadata": {}
                },
                {
                    "output_type": "display_data",
                    "data": {
                        "text/html": "STDOUT message(s) from external script: \nRows Read: 66, Total Rows Processed: 66, Total Chunk Time: 0.016 seconds \r\nRows Read: 50000, Total Rows Processed: 50000, Total Chunk Time: 1.804 seconds\r\nRows Read: 20026, Total Rows Processed: 70026, Total Chunk Time: 0.636 seconds \r\nRows Read: 66, Total Rows Processed: 66, Total Chunk Time: 0.003 seconds \r\nRows Read: 50000, Total Rows Processed: 50000, Total Chunk Time: 1.746 seconds\r\nRows Read: 20026, Total Rows Processed: 70026, Total Chunk Time: 0.641 seconds \r\nRows Read: 50000, Total Rows Processed: 50000, Total Chunk Time: 1.789 seconds\r\nRows Read: 20026, Total Rows Processed: 70026, Total Chunk Time: 0.707 seconds \r\nRows Read: 50000, Total Rows Processed: 50000, Total Chunk Time: 1.734 seconds\r\nRows Read: 20026, Total Rows Processed: 70026, Total Chunk Time: 0.619 seconds \r\nRows Read: 2, Total Rows Processed: 2, Total Chunk Time: Less than .001 seconds \r\nRows Read: 50000, Total Rows Processed: 50000, Total Chunk Time: 1.755 seconds\r"
                    },
                    "metadata": {}
                },
                {
                    "output_type": "display_data",
                    "data": {
                        "text/html": "STDOUT message(s) from external script: \nRows Read: 20026, Total Rows Processed: 70026, Total Chunk Time: 0.680 seconds \r\nRows Read: 4, Total Rows Processed: 4, Total Chunk Time: 0.002 seconds \r\nRows Read: 50000, Total Rows Processed: 50000, Total Chunk Time: 1.762 seconds\r\nRows Read: 20026, Total Rows Processed: 70026, Total Chunk Time: 0.636 seconds \r\nRows Read: 8, Total Rows Processed: 8, Total Chunk Time: 0.002 seconds \r\nRows Read: 50000, Total Rows Processed: 50000, Total Chunk Time: 1.810 seconds\r\nRows Read: 20026, Total Rows Processed: 70026, Total Chunk Time: 0.639 seconds \r\nRows Read: 12, Total Rows Processed: 12, Total Chunk Time: 0.002 seconds \r\nRows Read: 50000, Total Rows Processed: 50000, Total Chunk Time: 1.747 seconds\r\nRows Read: 20026, Total Rows Processed: 70026, Total Chunk Time: 0.667 seconds \r\nRows Read: 16, Total Rows Processed: 16, Total Chunk Time: 0.004 seconds \r\nRows Read: 50000, Total Rows Processed: 50000, Total Chunk Time: 1.765 seconds\r"
                    },
                    "metadata": {}
                },
                {
                    "output_type": "display_data",
                    "data": {
                        "text/html": "STDOUT message(s) from external script: \nRows Read: 20026, Total Rows Processed: 70026, Total Chunk Time: 0.662 seconds \r\nRows Read: 28, Total Rows Processed: 28, Total Chunk Time: 0.007 seconds \r\nRows Read: 50000, Total Rows Processed: 50000, Total Chunk Time: 1.743 seconds\r\nRows Read: 20026, Total Rows Processed: 70026, Total Chunk Time: 0.664 seconds \r\nRows Read: 42, Total Rows Processed: 42, Total Chunk Time: 0.011 seconds \r\nRows Read: 50000, Total Rows Processed: 50000, Total Chunk Time: 1.838 seconds\r\nRows Read: 20026, Total Rows Processed: 70026, Total Chunk Time: 0.671 seconds \r\nRows Read: 50, Total Rows Processed: 50, Total Chunk Time: 0.009 seconds \r\nRows Read: 50000, Total Rows Processed: 50000, Total Chunk Time: 1.780 seconds\r\nRows Read: 20026, Total Rows Processed: 70026, Total Chunk Time: 0.656 seconds \r\nRows Read: 60, Total Rows Processed: 60, Total Chunk Time: 0.009 seconds \r\nRows Read: 50000, Total Rows Processed: 50000, Total Chunk Time: 1.763 seconds\r"
                    },
                    "metadata": {}
                },
                {
                    "output_type": "display_data",
                    "data": {
                        "text/html": "STDOUT message(s) from external script: \nRows Read: 20026, Total Rows Processed: 70026, Total Chunk Time: 0.647 seconds \r\nRows Read: 54, Total Rows Processed: 54, Total Chunk Time: 0.002 seconds \r\nRows Read: 50000, Total Rows Processed: 50000, Total Chunk Time: 1.753 seconds\r\nRows Read: 20026, Total Rows Processed: 70026, Total Chunk Time: 0.636 seconds \r\nRows Read: 50000, Total Rows Processed: 50000, Total Chunk Time: 1.733 seconds\r\nRows Read: 20026, Total Rows Processed: 70026, Total Chunk Time: 0.681 seconds \r\nRows Read: 50000, Total Rows Processed: 50000, Total Chunk Time: 1.788 seconds\r\nRows Read: 20026, Total Rows Processed: 70026, Total Chunk Time: 0.666 seconds \r\nRows Read: 2, Total Rows Processed: 2, Total Chunk Time: Less than .001 seconds \r\nRows Read: 50000, Total Rows Processed: 50000, Total Chunk Time: 1.782 seconds\r\nRows Read: 20026, Total Rows Processed: 70026, Total Chunk Time: 0.671 seconds \r\nRows Read: 4, Total Rows Processed: 4, Total Chunk Time: 0.002 seconds \r"
                    },
                    "metadata": {}
                },
                {
                    "output_type": "display_data",
                    "data": {
                        "text/html": "STDOUT message(s) from external script: \nRows Read: 50000, Total Rows Processed: 50000, Total Chunk Time: 1.753 seconds\r\nRows Read: 20026, Total Rows Processed: 70026, Total Chunk Time: 0.652 seconds \r\nRows Read: 8, Total Rows Processed: 8, Total Chunk Time: 0.002 seconds \r\nRows Read: 50000, Total Rows Processed: 50000, Total Chunk Time: 1.788 seconds\r\nRows Read: 20026, Total Rows Processed: 70026, Total Chunk Time: 0.652 seconds \r\nRows Read: 12, Total Rows Processed: 12, Total Chunk Time: 0.003 seconds \r\nRows Read: 50000, Total Rows Processed: 50000, Total Chunk Time: 1.772 seconds\r\nRows Read: 20026, Total Rows Processed: 70026, Total Chunk Time: 0.676 seconds \r\nRows Read: 20, Total Rows Processed: 20, Total Chunk Time: 0.003 seconds \r\nRows Read: 50000, Total Rows Processed: 50000, Total Chunk Time: 1.734 seconds\r\nRows Read: 20026, Total Rows Processed: 70026, Total Chunk Time: 0.660 seconds \r\nRows Read: 34, Total Rows Processed: 34, Total Chunk Time: 0.006 seconds \r"
                    },
                    "metadata": {}
                },
                {
                    "output_type": "display_data",
                    "data": {
                        "text/html": "STDOUT message(s) from external script: \nRows Read: 50000, Total Rows Processed: 50000, Total Chunk Time: 1.757 seconds\r\nRows Read: 20026, Total Rows Processed: 70026, Total Chunk Time: 0.661 seconds \r\nRows Read: 40, Total Rows Processed: 40, Total Chunk Time: 0.004 seconds \r\nRows Read: 50000, Total Rows Processed: 50000, Total Chunk Time: 1.917 seconds\r\nRows Read: 20026, Total Rows Processed: 70026, Total Chunk Time: 0.698 seconds \r\nRows Read: 44, Total Rows Processed: 44, Total Chunk Time: 0.007 seconds \r\nRows Read: 50000, Total Rows Processed: 50000, Total Chunk Time: 1.894 seconds\r\nRows Read: 20026, Total Rows Processed: 70026, Total Chunk Time: 0.689 seconds \r\nRows Read: 48, Total Rows Processed: 48, Total Chunk Time: 0.009 seconds \r\nRows Read: 50000, Total Rows Processed: 50000, Total Chunk Time: 1.767 seconds\r\nRows Read: 20026, Total Rows Processed: 70026, Total Chunk Time: 0.653 seconds \r\nRows Read: 54, Total Rows Processed: 54, Total Chunk Time: 0.002 seconds \r"
                    },
                    "metadata": {}
                },
                {
                    "output_type": "display_data",
                    "data": {
                        "text/html": "STDOUT message(s) from external script: \nRows Read: 50000, Total Rows Processed: 50000, Total Chunk Time: 1.800 seconds\r\nRows Read: 20026, Total Rows Processed: 70026, Total Chunk Time: 0.673 seconds \r\nRows Read: 50000, Total Rows Processed: 50000, Total Chunk Time: 1.808 seconds\r\nRows Read: 20026, Total Rows Processed: 70026, Total Chunk Time: 0.680 seconds \r\nRows Read: 50000, Total Rows Processed: 50000, Total Chunk Time: 1.859 seconds\r\nRows Read: 20026, Total Rows Processed: 70026, Total Chunk Time: 0.645 seconds \r\nRows Read: 2, Total Rows Processed: 2, Total Chunk Time: Less than .001 seconds \r\nRows Read: 50000, Total Rows Processed: 50000, Total Chunk Time: 1.789 seconds\r\nRows Read: 20026, Total Rows Processed: 70026, Total Chunk Time: 0.664 seconds \r\nRows Read: 4, Total Rows Processed: 4, Total Chunk Time: Less than .001 seconds \r\nRows Read: 50000, Total Rows Processed: 50000, Total Chunk Time: 1.746 seconds\r\nRows Read: 20026, Total Rows Processed: 70026, Total Chunk Time: 0.627 seconds \r"
                    },
                    "metadata": {}
                },
                {
                    "output_type": "display_data",
                    "data": {
                        "text/html": "STDOUT message(s) from external script: \nRows Read: 8, Total Rows Processed: 8, Total Chunk Time: Less than .001 seconds \r\nRows Read: 50000, Total Rows Processed: 50000, Total Chunk Time: 1.780 seconds\r\nRows Read: 20026, Total Rows Processed: 70026, Total Chunk Time: 0.641 seconds \r\nRows Read: 14, Total Rows Processed: 14, Total Chunk Time: 0.002 seconds \r\nRows Read: 50000, Total Rows Processed: 50000, Total Chunk Time: 1.738 seconds\r\nRows Read: 20026, Total Rows Processed: 70026, Total Chunk Time: 0.617 seconds \r\nRows Read: 26, Total Rows Processed: 26, Total Chunk Time: 0.004 seconds \r\nRows Read: 50000, Total Rows Processed: 50000, Total Chunk Time: 1.840 seconds\r\nRows Read: 20026, Total Rows Processed: 70026, Total Chunk Time: 0.674 seconds \r\nRows Read: 44, Total Rows Processed: 44, Total Chunk Time: 0.005 seconds \r\nRows Read: 50000, Total Rows Processed: 50000, Total Chunk Time: 1.740 seconds\r\nRows Read: 20026, Total Rows Processed: 70026, Total Chunk Time: 0.665 seconds \r"
                    },
                    "metadata": {}
                },
                {
                    "output_type": "display_data",
                    "data": {
                        "text/html": "STDOUT message(s) from external script: \nRows Read: 60, Total Rows Processed: 60, Total Chunk Time: 0.010 seconds \r\nRows Read: 50000, Total Rows Processed: 50000, Total Chunk Time: 1.763 seconds\r\nRows Read: 20026, Total Rows Processed: 70026, Total Chunk Time: 0.648 seconds \r\nRows Read: 74, Total Rows Processed: 74, Total Chunk Time: 0.006 seconds \r\nRows Read: 50000, Total Rows Processed: 50000, Total Chunk Time: 1.744 seconds\r\nRows Read: 20026, Total Rows Processed: 70026, Total Chunk Time: 0.682 seconds \r\nRows Read: 68, Total Rows Processed: 68, Total Chunk Time: 0.007 seconds \r\nRows Read: 50000, Total Rows Processed: 50000, Total Chunk Time: 1.766 seconds\r\nRows Read: 20026, Total Rows Processed: 70026, Total Chunk Time: 0.646 seconds \r\nRows Read: 60, Total Rows Processed: 60, Total Chunk Time: Less than .001 seconds \r\nRows Read: 50000, Total Rows Processed: 50000, Total Chunk Time: 1.813 seconds\r\nRows Read: 20026, Total Rows Processed: 70026, Total Chunk Time: 0.638 seconds \r"
                    },
                    "metadata": {}
                },
                {
                    "output_type": "display_data",
                    "data": {
                        "text/html": "STDOUT message(s) from external script: \nRows Read: 50000, Total Rows Processed: 50000, Total Chunk Time: 1.773 seconds\r\nRows Read: 20026, Total Rows Processed: 70026, Total Chunk Time: 0.658 seconds \r\nRows Read: 50000, Total Rows Processed: 50000, Total Chunk Time: 1.753 seconds\r\nRows Read: 20026, Total Rows Processed: 70026, Total Chunk Time: 0.636 seconds \r\nRows Read: 2, Total Rows Processed: 2, Total Chunk Time: Less than .001 seconds \r\nRows Read: 50000, Total Rows Processed: 50000, Total Chunk Time: 1.752 seconds\r\nRows Read: 20026, Total Rows Processed: 70026, Total Chunk Time: 0.680 seconds \r\nRows Read: 4, Total Rows Processed: 4, Total Chunk Time: 0.002 seconds \r\nRows Read: 50000, Total Rows Processed: 50000, Total Chunk Time: 1.755 seconds\r\nRows Read: 20026, Total Rows Processed: 70026, Total Chunk Time: 0.659 seconds \r\nRows Read: 8, Total Rows Processed: 8, Total Chunk Time: Less than .001 seconds \r\nRows Read: 50000, Total Rows Processed: 50000, Total Chunk Time: 1.770 seconds\r"
                    },
                    "metadata": {}
                },
                {
                    "output_type": "display_data",
                    "data": {
                        "text/html": "STDOUT message(s) from external script: \nRows Read: 20026, Total Rows Processed: 70026, Total Chunk Time: 0.651 seconds \r\nRows Read: 14, Total Rows Processed: 14, Total Chunk Time: 0.002 seconds \r\nRows Read: 50000, Total Rows Processed: 50000, Total Chunk Time: 1.775 seconds\r\nRows Read: 20026, Total Rows Processed: 70026, Total Chunk Time: 0.657 seconds \r\nRows Read: 26, Total Rows Processed: 26, Total Chunk Time: 0.003 seconds \r\nRows Read: 50000, Total Rows Processed: 50000, Total Chunk Time: 1.817 seconds\r\nRows Read: 20026, Total Rows Processed: 70026, Total Chunk Time: 0.642 seconds \r\nRows Read: 36, Total Rows Processed: 36, Total Chunk Time: 0.008 seconds \r\nRows Read: 50000, Total Rows Processed: 50000, Total Chunk Time: 1.749 seconds\r\nRows Read: 20026, Total Rows Processed: 70026, Total Chunk Time: 0.659 seconds \r\nRows Read: 46, Total Rows Processed: 46, Total Chunk Time: 0.007 seconds \r\nRows Read: 50000, Total Rows Processed: 50000, Total Chunk Time: 1.777 seconds\r"
                    },
                    "metadata": {}
                },
                {
                    "output_type": "display_data",
                    "data": {
                        "text/html": "STDOUT message(s) from external script: \nRows Read: 20026, Total Rows Processed: 70026, Total Chunk Time: 0.643 seconds \r\nRows Read: 70, Total Rows Processed: 70, Total Chunk Time: 0.006 seconds \r\nRows Read: 50000, Total Rows Processed: 50000, Total Chunk Time: 1.751 seconds\r\nRows Read: 20026, Total Rows Processed: 70026, Total Chunk Time: 0.663 seconds \r\nRows Read: 66, Total Rows Processed: 66, Total Chunk Time: 0.007 seconds \r\nRows Read: 50000, Total Rows Processed: 50000, Total Chunk Time: 1.763 seconds\r\nRows Read: 20026, Total Rows Processed: 70026, Total Chunk Time: 0.699 seconds \r\nRows Read: 62, Total Rows Processed: 62, Total Chunk Time: 0.003 seconds \r\nRows Read: 50000, Total Rows Processed: 50000, Total Chunk Time: 1.765 seconds\r\nRows Read: 20026, Total Rows Processed: 70026, Total Chunk Time: 0.657 seconds \r\nRows Read: 50000, Total Rows Processed: 50000, Total Chunk Time: 1.751 seconds\r\nRows Read: 20026, Total Rows Processed: 70026, Total Chunk Time: 0.929 seconds \r"
                    },
                    "metadata": {}
                },
                {
                    "output_type": "display_data",
                    "data": {
                        "text/html": "STDOUT message(s) from external script: \nRows Read: 50000, Total Rows Processed: 50000, Total Chunk Time: 1.824 seconds\r\nRows Read: 20026, Total Rows Processed: 70026, Total Chunk Time: 0.643 seconds \r\nRows Read: 2, Total Rows Processed: 2, Total Chunk Time: Less than .001 seconds \r\nRows Read: 50000, Total Rows Processed: 50000, Total Chunk Time: 1.842 seconds\r\nRows Read: 20026, Total Rows Processed: 70026, Total Chunk Time: 0.663 seconds \r\nRows Read: 4, Total Rows Processed: 4, Total Chunk Time: Less than .001 seconds \r\nRows Read: 50000, Total Rows Processed: 50000, Total Chunk Time: 1.836 seconds\r\nRows Read: 20026, Total Rows Processed: 70026, Total Chunk Time: 0.652 seconds \r\nRows Read: 8, Total Rows Processed: 8, Total Chunk Time: 0.002 seconds \r\nRows Read: 50000, Total Rows Processed: 50000, Total Chunk Time: 1.740 seconds\r\nRows Read: 20026, Total Rows Processed: 70026, Total Chunk Time: 0.656 seconds \r\nRows Read: 16, Total Rows Processed: 16, Total Chunk Time: 0.002 seconds \r"
                    },
                    "metadata": {}
                },
                {
                    "output_type": "display_data",
                    "data": {
                        "text/html": "STDOUT message(s) from external script: \nRows Read: 50000, Total Rows Processed: 50000, Total Chunk Time: 1.797 seconds\r\nRows Read: 20026, Total Rows Processed: 70026, Total Chunk Time: 0.663 seconds \r\nRows Read: 22, Total Rows Processed: 22, Total Chunk Time: 0.007 seconds \r\nRows Read: 50000, Total Rows Processed: 50000, Total Chunk Time: 1.801 seconds\r\nRows Read: 20026, Total Rows Processed: 70026, Total Chunk Time: 0.671 seconds \r\nRows Read: 30, Total Rows Processed: 30, Total Chunk Time: 0.007 seconds \r\nRows Read: 50000, Total Rows Processed: 50000, Total Chunk Time: 1.773 seconds\r\nRows Read: 20026, Total Rows Processed: 70026, Total Chunk Time: 0.678 seconds \r\nRows Read: 40, Total Rows Processed: 40, Total Chunk Time: 0.006 seconds \r\nRows Read: 50000, Total Rows Processed: 50000, Total Chunk Time: 1.771 seconds\r\nRows Read: 20026, Total Rows Processed: 70026, Total Chunk Time: 0.665 seconds \r\nRows Read: 52, Total Rows Processed: 52, Total Chunk Time: 0.009 seconds \r"
                    },
                    "metadata": {}
                },
                {
                    "output_type": "display_data",
                    "data": {
                        "text/html": "STDOUT message(s) from external script: \nRows Read: 50000, Total Rows Processed: 50000, Total Chunk Time: 1.762 seconds\r\nRows Read: 20026, Total Rows Processed: 70026, Total Chunk Time: 0.649 seconds \r\nRows Read: 56, Total Rows Processed: 56, Total Chunk Time: 0.007 seconds \r\nRows Read: 50000, Total Rows Processed: 50000, Total Chunk Time: 1.788 seconds\r\nRows Read: 20026, Total Rows Processed: 70026, Total Chunk Time: 0.671 seconds \r\nRows Read: 66, Total Rows Processed: 66, Total Chunk Time: Less than .001 seconds \r\nRows Read: 50000, Total Rows Processed: 50000, Total Chunk Time: 1.790 seconds\r\nRows Read: 20026, Total Rows Processed: 70026, Total Chunk Time: 0.657 seconds \r\nRows Read: 50000, Total Rows Processed: 50000, Total Chunk Time: 1.866 seconds\r\nRows Read: 20026, Total Rows Processed: 70026, Total Chunk Time: 0.768 seconds \r\nRows Read: 50000, Total Rows Processed: 50000, Total Chunk Time: 1.758 seconds\r\nRows Read: 20026, Total Rows Processed: 70026, Total Chunk Time: 0.631 seconds \r"
                    },
                    "metadata": {}
                },
                {
                    "output_type": "display_data",
                    "data": {
                        "text/html": "STDOUT message(s) from external script: \nRows Read: 2, Total Rows Processed: 2, Total Chunk Time: Less than .001 seconds \r\nRows Read: 50000, Total Rows Processed: 50000, Total Chunk Time: 1.772 seconds\r\nRows Read: 20026, Total Rows Processed: 70026, Total Chunk Time: 0.646 seconds \r\nRows Read: 4, Total Rows Processed: 4, Total Chunk Time: 0.002 seconds \r\nRows Read: 50000, Total Rows Processed: 50000, Total Chunk Time: 1.764 seconds\r\nRows Read: 20026, Total Rows Processed: 70026, Total Chunk Time: 0.666 seconds \r\nRows Read: 8, Total Rows Processed: 8, Total Chunk Time: Less than .001 seconds \r\nRows Read: 50000, Total Rows Processed: 50000, Total Chunk Time: 1.769 seconds\r\nRows Read: 20026, Total Rows Processed: 70026, Total Chunk Time: 0.654 seconds \r\nRows Read: 16, Total Rows Processed: 16, Total Chunk Time: 0.002 seconds \r\nRows Read: 50000, Total Rows Processed: 50000, Total Chunk Time: 1.761 seconds\r\nRows Read: 20026, Total Rows Processed: 70026, Total Chunk Time: 0.643 seconds \r"
                    },
                    "metadata": {}
                },
                {
                    "output_type": "display_data",
                    "data": {
                        "text/html": "STDOUT message(s) from external script: \nRows Read: 30, Total Rows Processed: 30, Total Chunk Time: 0.008 seconds \r\nRows Read: 50000, Total Rows Processed: 50000, Total Chunk Time: 1.789 seconds\r\nRows Read: 20026, Total Rows Processed: 70026, Total Chunk Time: 0.643 seconds \r\nRows Read: 50, Total Rows Processed: 50, Total Chunk Time: 0.006 seconds \r\nRows Read: 50000, Total Rows Processed: 50000, Total Chunk Time: 1.757 seconds\r\nRows Read: 20026, Total Rows Processed: 70026, Total Chunk Time: 0.731 seconds \r\nRows Read: 64, Total Rows Processed: 64, Total Chunk Time: 0.006 seconds \r\nRows Read: 50000, Total Rows Processed: 50000, Total Chunk Time: 1.801 seconds\r\nRows Read: 20026, Total Rows Processed: 70026, Total Chunk Time: 0.660 seconds \r\nRows Read: 62, Total Rows Processed: 62, Total Chunk Time: 0.009 seconds \r\nRows Read: 50000, Total Rows Processed: 50000, Total Chunk Time: 1.807 seconds\r\nRows Read: 20026, Total Rows Processed: 70026, Total Chunk Time: 0.658 seconds \r"
                    },
                    "metadata": {}
                },
                {
                    "output_type": "display_data",
                    "data": {
                        "text/html": "STDOUT message(s) from external script: \nRows Read: 62, Total Rows Processed: 62, Total Chunk Time: 0.006 seconds \r\nRows Read: 50000, Total Rows Processed: 50000, Total Chunk Time: 1.897 seconds\r\nRows Read: 20026, Total Rows Processed: 70026, Total Chunk Time: 0.679 seconds \r\nRows Read: 60, Total Rows Processed: 60, Total Chunk Time: 0.003 seconds \r\nRows Read: 50000, Total Rows Processed: 50000, Total Chunk Time: 1.787 seconds\r\nRows Read: 20026, Total Rows Processed: 70026, Total Chunk Time: 0.646 seconds \r\n\r\nElapsed time for DForestEstimation: 1209.523 secs.\r\n\r\nElapsed time for BxDTreeBase: 1212.209 secs.\r\n \r\nRows Read: 1, Total Rows Processed: 1\r\nTotal Rows written: 1, Total time: 0.014\r\n, Total Chunk Time: 0.031 seconds \r"
                    },
                    "metadata": {}
                },
                {
                    "output_type": "display_data",
                    "data": {
                        "text/html": "Total execution time: 00:20:17.325"
                    },
                    "metadata": {}
                }
            ],
            "execution_count": 4
        },
        {
            "cell_type": "code",
            "source": [
                "select id, (datalength(value)/1024)/1024 as MB from RTS"
            ],
            "metadata": {
                "azdata_cell_guid": "f4f5b921-d774-41c1-a88d-8db9c6ff6c08"
            },
            "outputs": [
                {
                    "output_type": "display_data",
                    "data": {
                        "text/html": "(1 row affected)"
                    },
                    "metadata": {}
                },
                {
                    "output_type": "display_data",
                    "data": {
                        "text/html": "Total execution time: 00:00:00.010"
                    },
                    "metadata": {}
                },
                {
                    "output_type": "execute_result",
                    "execution_count": 8,
                    "data": {
                        "application/vnd.dataresource+json": {
                            "schema": {
                                "fields": [
                                    {
                                        "name": "id"
                                    },
                                    {
                                        "name": "MB"
                                    }
                                ]
                            },
                            "data": [
                                {
                                    "0": "RF",
                                    "1": "0"
                                }
                            ]
                        },
                        "text/html": "<table><tr><th>id</th><th>MB</th></tr><tr><td>RF</td><td>0</td></tr></table>"
                    },
                    "metadata": {}
                }
            ],
            "execution_count": 8
        },
        {
            "cell_type": "code",
            "source": [
                "--- Perform Real Time Scoring on previously trained models\r\n",
                "--- Use 'RF' for Random Forest, use 'GBT' for b_trees, use 'FT' for Fast Trees, or use 'NN' for Neural Network\r\n",
                "--- Results are written to RTS_Prediction\r\n",
                "\r\n",
                "--- NOTE: Run prepare_real_time_scoring.sql before running this script.\r\n",
                "\r\n",
                "Use Hospital_Py\r\n",
                "GO\r\n",
                "\r\n",
                "--- Real Time Scoring\r\n",
                "\r\n",
                "--\tGet the trained model\r\n",
                "DECLARE @model_name VARCHAR(3) = 'RF'\r\n",
                "DECLARE @model VARBINARY(max) = (SELECT value FROM [dbo].[RTS] WHERE id = @model_name);\t\t\r\n",
                "\r\n",
                "--- Real Time Scoring is meant for small scoring request, which is why we select the top 10 for this example.\r\n",
                "DECLARE @inputData VARCHAR(max);\r\n",
                "SET @inputData = 'SELECT TOP (10) ClaimClaimID, ClaimClaimStatusID, ClaimStatusDescription, StatesStateCode, LossTypeDescription, PolicyVersionAttributesFormType, \r\n",
                "\tPolicyVersionAttributesOccupancyType, PolicyVersionAttributesCoverageA, ClaimMoneyLosses, ClaimMoneyLAE, ClaimRoomsWithDamage, \r\n",
                "\tnumber_of_issues, lengthofstay\r\n",
                "FROM LoS WHERE \tClaimClaimID NOT IN (SELECT ClaimClaimID from Train_Id) ORDER BY ClaimClaimID';\r\n",
                "\r\n",
                "DECLARE @output_table TABLE(lengthofstay_Pred FLOAT);\r\n",
                "INSERT @output_table EXEC [dbo].[sp_rxPredict] @model = @model, @inputData = @inputData;\r\n",
                "DROP TABLE IF EXISTS RTS_PredictionBak;\r\n",
                "exec sp_rename 'RTS_Prediction', 'RTS_PredictionBak';\r\n",
                "SELECT * INTO RTS_Prediction FROM @output_table"
            ],
            "metadata": {
                "azdata_cell_guid": "179a7192-7cbc-4b96-983e-ebf454b0653d"
            },
            "outputs": [
                {
                    "output_type": "display_data",
                    "data": {
                        "text/html": "Commands completed successfully."
                    },
                    "metadata": {}
                },
                {
                    "output_type": "display_data",
                    "data": {
                        "text/html": "(10 rows affected)"
                    },
                    "metadata": {}
                },
                {
                    "output_type": "display_data",
                    "data": {
                        "text/html": "Caution: Changing any part of an object name could break scripts and stored procedures."
                    },
                    "metadata": {}
                },
                {
                    "output_type": "display_data",
                    "data": {
                        "text/html": "(10 rows affected)"
                    },
                    "metadata": {}
                },
                {
                    "output_type": "display_data",
                    "data": {
                        "text/html": "Total execution time: 00:00:00.216"
                    },
                    "metadata": {}
                }
            ],
            "execution_count": 22
        },
        {
            "cell_type": "code",
            "source": [
                "select top 10 ClaimClaimID, LengthOfStay from LoS Order by ClaimClaimID\n",
                "select * from RTS_Prediction"
            ],
            "metadata": {
                "azdata_cell_guid": "cd8a5e83-5a12-413f-aeff-f2c81aad2b9f"
            },
            "outputs": [
                {
                    "output_type": "display_data",
                    "data": {
                        "text/html": "(10 rows affected)"
                    },
                    "metadata": {}
                },
                {
                    "output_type": "display_data",
                    "data": {
                        "text/html": "(10 rows affected)"
                    },
                    "metadata": {}
                },
                {
                    "output_type": "display_data",
                    "data": {
                        "text/html": "Total execution time: 00:00:00.013"
                    },
                    "metadata": {}
                },
                {
                    "output_type": "execute_result",
                    "execution_count": 32,
                    "data": {
                        "application/vnd.dataresource+json": {
                            "schema": {
                                "fields": [
                                    {
                                        "name": "ClaimClaimID"
                                    },
                                    {
                                        "name": "LengthOfStay"
                                    }
                                ]
                            },
                            "data": [
                                {
                                    "0": "402607",
                                    "1": "16"
                                },
                                {
                                    "0": "402619",
                                    "1": "19"
                                },
                                {
                                    "0": "402627",
                                    "1": "25"
                                },
                                {
                                    "0": "402647",
                                    "1": "16"
                                },
                                {
                                    "0": "402658",
                                    "1": "14"
                                },
                                {
                                    "0": "402660",
                                    "1": "16"
                                },
                                {
                                    "0": "402663",
                                    "1": "5"
                                },
                                {
                                    "0": "402665",
                                    "1": "5"
                                },
                                {
                                    "0": "402666",
                                    "1": "5"
                                },
                                {
                                    "0": "402667",
                                    "1": "17"
                                }
                            ]
                        },
                        "text/html": "<table><tr><th>ClaimClaimID</th><th>LengthOfStay</th></tr><tr><td>402607</td><td>16</td></tr><tr><td>402619</td><td>19</td></tr><tr><td>402627</td><td>25</td></tr><tr><td>402647</td><td>16</td></tr><tr><td>402658</td><td>14</td></tr><tr><td>402660</td><td>16</td></tr><tr><td>402663</td><td>5</td></tr><tr><td>402665</td><td>5</td></tr><tr><td>402666</td><td>5</td></tr><tr><td>402667</td><td>17</td></tr></table>"
                    },
                    "metadata": {}
                },
                {
                    "output_type": "execute_result",
                    "execution_count": 32,
                    "data": {
                        "application/vnd.dataresource+json": {
                            "schema": {
                                "fields": [
                                    {
                                        "name": "lengthofstay_Pred"
                                    }
                                ]
                            },
                            "data": [
                                {
                                    "0": "24.000814132212433"
                                },
                                {
                                    "0": "281.10619473986014"
                                },
                                {
                                    "0": "204.47810635851164"
                                },
                                {
                                    "0": "53.38754342384557"
                                },
                                {
                                    "0": "57.4645801226574"
                                },
                                {
                                    "0": "475.1654887397811"
                                },
                                {
                                    "0": "239.28146462247355"
                                },
                                {
                                    "0": "45.95507795975456"
                                },
                                {
                                    "0": "57.4645801226574"
                                },
                                {
                                    "0": "305.4491891191269"
                                }
                            ]
                        },
                        "text/html": "<table><tr><th>lengthofstay_Pred</th></tr><tr><td>24.000814132212433</td></tr><tr><td>281.10619473986014</td></tr><tr><td>204.47810635851164</td></tr><tr><td>53.38754342384557</td></tr><tr><td>57.4645801226574</td></tr><tr><td>475.1654887397811</td></tr><tr><td>239.28146462247355</td></tr><tr><td>45.95507795975456</td></tr><tr><td>57.4645801226574</td></tr><tr><td>305.4491891191269</td></tr></table>"
                    },
                    "metadata": {}
                }
            ],
            "execution_count": null
        },
        {
            "cell_type": "code",
            "source": [
                "SELECT TOP 10 * FROM LoS WHERE ClaimClaimID NOT IN (SELECT ClaimClaimID from Train_Id) ORDER BY ClaimClaimID"
            ],
            "metadata": {
                "azdata_cell_guid": "4c8fd888-34c2-4371-9859-be05d764fbd3"
            },
            "outputs": [
                {
                    "output_type": "display_data",
                    "data": {
                        "text/html": "(10 rows affected)"
                    },
                    "metadata": {}
                },
                {
                    "output_type": "display_data",
                    "data": {
                        "text/html": "Total execution time: 00:00:00.121"
                    },
                    "metadata": {}
                },
                {
                    "output_type": "execute_result",
                    "execution_count": 10,
                    "data": {
                        "application/vnd.dataresource+json": {
                            "schema": {
                                "fields": [
                                    {
                                        "name": "ClaimClaimID"
                                    },
                                    {
                                        "name": "ClaimReportedDate"
                                    },
                                    {
                                        "name": "ClaimClaimStatusID"
                                    },
                                    {
                                        "name": "ClaimStatusDescription"
                                    },
                                    {
                                        "name": "StatesStateCode"
                                    },
                                    {
                                        "name": "LossTypeDescription"
                                    },
                                    {
                                        "name": "PolicyVersionAttributesFormType"
                                    },
                                    {
                                        "name": "PolicyVersionAttributesOccupancyType"
                                    },
                                    {
                                        "name": "ClaimMoneyReserve"
                                    },
                                    {
                                        "name": "PolicyVersionAttributesCoverageA"
                                    },
                                    {
                                        "name": "ClaimMoneyLosses"
                                    },
                                    {
                                        "name": "ClaimMoneyLAE"
                                    },
                                    {
                                        "name": "ClaimRoomsWithDamage"
                                    },
                                    {
                                        "name": "number_of_issues"
                                    },
                                    {
                                        "name": "ClaimDateClosed"
                                    },
                                    {
                                        "name": "lengthofstay"
                                    }
                                ]
                            },
                            "data": [
                                {
                                    "0": "402660",
                                    "1": "2018-02-15",
                                    "2": "2",
                                    "3": "Closed",
                                    "4": "FL",
                                    "5": "Loss Assessment",
                                    "6": "HO6",
                                    "7": "Owner",
                                    "8": "0.00",
                                    "9": "-0.47437379231860405",
                                    "10": "-0.4235474435458612",
                                    "11": "-0.3708139714876188",
                                    "12": "-0.7552492612632524",
                                    "13": "0",
                                    "14": "2018-03-03",
                                    "15": "16"
                                },
                                {
                                    "0": "402663",
                                    "1": "2018-02-15",
                                    "2": "2",
                                    "3": "Closed",
                                    "4": "FL",
                                    "5": "Water Damage - Weather Related",
                                    "6": "HO3",
                                    "7": "Owner",
                                    "8": "0.00",
                                    "9": "0.2791314554507051",
                                    "10": "0.6279571940982316",
                                    "11": "0.3609464911468376",
                                    "12": "-0.7552492612632524",
                                    "13": "0",
                                    "14": "2018-02-20",
                                    "15": "5"
                                },
                                {
                                    "0": "402674",
                                    "1": "2018-02-16",
                                    "2": "2",
                                    "3": "Closed",
                                    "4": "FL",
                                    "5": "Water Damage - Non Weather Related",
                                    "6": "HO6",
                                    "7": "Tenant",
                                    "8": "0.00",
                                    "9": "-0.49472284975383884",
                                    "10": "-0.3411310152277759",
                                    "11": "-0.3212343237103772",
                                    "12": "-0.7552492612632524",
                                    "13": "0",
                                    "14": "2018-03-15",
                                    "15": "27"
                                },
                                {
                                    "0": "402682",
                                    "1": "2018-02-16",
                                    "2": "2",
                                    "3": "Closed",
                                    "4": "PA",
                                    "5": "All Other Physical Damage",
                                    "6": "HO3",
                                    "7": "Owner",
                                    "8": "0.00",
                                    "9": "1.8914523930281508",
                                    "10": "-0.29414564653094655",
                                    "11": "-0.3043935271879434",
                                    "12": "-0.7552492612632524",
                                    "13": "0",
                                    "14": "2018-02-28",
                                    "15": "12"
                                },
                                {
                                    "0": "402685",
                                    "1": "2018-02-16",
                                    "2": "2",
                                    "3": "Closed",
                                    "4": "FL",
                                    "5": "Loss Assessment",
                                    "6": "HO6",
                                    "7": "Owner",
                                    "8": "0.00",
                                    "9": "-0.5354209646243084",
                                    "10": "-0.3640850311065803",
                                    "11": "-0.255113842707539",
                                    "12": "-0.7552492612632524",
                                    "13": "0",
                                    "14": "2018-03-01",
                                    "15": "13"
                                },
                                {
                                    "0": "402686",
                                    "1": "2018-02-16",
                                    "2": "2",
                                    "3": "Closed",
                                    "4": "FL",
                                    "5": "Water Damage - Non Weather Related",
                                    "6": "HO3",
                                    "7": "Owner",
                                    "8": "0.00",
                                    "9": "0.48203190713743127",
                                    "10": "8.956154733195175",
                                    "11": "7.430288637459035",
                                    "12": "-0.7552492612632524",
                                    "13": "0",
                                    "14": "2020-10-24",
                                    "15": "981"
                                },
                                {
                                    "0": "402688",
                                    "1": "2018-02-16",
                                    "2": "2",
                                    "3": "Closed",
                                    "4": "FL",
                                    "5": "Water Damage - Non Weather Related",
                                    "6": "HO3",
                                    "7": "Owner",
                                    "8": "0.00",
                                    "9": "0.1779885003746141",
                                    "10": "0.3494639181647901",
                                    "11": "0.5190271485800652",
                                    "12": "-0.7552492612632524",
                                    "13": "0",
                                    "14": "2019-10-07",
                                    "15": "598"
                                },
                                {
                                    "0": "402690",
                                    "1": "2018-02-16",
                                    "2": "2",
                                    "3": "Closed",
                                    "4": "MA",
                                    "5": "Water Damage - Non Weather Related",
                                    "6": "HO3",
                                    "7": "Owner",
                                    "8": "0.00",
                                    "9": "0.683251526680007",
                                    "10": "-0.355742302173625",
                                    "11": "-0.3506735786999753",
                                    "12": "-0.7552492612632524",
                                    "13": "0",
                                    "14": "2018-04-16",
                                    "15": "59"
                                },
                                {
                                    "0": "402691",
                                    "1": "2018-02-16",
                                    "2": "2",
                                    "3": "Closed",
                                    "4": "FL",
                                    "5": "Loss Assessment",
                                    "6": "HO6",
                                    "7": "Owner",
                                    "8": "0.00",
                                    "9": "-0.47437379231860405",
                                    "10": "-0.3640850311065803",
                                    "11": "-0.255113842707539",
                                    "12": "-0.7552492612632524",
                                    "13": "0",
                                    "14": "2018-03-06",
                                    "15": "18"
                                },
                                {
                                    "0": "402695",
                                    "1": "2018-02-16",
                                    "2": "2",
                                    "3": "Closed",
                                    "4": "FL",
                                    "5": "Wind",
                                    "6": "HO3",
                                    "7": "Owner",
                                    "8": "0.00",
                                    "9": "-0.06252921888688706",
                                    "10": "0.7686230016418365",
                                    "11": "1.5084989350972622",
                                    "12": "-0.7552492612632524",
                                    "13": "0",
                                    "14": "2019-01-19",
                                    "15": "337"
                                }
                            ]
                        },
                        "text/html": "<table><tr><th>ClaimClaimID</th><th>ClaimReportedDate</th><th>ClaimClaimStatusID</th><th>ClaimStatusDescription</th><th>StatesStateCode</th><th>LossTypeDescription</th><th>PolicyVersionAttributesFormType</th><th>PolicyVersionAttributesOccupancyType</th><th>ClaimMoneyReserve</th><th>PolicyVersionAttributesCoverageA</th><th>ClaimMoneyLosses</th><th>ClaimMoneyLAE</th><th>ClaimRoomsWithDamage</th><th>number_of_issues</th><th>ClaimDateClosed</th><th>lengthofstay</th></tr><tr><td>402660</td><td>2018-02-15</td><td>2</td><td>Closed</td><td>FL</td><td>Loss Assessment</td><td>HO6</td><td>Owner</td><td>0.00</td><td>-0.47437379231860405</td><td>-0.4235474435458612</td><td>-0.3708139714876188</td><td>-0.7552492612632524</td><td>0</td><td>2018-03-03</td><td>16</td></tr><tr><td>402663</td><td>2018-02-15</td><td>2</td><td>Closed</td><td>FL</td><td>Water Damage - Weather Related</td><td>HO3</td><td>Owner</td><td>0.00</td><td>0.2791314554507051</td><td>0.6279571940982316</td><td>0.3609464911468376</td><td>-0.7552492612632524</td><td>0</td><td>2018-02-20</td><td>5</td></tr><tr><td>402674</td><td>2018-02-16</td><td>2</td><td>Closed</td><td>FL</td><td>Water Damage - Non Weather Related</td><td>HO6</td><td>Tenant</td><td>0.00</td><td>-0.49472284975383884</td><td>-0.3411310152277759</td><td>-0.3212343237103772</td><td>-0.7552492612632524</td><td>0</td><td>2018-03-15</td><td>27</td></tr><tr><td>402682</td><td>2018-02-16</td><td>2</td><td>Closed</td><td>PA</td><td>All Other Physical Damage</td><td>HO3</td><td>Owner</td><td>0.00</td><td>1.8914523930281508</td><td>-0.29414564653094655</td><td>-0.3043935271879434</td><td>-0.7552492612632524</td><td>0</td><td>2018-02-28</td><td>12</td></tr><tr><td>402685</td><td>2018-02-16</td><td>2</td><td>Closed</td><td>FL</td><td>Loss Assessment</td><td>HO6</td><td>Owner</td><td>0.00</td><td>-0.5354209646243084</td><td>-0.3640850311065803</td><td>-0.255113842707539</td><td>-0.7552492612632524</td><td>0</td><td>2018-03-01</td><td>13</td></tr><tr><td>402686</td><td>2018-02-16</td><td>2</td><td>Closed</td><td>FL</td><td>Water Damage - Non Weather Related</td><td>HO3</td><td>Owner</td><td>0.00</td><td>0.48203190713743127</td><td>8.956154733195175</td><td>7.430288637459035</td><td>-0.7552492612632524</td><td>0</td><td>2020-10-24</td><td>981</td></tr><tr><td>402688</td><td>2018-02-16</td><td>2</td><td>Closed</td><td>FL</td><td>Water Damage - Non Weather Related</td><td>HO3</td><td>Owner</td><td>0.00</td><td>0.1779885003746141</td><td>0.3494639181647901</td><td>0.5190271485800652</td><td>-0.7552492612632524</td><td>0</td><td>2019-10-07</td><td>598</td></tr><tr><td>402690</td><td>2018-02-16</td><td>2</td><td>Closed</td><td>MA</td><td>Water Damage - Non Weather Related</td><td>HO3</td><td>Owner</td><td>0.00</td><td>0.683251526680007</td><td>-0.355742302173625</td><td>-0.3506735786999753</td><td>-0.7552492612632524</td><td>0</td><td>2018-04-16</td><td>59</td></tr><tr><td>402691</td><td>2018-02-16</td><td>2</td><td>Closed</td><td>FL</td><td>Loss Assessment</td><td>HO6</td><td>Owner</td><td>0.00</td><td>-0.47437379231860405</td><td>-0.3640850311065803</td><td>-0.255113842707539</td><td>-0.7552492612632524</td><td>0</td><td>2018-03-06</td><td>18</td></tr><tr><td>402695</td><td>2018-02-16</td><td>2</td><td>Closed</td><td>FL</td><td>Wind</td><td>HO3</td><td>Owner</td><td>0.00</td><td>-0.06252921888688706</td><td>0.7686230016418365</td><td>1.5084989350972622</td><td>-0.7552492612632524</td><td>0</td><td>2019-01-19</td><td>337</td></tr></table>"
                    },
                    "metadata": {}
                }
            ],
            "execution_count": 10
        },
        {
            "cell_type": "code",
            "source": [
                "exec do_native_predict 402690"
            ],
            "metadata": {
                "azdata_cell_guid": "bfff85a7-6c51-4959-9c77-713a5f30c932"
            },
            "outputs": [
                {
                    "output_type": "display_data",
                    "data": {
                        "text/html": "(1 row affected)"
                    },
                    "metadata": {}
                },
                {
                    "output_type": "display_data",
                    "data": {
                        "text/html": "(1 row affected)"
                    },
                    "metadata": {}
                },
                {
                    "output_type": "display_data",
                    "data": {
                        "text/html": "Elapsed Time for 1 row scoring is : 13333 microseconds."
                    },
                    "metadata": {}
                },
                {
                    "output_type": "display_data",
                    "data": {
                        "text/html": "Total execution time: 00:00:00.053"
                    },
                    "metadata": {}
                },
                {
                    "output_type": "execute_result",
                    "execution_count": 19,
                    "data": {
                        "application/vnd.dataresource+json": {
                            "schema": {
                                "fields": [
                                    {
                                        "name": "LengthOfStay_Pred"
                                    }
                                ]
                            },
                            "data": [
                                {
                                    "0": "45.95507795975456"
                                }
                            ]
                        },
                        "text/html": "<table><tr><th>LengthOfStay_Pred</th></tr><tr><td>45.95507795975456</td></tr></table>"
                    },
                    "metadata": {}
                }
            ],
            "execution_count": 19
        },
        {
            "cell_type": "code",
            "source": [
                "SELECT * FROM LoS WHERE ClaimClaimID =402695"
            ],
            "metadata": {
                "azdata_cell_guid": "1d197238-524b-42d8-875b-3860916b92bf"
            },
            "outputs": [
{
    "output_type": "display_data",
    "data": {
        "text/html": "(1 row affected)"
    },
    "metadata": {}
}, {
    "output_type": "display_data",
    "data": {
        "text/html": "Total execution time: 00:00:00.037"
    },
    "metadata": {}
}, {
    "output_type": "execute_result",
    "metadata": {},
    "execution_count": 3,
    "data": {
        "application/vnd.dataresource+json": {
            "schema": {
                "fields": [
                    {
                        "name": "ClaimClaimID"
                    },
                    {
                        "name": "ClaimReportedDate"
                    },
                    {
                        "name": "ClaimClaimStatusID"
                    },
                    {
                        "name": "ClaimStatusDescription"
                    },
                    {
                        "name": "StatesStateCode"
                    },
                    {
                        "name": "LossTypeDescription"
                    },
                    {
                        "name": "PolicyVersionAttributesFormType"
                    },
                    {
                        "name": "PolicyVersionAttributesOccupancyType"
                    },
                    {
                        "name": "ClaimMoneyReserve"
                    },
                    {
                        "name": "PolicyVersionAttributesCoverageA"
                    },
                    {
                        "name": "ClaimMoneyLosses"
                    },
                    {
                        "name": "ClaimMoneyLAE"
                    },
                    {
                        "name": "ClaimRoomsWithDamage"
                    },
                    {
                        "name": "number_of_issues"
                    },
                    {
                        "name": "ClaimDateClosed"
                    },
                    {
                        "name": "lengthofstay"
                    }
                ]
            },
            "data": [
                {
                    "0": "402695",
                    "1": "2018-02-16",
                    "2": "2",
                    "3": "Closed",
                    "4": "FL",
                    "5": "Wind",
                    "6": "HO3",
                    "7": "Owner",
                    "8": "0.00",
                    "9": "-0.06252921888688706",
                    "10": "0.7686230016418365",
                    "11": "1.5084989350972622",
                    "12": "-0.7552492612632524",
                    "13": "0",
                    "14": "2019-01-19",
                    "15": "337"
                }
            ]
        },
        "text/html": [
            "<table>",
            "<tr><th>ClaimClaimID</th><th>ClaimReportedDate</th><th>ClaimClaimStatusID</th><th>ClaimStatusDescription</th><th>StatesStateCode</th><th>LossTypeDescription</th><th>PolicyVersionAttributesFormType</th><th>PolicyVersionAttributesOccupancyType</th><th>ClaimMoneyReserve</th><th>PolicyVersionAttributesCoverageA</th><th>ClaimMoneyLosses</th><th>ClaimMoneyLAE</th><th>ClaimRoomsWithDamage</th><th>number_of_issues</th><th>ClaimDateClosed</th><th>lengthofstay</th></tr>",
            "<tr><td>402695</td><td>2018-02-16</td><td>2</td><td>Closed</td><td>FL</td><td>Wind</td><td>HO3</td><td>Owner</td><td>0.00</td><td>-0.06252921888688706</td><td>0.7686230016418365</td><td>1.5084989350972622</td><td>-0.7552492612632524</td><td>0</td><td>2019-01-19</td><td>337</td></tr>",
            "</table>"
        ]
    }
}
],
            "execution_count": null
        }
    ]
}